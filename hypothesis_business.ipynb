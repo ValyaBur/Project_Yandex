{
 "cells": [
  {
   "cell_type": "markdown",
   "metadata": {},
   "source": [
    "# Принятие решений в бизнесе"
   ]
  },
  {
   "cell_type": "markdown",
   "metadata": {},
   "source": [
    "**Описание проекта**\n",
    "\n",
    "В крупном интернет-магазине, совместно с отделом маркетинга подготовлен список из 9 гипотез для увеличения выручки.\n",
    "Необходимо приоритизировать имеющиеся гипотезы, запустить A/B-тест и проанализировать результаты.\n",
    "<a id='start'></a>"
   ]
  },
  {
   "cell_type": "markdown",
   "metadata": {},
   "source": [
    "**План работы**\n",
    "\n",
    "1. <a href='#step_1'>Приоритизация гипотез</a>\n",
    "  * <a href='#step_1.1'>Зарузить данные</a>\n",
    "  * <a href='#step_1.2'>Задача: Применить фреймворк ICE для приоритизации гипотез</a>\n",
    "  * <a href='#step_1.3'>Задача: Применить фреймворк RICE для приоритизации гипотез</a>\n",
    "  * <a href='#step_1.4'>Задача: Посмотреть, как изменилась приоритизация гипотез при применении RICE вместо ICE</a>\n",
    "\n",
    "\n",
    "2. <a href='#step_2'>Анализ A/B-теста</a>  \n",
    "\n",
    "  * <a href='#step_2.1'>Построить график кумулятивной выручки по группам</a>\n",
    "  * <a href='#step_2.2'>Построить график кумулятивного среднего чека по группам</a>\n",
    "  * <a href='#step_2.3'>Построить график относительного изменения кумулятивного среднего чека группы B к группе A</a>\n",
    "  * <a href='#step_2.4'>Построить график кумулятивного среднего количества заказов на посетителя по группам</a>\n",
    "  * <a href='#step_2.5'>Построить график относительного изменения кумулятивного среднего количества заказов на посетителя группы B к группе A</a>\n",
    "  * <a href='#step_2.6'>Построить точечный график количества заказов по пользователям</a>\n",
    "  * <a href='#step_2.7'>Посчитать 95-й и 99-й перцентили количества заказов на пользователя</a>\n",
    "  * <a href='#step_2.8'>Построить точечный график стоимостей заказов</a>  \n",
    "  * <a href='#step_2.9'>Посчитать 95-й и 99-й перцентили стоимости заказов</a>  \n",
    "  * <a href='#step_2.10'>Посчитать статистическую значимость различий в среднем количестве заказов на посетителя между группами по «сырым» данным</a>\n",
    "  * <a href='#step_2.11'>Посчитать статистическую значимость различий в среднем чеке заказа между группами по «сырым» данным</a>\n",
    "  * <a href='#step_2.12'>Посчитать статистическую значимость различий в среднем количестве заказов на посетителя между группамипо «очищенным» данным</a>    \n",
    "  * <a href='#step_2.13'>Посчитать статистическую значимость различий в среднем чеке заказа между группами по «очищенным» данным</a>\n",
    "  * <a href='#step_2.end'>Вывод  по результатам теста</a>\n",
    "    \n",
    "3. <a href='#step_3'>Общий вывод</a>"
   ]
  },
  {
   "cell_type": "markdown",
   "metadata": {},
   "source": [
    "<a id=\"step_1\"></a>\n",
    "##  Приоритизация гипотез\n"
   ]
  },
  {
   "cell_type": "code",
   "execution_count": 1,
   "metadata": {},
   "outputs": [],
   "source": [
    "import pandas as pd\n",
    "from scipy import stats as st\n",
    "import numpy as np\n",
    "import math as mth\n",
    "import datetime as dt\n",
    "import matplotlib.pyplot as plt"
   ]
  },
  {
   "cell_type": "markdown",
   "metadata": {},
   "source": [
    "<a id=\"step_1.1\"></a>\n",
    "###  Загрузить данные\n",
    "\n",
    "В файле hypothesis.csv 9 гипотез по увеличению выручки интернет-магазина с указанными параметрами Reach, Impact, Confidence, Effort.\n"
   ]
  },
  {
   "cell_type": "code",
   "execution_count": 2,
   "metadata": {},
   "outputs": [],
   "source": [
    "hypothesis = pd.read_csv('/datasets/hypothesis.csv')"
   ]
  },
  {
   "cell_type": "code",
   "execution_count": 3,
   "metadata": {},
   "outputs": [
    {
     "name": "stdout",
     "output_type": "stream",
     "text": [
      "<class 'pandas.core.frame.DataFrame'>\n",
      "RangeIndex: 9 entries, 0 to 8\n",
      "Data columns (total 5 columns):\n",
      " #   Column      Non-Null Count  Dtype \n",
      "---  ------      --------------  ----- \n",
      " 0   Hypothesis  9 non-null      object\n",
      " 1   Reach       9 non-null      int64 \n",
      " 2   Impact      9 non-null      int64 \n",
      " 3   Confidence  9 non-null      int64 \n",
      " 4   Efforts     9 non-null      int64 \n",
      "dtypes: int64(4), object(1)\n",
      "memory usage: 488.0+ bytes\n"
     ]
    }
   ],
   "source": [
    "hypothesis.info()"
   ]
  },
  {
   "cell_type": "markdown",
   "metadata": {},
   "source": [
    "Файл /datasets/hypothesis.csv содержит: \n",
    "* Hypothesis — краткое описание гипотезы;\n",
    "* Reach — охват пользователей по 10-балльной шкале;\n",
    "* Impact — влияние на пользователей по 10-балльной шкале;\n",
    "* Confidence — уверенность в гипотезе по 10-балльной шкале;\n",
    "* Efforts — затраты ресурсов на проверку гипотезы по 10-балльной шкале. Чем больше значение Efforts, тем дороже проверка * гипотезы."
   ]
  },
  {
   "cell_type": "markdown",
   "metadata": {},
   "source": [
    "Приведем название столбцов к нижнему регистру, для удобства"
   ]
  },
  {
   "cell_type": "code",
   "execution_count": 4,
   "metadata": {
    "scrolled": true
   },
   "outputs": [
    {
     "data": {
      "text/html": [
       "<div>\n",
       "<style scoped>\n",
       "    .dataframe tbody tr th:only-of-type {\n",
       "        vertical-align: middle;\n",
       "    }\n",
       "\n",
       "    .dataframe tbody tr th {\n",
       "        vertical-align: top;\n",
       "    }\n",
       "\n",
       "    .dataframe thead th {\n",
       "        text-align: right;\n",
       "    }\n",
       "</style>\n",
       "<table border=\"1\" class=\"dataframe\">\n",
       "  <thead>\n",
       "    <tr style=\"text-align: right;\">\n",
       "      <th></th>\n",
       "      <th>hypothesis</th>\n",
       "      <th>reach</th>\n",
       "      <th>impact</th>\n",
       "      <th>confidence</th>\n",
       "      <th>efforts</th>\n",
       "    </tr>\n",
       "  </thead>\n",
       "  <tbody>\n",
       "    <tr>\n",
       "      <th>0</th>\n",
       "      <td>Добавить два новых канала привлечения трафика,...</td>\n",
       "      <td>3</td>\n",
       "      <td>10</td>\n",
       "      <td>8</td>\n",
       "      <td>6</td>\n",
       "    </tr>\n",
       "    <tr>\n",
       "      <th>1</th>\n",
       "      <td>Запустить собственную службу доставки, что сок...</td>\n",
       "      <td>2</td>\n",
       "      <td>5</td>\n",
       "      <td>4</td>\n",
       "      <td>10</td>\n",
       "    </tr>\n",
       "    <tr>\n",
       "      <th>2</th>\n",
       "      <td>Добавить блоки рекомендаций товаров на сайт ин...</td>\n",
       "      <td>8</td>\n",
       "      <td>3</td>\n",
       "      <td>7</td>\n",
       "      <td>3</td>\n",
       "    </tr>\n",
       "    <tr>\n",
       "      <th>3</th>\n",
       "      <td>Изменить структура категорий, что увеличит кон...</td>\n",
       "      <td>8</td>\n",
       "      <td>3</td>\n",
       "      <td>3</td>\n",
       "      <td>8</td>\n",
       "    </tr>\n",
       "    <tr>\n",
       "      <th>4</th>\n",
       "      <td>Изменить цвет фона главной страницы, чтобы уве...</td>\n",
       "      <td>3</td>\n",
       "      <td>1</td>\n",
       "      <td>1</td>\n",
       "      <td>1</td>\n",
       "    </tr>\n",
       "  </tbody>\n",
       "</table>\n",
       "</div>"
      ],
      "text/plain": [
       "                                          hypothesis  reach  impact  \\\n",
       "0  Добавить два новых канала привлечения трафика,...      3      10   \n",
       "1  Запустить собственную службу доставки, что сок...      2       5   \n",
       "2  Добавить блоки рекомендаций товаров на сайт ин...      8       3   \n",
       "3  Изменить структура категорий, что увеличит кон...      8       3   \n",
       "4  Изменить цвет фона главной страницы, чтобы уве...      3       1   \n",
       "\n",
       "   confidence  efforts  \n",
       "0           8        6  \n",
       "1           4       10  \n",
       "2           7        3  \n",
       "3           3        8  \n",
       "4           1        1  "
      ]
     },
     "execution_count": 4,
     "metadata": {},
     "output_type": "execute_result"
    }
   ],
   "source": [
    "hypothesis.columns = [c.lower() for c in hypothesis.columns]\n",
    "hypothesis.head()"
   ]
  },
  {
   "cell_type": "markdown",
   "metadata": {},
   "source": [
    "Отобразим полное описание гипотез"
   ]
  },
  {
   "cell_type": "code",
   "execution_count": 5,
   "metadata": {},
   "outputs": [
    {
     "data": {
      "text/html": [
       "<div>\n",
       "<style scoped>\n",
       "    .dataframe tbody tr th:only-of-type {\n",
       "        vertical-align: middle;\n",
       "    }\n",
       "\n",
       "    .dataframe tbody tr th {\n",
       "        vertical-align: top;\n",
       "    }\n",
       "\n",
       "    .dataframe thead th {\n",
       "        text-align: right;\n",
       "    }\n",
       "</style>\n",
       "<table border=\"1\" class=\"dataframe\">\n",
       "  <thead>\n",
       "    <tr style=\"text-align: right;\">\n",
       "      <th></th>\n",
       "      <th>hypothesis</th>\n",
       "      <th>reach</th>\n",
       "      <th>impact</th>\n",
       "      <th>confidence</th>\n",
       "      <th>efforts</th>\n",
       "    </tr>\n",
       "  </thead>\n",
       "  <tbody>\n",
       "    <tr>\n",
       "      <th>0</th>\n",
       "      <td>Добавить два новых канала привлечения трафика, что позволит привлекать на 30% больше пользователей</td>\n",
       "      <td>3</td>\n",
       "      <td>10</td>\n",
       "      <td>8</td>\n",
       "      <td>6</td>\n",
       "    </tr>\n",
       "    <tr>\n",
       "      <th>1</th>\n",
       "      <td>Запустить собственную службу доставки, что сократит срок доставки заказов</td>\n",
       "      <td>2</td>\n",
       "      <td>5</td>\n",
       "      <td>4</td>\n",
       "      <td>10</td>\n",
       "    </tr>\n",
       "    <tr>\n",
       "      <th>2</th>\n",
       "      <td>Добавить блоки рекомендаций товаров на сайт интернет магазина, чтобы повысить конверсию и средний чек заказа</td>\n",
       "      <td>8</td>\n",
       "      <td>3</td>\n",
       "      <td>7</td>\n",
       "      <td>3</td>\n",
       "    </tr>\n",
       "    <tr>\n",
       "      <th>3</th>\n",
       "      <td>Изменить структура категорий, что увеличит конверсию, т.к. пользователи быстрее найдут нужный товар</td>\n",
       "      <td>8</td>\n",
       "      <td>3</td>\n",
       "      <td>3</td>\n",
       "      <td>8</td>\n",
       "    </tr>\n",
       "    <tr>\n",
       "      <th>4</th>\n",
       "      <td>Изменить цвет фона главной страницы, чтобы увеличить вовлеченность пользователей</td>\n",
       "      <td>3</td>\n",
       "      <td>1</td>\n",
       "      <td>1</td>\n",
       "      <td>1</td>\n",
       "    </tr>\n",
       "    <tr>\n",
       "      <th>5</th>\n",
       "      <td>Добавить страницу отзывов клиентов о магазине, что позволит увеличить количество заказов</td>\n",
       "      <td>3</td>\n",
       "      <td>2</td>\n",
       "      <td>2</td>\n",
       "      <td>3</td>\n",
       "    </tr>\n",
       "    <tr>\n",
       "      <th>6</th>\n",
       "      <td>Показать на главной странице баннеры с актуальными акциями и распродажами, чтобы увеличить конверсию</td>\n",
       "      <td>5</td>\n",
       "      <td>3</td>\n",
       "      <td>8</td>\n",
       "      <td>3</td>\n",
       "    </tr>\n",
       "    <tr>\n",
       "      <th>7</th>\n",
       "      <td>Добавить форму подписки на все основные страницы, чтобы собрать базу клиентов для email-рассылок</td>\n",
       "      <td>10</td>\n",
       "      <td>7</td>\n",
       "      <td>8</td>\n",
       "      <td>5</td>\n",
       "    </tr>\n",
       "    <tr>\n",
       "      <th>8</th>\n",
       "      <td>Запустить акцию, дающую скидку на товар в день рождения</td>\n",
       "      <td>1</td>\n",
       "      <td>9</td>\n",
       "      <td>9</td>\n",
       "      <td>5</td>\n",
       "    </tr>\n",
       "  </tbody>\n",
       "</table>\n",
       "</div>"
      ],
      "text/plain": [
       "                                                                                                     hypothesis  \\\n",
       "0            Добавить два новых канала привлечения трафика, что позволит привлекать на 30% больше пользователей   \n",
       "1                                     Запустить собственную службу доставки, что сократит срок доставки заказов   \n",
       "2  Добавить блоки рекомендаций товаров на сайт интернет магазина, чтобы повысить конверсию и средний чек заказа   \n",
       "3           Изменить структура категорий, что увеличит конверсию, т.к. пользователи быстрее найдут нужный товар   \n",
       "4                              Изменить цвет фона главной страницы, чтобы увеличить вовлеченность пользователей   \n",
       "5                      Добавить страницу отзывов клиентов о магазине, что позволит увеличить количество заказов   \n",
       "6          Показать на главной странице баннеры с актуальными акциями и распродажами, чтобы увеличить конверсию   \n",
       "7              Добавить форму подписки на все основные страницы, чтобы собрать базу клиентов для email-рассылок   \n",
       "8                                                       Запустить акцию, дающую скидку на товар в день рождения   \n",
       "\n",
       "   reach  impact  confidence  efforts  \n",
       "0      3      10           8        6  \n",
       "1      2       5           4       10  \n",
       "2      8       3           7        3  \n",
       "3      8       3           3        8  \n",
       "4      3       1           1        1  \n",
       "5      3       2           2        3  \n",
       "6      5       3           8        3  \n",
       "7     10       7           8        5  \n",
       "8      1       9           9        5  "
      ]
     },
     "execution_count": 5,
     "metadata": {},
     "output_type": "execute_result"
    }
   ],
   "source": [
    "pd.set_option('display.max_colwidth', None)\n",
    "hypothesis"
   ]
  },
  {
   "cell_type": "code",
   "execution_count": 6,
   "metadata": {},
   "outputs": [],
   "source": [
    "#Вернем все обратно, чтобы не загромождать таблицы\n",
    "\n",
    "pd.reset_option('display',silent=True)\n"
   ]
  },
  {
   "cell_type": "markdown",
   "metadata": {},
   "source": [
    "<a href='#start'>Вернуться к оглавлению</a>"
   ]
  },
  {
   "cell_type": "markdown",
   "metadata": {},
   "source": [
    "<a id=\"step_1.2\"></a>\n",
    "###  Задача: Применить фреймворк ICE для приоритизации гипотез"
   ]
  },
  {
   "cell_type": "code",
   "execution_count": 7,
   "metadata": {},
   "outputs": [
    {
     "name": "stdout",
     "output_type": "stream",
     "text": [
      "                                          hypothesis    ice\n",
      "8  Запустить акцию, дающую скидку на товар в день...  16.20\n",
      "0  Добавить два новых канала привлечения трафика,...  13.33\n",
      "7  Добавить форму подписки на все основные страни...  11.20\n",
      "6  Показать на главной странице баннеры с актуаль...   8.00\n",
      "2  Добавить блоки рекомендаций товаров на сайт ин...   7.00\n",
      "1  Запустить собственную службу доставки, что сок...   2.00\n",
      "5  Добавить страницу отзывов клиентов о магазине,...   1.33\n",
      "3  Изменить структура категорий, что увеличит кон...   1.12\n",
      "4  Изменить цвет фона главной страницы, чтобы уве...   1.00\n"
     ]
    }
   ],
   "source": [
    "hypothesis['ice'] = (hypothesis['impact'] * hypothesis['confidence'] / hypothesis['efforts']).round(2)\n",
    "\n",
    "print(hypothesis[['hypothesis','ice']].sort_values(by='ice',ascending=False))"
   ]
  },
  {
   "cell_type": "code",
   "execution_count": 8,
   "metadata": {},
   "outputs": [
    {
     "data": {
      "image/png": "[encoded data removed]",
      "text/plain": [
       "<Figure size 432x288 with 1 Axes>"
      ]
     },
     "metadata": {
      "needs_background": "light"
     },
     "output_type": "display_data"
    }
   ],
   "source": [
    "df = hypothesis[['hypothesis','ice']].set_index('hypothesis').sort_values(by='ice').plot(kind='barh')\n",
    "df.set_xlabel('priority')\n",
    "df.set_title('ICE')\n",
    "plt.show()"
   ]
  },
  {
   "cell_type": "markdown",
   "metadata": {},
   "source": [
    "Наиболее перспективные гипотезы по ICE:\n",
    "\n",
    "* 8 - Запустить акцию, дающую скидку на товар в день рождения;\n",
    "* 0 - Добавить два новых канала привлечения трафика, что позволит привлекать на 30% больше пользователей\n",
    "* 7 - Добавить форму подписки на все основные страницы, чтобы собрать базу клиентов для email-рассылок"
   ]
  },
  {
   "cell_type": "markdown",
   "metadata": {},
   "source": [
    "<a href='#start'>Вернуться к оглавлению</a>"
   ]
  },
  {
   "cell_type": "markdown",
   "metadata": {},
   "source": [
    "<a id=\"step_1.3\"></a>\n",
    "###  Задача: Применить фреймворк RICE для приоритизации гипотез\n"
   ]
  },
  {
   "cell_type": "code",
   "execution_count": 9,
   "metadata": {},
   "outputs": [
    {
     "name": "stdout",
     "output_type": "stream",
     "text": [
      "                                          hypothesis   rice\n",
      "7  Добавить форму подписки на все основные страни...  112.0\n",
      "2  Добавить блоки рекомендаций товаров на сайт ин...   56.0\n",
      "0  Добавить два новых канала привлечения трафика,...   40.0\n",
      "6  Показать на главной странице баннеры с актуаль...   40.0\n",
      "8  Запустить акцию, дающую скидку на товар в день...   16.2\n",
      "3  Изменить структура категорий, что увеличит кон...    9.0\n",
      "1  Запустить собственную службу доставки, что сок...    4.0\n",
      "5  Добавить страницу отзывов клиентов о магазине,...    4.0\n",
      "4  Изменить цвет фона главной страницы, чтобы уве...    3.0\n"
     ]
    }
   ],
   "source": [
    "hypothesis['rice'] = hypothesis['reach'] * hypothesis['impact'] * hypothesis['confidence'] / hypothesis['efforts']\n",
    "\n",
    "print(hypothesis[['hypothesis','rice']].sort_values(by='rice',ascending=False))"
   ]
  },
  {
   "cell_type": "code",
   "execution_count": 10,
   "metadata": {},
   "outputs": [
    {
     "data": {
      "image/png": "[encoded data removed]",
      "text/plain": [
       "<Figure size 432x288 with 1 Axes>"
      ]
     },
     "metadata": {
      "needs_background": "light"
     },
     "output_type": "display_data"
    }
   ],
   "source": [
    "df_r = hypothesis[['hypothesis','rice']].set_index('hypothesis').sort_values(by='rice').plot(kind='barh')\n",
    "df_r.set_xlabel('priority')\n",
    "df_r.set_title('RICE')\n",
    "plt.show()"
   ]
  },
  {
   "cell_type": "markdown",
   "metadata": {},
   "source": [
    "Наиболее перспективные гипотезы по RICE:\n",
    "\n",
    "* 7 - Добавить форму подписки на все основные страницы, чтобы собрать базу клиентов для email-рассылок\n",
    "* 2 - Добавить блоки рекомендаций товаров на сайт интернет магазина, чтобы повысить конверсию и средний чек заказа\t\n",
    "* 0 - Добавить два новых канала привлечения трафика, что позволит привлекать на 30% больше пользователей\n",
    "* 6 - Показать на главной странице баннеры с актуальными акциями и распродажами, чтобы увеличить конверсию"
   ]
  },
  {
   "cell_type": "markdown",
   "metadata": {},
   "source": [
    "<a href='#start'>Вернуться к оглавлению</a>"
   ]
  },
  {
   "cell_type": "markdown",
   "metadata": {},
   "source": [
    "<a id=\"step_1.4\"></a>\n",
    "### Задача: Посмотрим, как изменилась приоритизация гипотез при применении RICE вместо ICE\n"
   ]
  },
  {
   "cell_type": "code",
   "execution_count": 11,
   "metadata": {},
   "outputs": [
    {
     "data": {
      "text/html": [
       "<div>\n",
       "<style scoped>\n",
       "    .dataframe tbody tr th:only-of-type {\n",
       "        vertical-align: middle;\n",
       "    }\n",
       "\n",
       "    .dataframe tbody tr th {\n",
       "        vertical-align: top;\n",
       "    }\n",
       "\n",
       "    .dataframe thead th {\n",
       "        text-align: right;\n",
       "    }\n",
       "</style>\n",
       "<table border=\"1\" class=\"dataframe\">\n",
       "  <thead>\n",
       "    <tr style=\"text-align: right;\">\n",
       "      <th></th>\n",
       "      <th>hypothesis</th>\n",
       "      <th>reach</th>\n",
       "      <th>impact</th>\n",
       "      <th>confidence</th>\n",
       "      <th>efforts</th>\n",
       "      <th>ice</th>\n",
       "      <th>rice</th>\n",
       "    </tr>\n",
       "  </thead>\n",
       "  <tbody>\n",
       "    <tr>\n",
       "      <th>0</th>\n",
       "      <td>Добавить два новых канала привлечения трафика,...</td>\n",
       "      <td>3</td>\n",
       "      <td>10</td>\n",
       "      <td>8</td>\n",
       "      <td>6</td>\n",
       "      <td>13.33</td>\n",
       "      <td>40.0</td>\n",
       "    </tr>\n",
       "    <tr>\n",
       "      <th>1</th>\n",
       "      <td>Запустить собственную службу доставки, что сок...</td>\n",
       "      <td>2</td>\n",
       "      <td>5</td>\n",
       "      <td>4</td>\n",
       "      <td>10</td>\n",
       "      <td>2.00</td>\n",
       "      <td>4.0</td>\n",
       "    </tr>\n",
       "    <tr>\n",
       "      <th>2</th>\n",
       "      <td>Добавить блоки рекомендаций товаров на сайт ин...</td>\n",
       "      <td>8</td>\n",
       "      <td>3</td>\n",
       "      <td>7</td>\n",
       "      <td>3</td>\n",
       "      <td>7.00</td>\n",
       "      <td>56.0</td>\n",
       "    </tr>\n",
       "    <tr>\n",
       "      <th>3</th>\n",
       "      <td>Изменить структура категорий, что увеличит кон...</td>\n",
       "      <td>8</td>\n",
       "      <td>3</td>\n",
       "      <td>3</td>\n",
       "      <td>8</td>\n",
       "      <td>1.12</td>\n",
       "      <td>9.0</td>\n",
       "    </tr>\n",
       "    <tr>\n",
       "      <th>4</th>\n",
       "      <td>Изменить цвет фона главной страницы, чтобы уве...</td>\n",
       "      <td>3</td>\n",
       "      <td>1</td>\n",
       "      <td>1</td>\n",
       "      <td>1</td>\n",
       "      <td>1.00</td>\n",
       "      <td>3.0</td>\n",
       "    </tr>\n",
       "    <tr>\n",
       "      <th>5</th>\n",
       "      <td>Добавить страницу отзывов клиентов о магазине,...</td>\n",
       "      <td>3</td>\n",
       "      <td>2</td>\n",
       "      <td>2</td>\n",
       "      <td>3</td>\n",
       "      <td>1.33</td>\n",
       "      <td>4.0</td>\n",
       "    </tr>\n",
       "    <tr>\n",
       "      <th>6</th>\n",
       "      <td>Показать на главной странице баннеры с актуаль...</td>\n",
       "      <td>5</td>\n",
       "      <td>3</td>\n",
       "      <td>8</td>\n",
       "      <td>3</td>\n",
       "      <td>8.00</td>\n",
       "      <td>40.0</td>\n",
       "    </tr>\n",
       "    <tr>\n",
       "      <th>7</th>\n",
       "      <td>Добавить форму подписки на все основные страни...</td>\n",
       "      <td>10</td>\n",
       "      <td>7</td>\n",
       "      <td>8</td>\n",
       "      <td>5</td>\n",
       "      <td>11.20</td>\n",
       "      <td>112.0</td>\n",
       "    </tr>\n",
       "    <tr>\n",
       "      <th>8</th>\n",
       "      <td>Запустить акцию, дающую скидку на товар в день...</td>\n",
       "      <td>1</td>\n",
       "      <td>9</td>\n",
       "      <td>9</td>\n",
       "      <td>5</td>\n",
       "      <td>16.20</td>\n",
       "      <td>16.2</td>\n",
       "    </tr>\n",
       "  </tbody>\n",
       "</table>\n",
       "</div>"
      ],
      "text/plain": [
       "                                          hypothesis  reach  impact  \\\n",
       "0  Добавить два новых канала привлечения трафика,...      3      10   \n",
       "1  Запустить собственную службу доставки, что сок...      2       5   \n",
       "2  Добавить блоки рекомендаций товаров на сайт ин...      8       3   \n",
       "3  Изменить структура категорий, что увеличит кон...      8       3   \n",
       "4  Изменить цвет фона главной страницы, чтобы уве...      3       1   \n",
       "5  Добавить страницу отзывов клиентов о магазине,...      3       2   \n",
       "6  Показать на главной странице баннеры с актуаль...      5       3   \n",
       "7  Добавить форму подписки на все основные страни...     10       7   \n",
       "8  Запустить акцию, дающую скидку на товар в день...      1       9   \n",
       "\n",
       "   confidence  efforts    ice   rice  \n",
       "0           8        6  13.33   40.0  \n",
       "1           4       10   2.00    4.0  \n",
       "2           7        3   7.00   56.0  \n",
       "3           3        8   1.12    9.0  \n",
       "4           1        1   1.00    3.0  \n",
       "5           2        3   1.33    4.0  \n",
       "6           8        3   8.00   40.0  \n",
       "7           8        5  11.20  112.0  \n",
       "8           9        5  16.20   16.2  "
      ]
     },
     "execution_count": 11,
     "metadata": {},
     "output_type": "execute_result"
    }
   ],
   "source": [
    "hypothesis"
   ]
  },
  {
   "cell_type": "markdown",
   "metadata": {},
   "source": [
    "Сводная таблица по гипотезам:\n",
    "\n",
    "|Приоритет по ICE  | Приоритет по RICE | \n",
    "|:----------------:|:----------------:|\n",
    "|8    |   7        |\n",
    "| 0         |  2|\n",
    "| 7      |0|\n",
    "|6    | 6      |\n",
    "| 2 | 8   |\n",
    "\n",
    "Приоритизация по методам отличается, так как метод RICE учитывает дополнительно охват пользователей.  \n",
    "Из топа ушла 8 гипотеза, потому что параметр reach(охват пользователей) в гипотезе №8 равен 1, в то время как у других гипотез он больше. Гипотезы 7 и 2 поднялись из-за высокого показателя reach"
   ]
  },
  {
   "cell_type": "markdown",
   "metadata": {},
   "source": [
    "<a href='#start'>Вернуться к оглавлению</a>"
   ]
  },
  {
   "cell_type": "markdown",
   "metadata": {},
   "source": [
    "<a id=\"step_2\"></a>\n",
    "## Анализ A/B-теста\n",
    "\n",
    "В файлах orders.csv и visitors.csv находятся результаты, после проведения A/B теста\n",
    "\n"
   ]
  },
  {
   "cell_type": "code",
   "execution_count": 12,
   "metadata": {},
   "outputs": [],
   "source": [
    "orders = pd.read_csv('/datasets/orders.csv')\n",
    "visitors = pd.read_csv('/datasets/visitors.csv')"
   ]
  },
  {
   "cell_type": "code",
   "execution_count": 13,
   "metadata": {},
   "outputs": [
    {
     "name": "stdout",
     "output_type": "stream",
     "text": [
      "<class 'pandas.core.frame.DataFrame'>\n",
      "RangeIndex: 1197 entries, 0 to 1196\n",
      "Data columns (total 5 columns):\n",
      " #   Column         Non-Null Count  Dtype \n",
      "---  ------         --------------  ----- \n",
      " 0   transactionId  1197 non-null   int64 \n",
      " 1   visitorId      1197 non-null   int64 \n",
      " 2   date           1197 non-null   object\n",
      " 3   revenue        1197 non-null   int64 \n",
      " 4   group          1197 non-null   object\n",
      "dtypes: int64(3), object(2)\n",
      "memory usage: 46.9+ KB\n"
     ]
    },
    {
     "data": {
      "text/html": [
       "<div>\n",
       "<style scoped>\n",
       "    .dataframe tbody tr th:only-of-type {\n",
       "        vertical-align: middle;\n",
       "    }\n",
       "\n",
       "    .dataframe tbody tr th {\n",
       "        vertical-align: top;\n",
       "    }\n",
       "\n",
       "    .dataframe thead th {\n",
       "        text-align: right;\n",
       "    }\n",
       "</style>\n",
       "<table border=\"1\" class=\"dataframe\">\n",
       "  <thead>\n",
       "    <tr style=\"text-align: right;\">\n",
       "      <th></th>\n",
       "      <th>transactionId</th>\n",
       "      <th>visitorId</th>\n",
       "      <th>date</th>\n",
       "      <th>revenue</th>\n",
       "      <th>group</th>\n",
       "    </tr>\n",
       "  </thead>\n",
       "  <tbody>\n",
       "    <tr>\n",
       "      <th>0</th>\n",
       "      <td>3667963787</td>\n",
       "      <td>3312258926</td>\n",
       "      <td>2019-08-15</td>\n",
       "      <td>1650</td>\n",
       "      <td>B</td>\n",
       "    </tr>\n",
       "    <tr>\n",
       "      <th>1</th>\n",
       "      <td>2804400009</td>\n",
       "      <td>3642806036</td>\n",
       "      <td>2019-08-15</td>\n",
       "      <td>730</td>\n",
       "      <td>B</td>\n",
       "    </tr>\n",
       "    <tr>\n",
       "      <th>2</th>\n",
       "      <td>2961555356</td>\n",
       "      <td>4069496402</td>\n",
       "      <td>2019-08-15</td>\n",
       "      <td>400</td>\n",
       "      <td>A</td>\n",
       "    </tr>\n",
       "    <tr>\n",
       "      <th>3</th>\n",
       "      <td>3797467345</td>\n",
       "      <td>1196621759</td>\n",
       "      <td>2019-08-15</td>\n",
       "      <td>9759</td>\n",
       "      <td>B</td>\n",
       "    </tr>\n",
       "    <tr>\n",
       "      <th>4</th>\n",
       "      <td>2282983706</td>\n",
       "      <td>2322279887</td>\n",
       "      <td>2019-08-15</td>\n",
       "      <td>2308</td>\n",
       "      <td>B</td>\n",
       "    </tr>\n",
       "  </tbody>\n",
       "</table>\n",
       "</div>"
      ],
      "text/plain": [
       "   transactionId   visitorId        date  revenue group\n",
       "0     3667963787  3312258926  2019-08-15     1650     B\n",
       "1     2804400009  3642806036  2019-08-15      730     B\n",
       "2     2961555356  4069496402  2019-08-15      400     A\n",
       "3     3797467345  1196621759  2019-08-15     9759     B\n",
       "4     2282983706  2322279887  2019-08-15     2308     B"
      ]
     },
     "execution_count": 13,
     "metadata": {},
     "output_type": "execute_result"
    }
   ],
   "source": [
    "orders.info()\n",
    "orders.head()"
   ]
  },
  {
   "cell_type": "markdown",
   "metadata": {},
   "source": [
    "Файл /datasets/orders.csv  \n",
    "* transactionId — идентификатор заказа;\n",
    "* visitorId — идентификатор пользователя, совершившего заказ;\n",
    "* date — дата, когда был совершён заказ;\n",
    "* revenue — выручка заказа;\n",
    "* group — группа A/B-теста, в которую попал заказ.\n",
    "\n"
   ]
  },
  {
   "cell_type": "code",
   "execution_count": 14,
   "metadata": {},
   "outputs": [],
   "source": [
    "#Приведем все к нижнему регистру\n",
    "\n",
    "orders.rename(columns={'transactionId':'transactionid', 'visitorId':'visitorid'}, inplace=True)"
   ]
  },
  {
   "cell_type": "code",
   "execution_count": 15,
   "metadata": {},
   "outputs": [],
   "source": [
    "#Приведем даты к нужному формату\n",
    "orders['date'] = pd.to_datetime(orders['date'], format='%Y-%m-%d')"
   ]
  },
  {
   "cell_type": "code",
   "execution_count": 16,
   "metadata": {},
   "outputs": [
    {
     "data": {
      "text/plain": [
       "B    640\n",
       "A    557\n",
       "Name: group, dtype: int64"
      ]
     },
     "execution_count": 16,
     "metadata": {},
     "output_type": "execute_result"
    }
   ],
   "source": [
    "#Посмотрим на распределение по группам\n",
    "orders['group'].value_counts()"
   ]
  },
  {
   "cell_type": "markdown",
   "metadata": {},
   "source": [
    "У нас разное количество людей в группах, в группе B-640 чел,а  в группе А -557"
   ]
  },
  {
   "cell_type": "code",
   "execution_count": 17,
   "metadata": {},
   "outputs": [
    {
     "name": "stdout",
     "output_type": "stream",
     "text": [
      "<class 'pandas.core.frame.DataFrame'>\n",
      "RangeIndex: 62 entries, 0 to 61\n",
      "Data columns (total 3 columns):\n",
      " #   Column    Non-Null Count  Dtype \n",
      "---  ------    --------------  ----- \n",
      " 0   date      62 non-null     object\n",
      " 1   group     62 non-null     object\n",
      " 2   visitors  62 non-null     int64 \n",
      "dtypes: int64(1), object(2)\n",
      "memory usage: 1.6+ KB\n"
     ]
    },
    {
     "data": {
      "text/html": [
       "<div>\n",
       "<style scoped>\n",
       "    .dataframe tbody tr th:only-of-type {\n",
       "        vertical-align: middle;\n",
       "    }\n",
       "\n",
       "    .dataframe tbody tr th {\n",
       "        vertical-align: top;\n",
       "    }\n",
       "\n",
       "    .dataframe thead th {\n",
       "        text-align: right;\n",
       "    }\n",
       "</style>\n",
       "<table border=\"1\" class=\"dataframe\">\n",
       "  <thead>\n",
       "    <tr style=\"text-align: right;\">\n",
       "      <th></th>\n",
       "      <th>date</th>\n",
       "      <th>group</th>\n",
       "      <th>visitors</th>\n",
       "    </tr>\n",
       "  </thead>\n",
       "  <tbody>\n",
       "    <tr>\n",
       "      <th>0</th>\n",
       "      <td>2019-08-01</td>\n",
       "      <td>A</td>\n",
       "      <td>719</td>\n",
       "    </tr>\n",
       "    <tr>\n",
       "      <th>1</th>\n",
       "      <td>2019-08-02</td>\n",
       "      <td>A</td>\n",
       "      <td>619</td>\n",
       "    </tr>\n",
       "    <tr>\n",
       "      <th>2</th>\n",
       "      <td>2019-08-03</td>\n",
       "      <td>A</td>\n",
       "      <td>507</td>\n",
       "    </tr>\n",
       "    <tr>\n",
       "      <th>3</th>\n",
       "      <td>2019-08-04</td>\n",
       "      <td>A</td>\n",
       "      <td>717</td>\n",
       "    </tr>\n",
       "    <tr>\n",
       "      <th>4</th>\n",
       "      <td>2019-08-05</td>\n",
       "      <td>A</td>\n",
       "      <td>756</td>\n",
       "    </tr>\n",
       "  </tbody>\n",
       "</table>\n",
       "</div>"
      ],
      "text/plain": [
       "         date group  visitors\n",
       "0  2019-08-01     A       719\n",
       "1  2019-08-02     A       619\n",
       "2  2019-08-03     A       507\n",
       "3  2019-08-04     A       717\n",
       "4  2019-08-05     A       756"
      ]
     },
     "execution_count": 17,
     "metadata": {},
     "output_type": "execute_result"
    }
   ],
   "source": [
    "visitors.info()\n",
    "visitors.head()\n"
   ]
  },
  {
   "cell_type": "markdown",
   "metadata": {},
   "source": [
    "Файл /datasets/visitors.csv  \n",
    "* date — дата;\n",
    "* group — группа A/B-теста;\n",
    "* visitors — количество пользователей в указанную дату в указанной группе A/B-теста"
   ]
  },
  {
   "cell_type": "code",
   "execution_count": 18,
   "metadata": {},
   "outputs": [],
   "source": [
    "#Приведем даты к нужному формату\n",
    "visitors['date'] = pd.to_datetime(visitors['date'], format='%Y-%m-%d')"
   ]
  },
  {
   "cell_type": "code",
   "execution_count": 19,
   "metadata": {},
   "outputs": [
    {
     "data": {
      "text/plain": [
       "transactionid             int64\n",
       "visitorid                 int64\n",
       "date             datetime64[ns]\n",
       "revenue                   int64\n",
       "group                    object\n",
       "dtype: object"
      ]
     },
     "execution_count": 19,
     "metadata": {},
     "output_type": "execute_result"
    }
   ],
   "source": [
    "#Проверим\n",
    "orders.dtypes"
   ]
  },
  {
   "cell_type": "code",
   "execution_count": 20,
   "metadata": {},
   "outputs": [
    {
     "data": {
      "text/plain": [
       "date        datetime64[ns]\n",
       "group               object\n",
       "visitors             int64\n",
       "dtype: object"
      ]
     },
     "execution_count": 20,
     "metadata": {},
     "output_type": "execute_result"
    }
   ],
   "source": [
    "visitors.dtypes"
   ]
  },
  {
   "cell_type": "code",
   "execution_count": 21,
   "metadata": {},
   "outputs": [
    {
     "data": {
      "text/plain": [
       "A    31\n",
       "B    31\n",
       "Name: group, dtype: int64"
      ]
     },
     "execution_count": 21,
     "metadata": {},
     "output_type": "execute_result"
    }
   ],
   "source": [
    "visitors['group'].value_counts()"
   ]
  },
  {
   "cell_type": "markdown",
   "metadata": {},
   "source": [
    "Записей в группе А и В одинаковое количество"
   ]
  },
  {
   "cell_type": "code",
   "execution_count": 22,
   "metadata": {},
   "outputs": [
    {
     "data": {
      "text/plain": [
       "group    58\n",
       "dtype: int64"
      ]
     },
     "execution_count": 22,
     "metadata": {},
     "output_type": "execute_result"
    }
   ],
   "source": [
    "#Посмотрим есть ли одинаковые пользователи в обеих группах\n",
    "group_dubl = orders.pivot_table(index='visitorid', values='group', aggfunc='nunique')\n",
    "group_dubl .reset_index()\n",
    "group_dubl .query('group > 1').count()"
   ]
  },
  {
   "cell_type": "markdown",
   "metadata": {},
   "source": [
    "Есть пользователи, которые попали в обе группы теста одновременно -58 чел, возможно, это говорит об ошибке в сборе данных.   \n",
    "Удаление этих пользователей повлияет на конверсию, поскольку мы можем удалить этих пользователей из таблицы с заказами, но не сможем удалить из таблицы с визитами, так как там данные уже агрегированы за день.   \n",
    "Соответственно не будем удалять пользователей, попавших в обе группы."
   ]
  },
  {
   "cell_type": "markdown",
   "metadata": {},
   "source": [
    "<a href='#start'>Вернуться к оглавлению</a>"
   ]
  },
  {
   "cell_type": "markdown",
   "metadata": {},
   "source": [
    "<a id=\"step_2.1\"></a>\n",
    "### Построить график кумулятивной выручки по группам"
   ]
  },
  {
   "cell_type": "code",
   "execution_count": 23,
   "metadata": {},
   "outputs": [],
   "source": [
    "# создаем массив уникальных пар значений дат и групп теста\n",
    "datesGroups = orders[['date','group']].drop_duplicates()"
   ]
  },
  {
   "cell_type": "code",
   "execution_count": 24,
   "metadata": {},
   "outputs": [],
   "source": [
    "# получаем агрегированные кумулятивные по дням данные о заказах \n",
    "ordersAggregated = (datesGroups\n",
    "        .apply(lambda x: orders[np.logical_and(orders['date'] <= x['date'], orders['group'] == x['group'])]\n",
    "        .agg({'date' : 'max', 'group' : 'max', 'transactionid' : 'nunique', 'visitorid' : 'nunique', 'revenue' : 'sum'}), axis=1)\n",
    "        .sort_values(by=['date','group'])\n",
    "                   )"
   ]
  },
  {
   "cell_type": "code",
   "execution_count": 25,
   "metadata": {},
   "outputs": [],
   "source": [
    "# получаем агрегированные кумулятивные по дням данные о посетителях интернет-магазина \n",
    "visitorsAggregated = (datesGroups\n",
    "    .apply(lambda x: visitors[np.logical_and(visitors['date'] <= x['date'], visitors['group'] == x['group'])]\n",
    "    .agg({'date' : 'max', 'group' : 'max', 'visitors' : 'sum'}), axis=1)\n",
    "    .sort_values(by=['date','group'])\n",
    "                     )"
   ]
  },
  {
   "cell_type": "code",
   "execution_count": 26,
   "metadata": {},
   "outputs": [
    {
     "data": {
      "text/html": [
       "<div>\n",
       "<style scoped>\n",
       "    .dataframe tbody tr th:only-of-type {\n",
       "        vertical-align: middle;\n",
       "    }\n",
       "\n",
       "    .dataframe tbody tr th {\n",
       "        vertical-align: top;\n",
       "    }\n",
       "\n",
       "    .dataframe thead th {\n",
       "        text-align: right;\n",
       "    }\n",
       "</style>\n",
       "<table border=\"1\" class=\"dataframe\">\n",
       "  <thead>\n",
       "    <tr style=\"text-align: right;\">\n",
       "      <th></th>\n",
       "      <th>date</th>\n",
       "      <th>group</th>\n",
       "      <th>orders</th>\n",
       "      <th>buyers</th>\n",
       "      <th>revenue</th>\n",
       "      <th>visitors</th>\n",
       "    </tr>\n",
       "  </thead>\n",
       "  <tbody>\n",
       "    <tr>\n",
       "      <th>0</th>\n",
       "      <td>2019-08-01</td>\n",
       "      <td>A</td>\n",
       "      <td>24</td>\n",
       "      <td>20</td>\n",
       "      <td>148579</td>\n",
       "      <td>719</td>\n",
       "    </tr>\n",
       "    <tr>\n",
       "      <th>1</th>\n",
       "      <td>2019-08-01</td>\n",
       "      <td>B</td>\n",
       "      <td>21</td>\n",
       "      <td>20</td>\n",
       "      <td>101217</td>\n",
       "      <td>713</td>\n",
       "    </tr>\n",
       "    <tr>\n",
       "      <th>2</th>\n",
       "      <td>2019-08-02</td>\n",
       "      <td>A</td>\n",
       "      <td>44</td>\n",
       "      <td>38</td>\n",
       "      <td>242401</td>\n",
       "      <td>1338</td>\n",
       "    </tr>\n",
       "    <tr>\n",
       "      <th>3</th>\n",
       "      <td>2019-08-02</td>\n",
       "      <td>B</td>\n",
       "      <td>45</td>\n",
       "      <td>43</td>\n",
       "      <td>266748</td>\n",
       "      <td>1294</td>\n",
       "    </tr>\n",
       "    <tr>\n",
       "      <th>4</th>\n",
       "      <td>2019-08-03</td>\n",
       "      <td>A</td>\n",
       "      <td>68</td>\n",
       "      <td>62</td>\n",
       "      <td>354874</td>\n",
       "      <td>1845</td>\n",
       "    </tr>\n",
       "  </tbody>\n",
       "</table>\n",
       "</div>"
      ],
      "text/plain": [
       "        date group  orders  buyers  revenue  visitors\n",
       "0 2019-08-01     A      24      20   148579       719\n",
       "1 2019-08-01     B      21      20   101217       713\n",
       "2 2019-08-02     A      44      38   242401      1338\n",
       "3 2019-08-02     B      45      43   266748      1294\n",
       "4 2019-08-03     A      68      62   354874      1845"
      ]
     },
     "execution_count": 26,
     "metadata": {},
     "output_type": "execute_result"
    }
   ],
   "source": [
    "# объединяем кумулятивные данные в одной таблице и присваиваем ее столбцам понятные названия\n",
    "cumulativeData = ordersAggregated.merge(visitorsAggregated, left_on=['date', 'group'], right_on=['date', 'group'])\n",
    "cumulativeData.columns = ['date', 'group', 'orders', 'buyers', 'revenue', 'visitors']\n",
    "cumulativeData.head()"
   ]
  },
  {
   "cell_type": "code",
   "execution_count": 27,
   "metadata": {},
   "outputs": [],
   "source": [
    "# датафрейм с кумулятивным количеством заказов и кумулятивной выручкой по дням в группе А\n",
    "cumulativeRevenueA = cumulativeData[cumulativeData['group']=='A'][['date','revenue', 'orders']]"
   ]
  },
  {
   "cell_type": "code",
   "execution_count": 28,
   "metadata": {},
   "outputs": [],
   "source": [
    "# датафрейм с кумулятивным количеством заказов и кумулятивной выручкой по дням в группе B\n",
    "cumulativeRevenueB = cumulativeData[cumulativeData['group']=='B'][['date','revenue', 'orders']]"
   ]
  },
  {
   "cell_type": "code",
   "execution_count": 29,
   "metadata": {},
   "outputs": [
    {
     "data": {
      "image/png": "[encoded data removed]",
      "text/plain": [
       "<Figure size 432x288 with 1 Axes>"
      ]
     },
     "metadata": {
      "needs_background": "light"
     },
     "output_type": "display_data"
    }
   ],
   "source": [
    "# Строим график выручки группы А\n",
    "plt.plot(cumulativeRevenueA['date'], cumulativeRevenueA['revenue'], label='A')\n",
    "\n",
    "# Строим график выручки группы B\n",
    "plt.plot(cumulativeRevenueB['date'], cumulativeRevenueB['revenue'], label='B')\n",
    "\n",
    "plt.legend()\n",
    "plt.title('Кумулятивной выручка по группам')\n",
    "plt.xticks(rotation=70)\n",
    "plt.xlabel('date')\n",
    "plt.ylabel('revenue')\n",
    "plt.show()"
   ]
  },
  {
   "cell_type": "markdown",
   "metadata": {},
   "source": [
    "**Вывод**\n",
    "\n",
    "Выручка почти равномерно увеличивается в течение всего теста.  \n",
    "Однако графики выручки обеих групп в нескольких точках резко растут. Это может сигнализировать о всплесках числа заказов, либо о появлении очень дорогих заказов в выборке. \n",
    "\n",
    "В середине теста группа B вырвалась вперед и продолжает лидировать весь остаток теста. Возможно влияние аномально больших заказов, которые мы проанализируем позже.\n"
   ]
  },
  {
   "cell_type": "markdown",
   "metadata": {},
   "source": [
    "<a href='#start'>Вернуться к оглавлению</a>"
   ]
  },
  {
   "cell_type": "markdown",
   "metadata": {},
   "source": [
    "<a id=\"step_2.2\"></a>\n",
    "### Построить график кумулятивного среднего чека по группам"
   ]
  },
  {
   "cell_type": "code",
   "execution_count": 30,
   "metadata": {},
   "outputs": [
    {
     "data": {
      "image/png": "[encoded data removed]",
      "text/plain": [
       "<Figure size 432x288 with 1 Axes>"
      ]
     },
     "metadata": {
      "needs_background": "light"
     },
     "output_type": "display_data"
    }
   ],
   "source": [
    "# Построим графики среднего чека по группам — разделим кумулятивную выручку на кумулятивное число заказов\n",
    "plt.plot(cumulativeRevenueA['date'], cumulativeRevenueA['revenue']/cumulativeRevenueA['orders'], label='A')\n",
    "plt.plot(cumulativeRevenueB['date'], cumulativeRevenueB['revenue']/cumulativeRevenueB['orders'], label='B')\n",
    "plt.legend()\n",
    "plt.title('Кумулятивный средний чек по группам')\n",
    "plt.xticks(rotation=70)\n",
    "plt.xlabel('date')\n",
    "plt.ylabel('average_check')\n",
    "plt.show()"
   ]
  },
  {
   "cell_type": "markdown",
   "metadata": {},
   "source": [
    "**Вывод**\n",
    "\n",
    "Кумулятивное значение среднего чека колеблется. Наблюдается резкий скачок ср.чека в группе \"B\" 17.08.2019 , он стал выше 10000. \n",
    "Для группы \"А\" пик был 13.08.2019 (7000-8000), после наблюдается спад.\n",
    "\n",
    "Скорее всего, принимать решение по этой метрике рано. Или требуется дополнительный анализ выбросов.\n",
    "\n"
   ]
  },
  {
   "cell_type": "markdown",
   "metadata": {},
   "source": [
    "<a href='#start'>Вернуться к оглавлению</a>"
   ]
  },
  {
   "cell_type": "markdown",
   "metadata": {},
   "source": [
    "<a id=\"step_2.3\"></a>\n",
    "### Построить график относительного изменения кумулятивного среднего чека группы B к группе A"
   ]
  },
  {
   "cell_type": "code",
   "execution_count": 31,
   "metadata": {},
   "outputs": [
    {
     "data": {
      "image/png": "[encoded data removed]",
      "text/plain": [
       "<Figure size 432x288 with 1 Axes>"
      ]
     },
     "metadata": {
      "needs_background": "light"
     },
     "output_type": "display_data"
    }
   ],
   "source": [
    "# собираем данные в одном датафрейме\n",
    "mergedCumulativeRevenue = (cumulativeRevenueA\n",
    "                           .merge(cumulativeRevenueB, left_on='date', right_on='date', how='left', suffixes=['A', 'B'])\n",
    "                          )\n",
    "# cтроим отношение средних чеков\n",
    "plt.plot(mergedCumulativeRevenue['date'], (mergedCumulativeRevenue['revenueB']/mergedCumulativeRevenue['ordersB'])/(mergedCumulativeRevenue['revenueA']/mergedCumulativeRevenue['ordersA'])-1)\n",
    "\n",
    "# добавляем ось X\n",
    "plt.axhline(y=0, color='black', linestyle='--')\n",
    "plt.title('Относительное изменение кумулятивного среднего чека группы B к группе A')\n",
    "plt.xticks(rotation=70)\n",
    "plt.xlabel('date')\n",
    "plt.ylabel('average_check')\n",
    "plt.show()"
   ]
  },
  {
   "cell_type": "markdown",
   "metadata": {},
   "source": [
    "**Вывод**\n",
    "\n",
    "Относительное изменение кумулятивного среднего чека группы B к группе A резко менялись в несколько дат. Видимо, тогда и были совершены аномальные заказы."
   ]
  },
  {
   "cell_type": "markdown",
   "metadata": {},
   "source": [
    "<a href='#start'>Вернуться к оглавлению</a>"
   ]
  },
  {
   "cell_type": "markdown",
   "metadata": {},
   "source": [
    "<a id=\"step_2.4\"></a>\n",
    "### Построить график кумулятивного среднего количества заказов на посетителя по группам"
   ]
  },
  {
   "cell_type": "code",
   "execution_count": 32,
   "metadata": {},
   "outputs": [
    {
     "data": {
      "image/png": "[encoded data removed]",
      "text/plain": [
       "<Figure size 432x288 with 1 Axes>"
      ]
     },
     "metadata": {
      "needs_background": "light"
     },
     "output_type": "display_data"
    }
   ],
   "source": [
    "# считаем кумулятивную конверсию\n",
    "cumulativeData['conversion'] = cumulativeData['orders']/cumulativeData['visitors']\n",
    "\n",
    "# отделяем данные по группе A\n",
    "cumulativeDataA = cumulativeData[cumulativeData['group']=='A']\n",
    "\n",
    "# отделяем данные по группе B\n",
    "cumulativeDataB = cumulativeData[cumulativeData['group']=='B']\n",
    "\n",
    "# строим графики\n",
    "plt.plot(cumulativeDataA['date'], cumulativeDataA['conversion'], label='A')\n",
    "plt.plot(cumulativeDataB['date'], cumulativeDataB['conversion'], label='B')\n",
    "plt.legend()\n",
    "\n",
    "# задаем масштаб осей\n",
    "plt.xticks(rotation=70)\n",
    "plt.axis([dt.datetime(2019, 8, 1), dt.datetime(2019, 9, 1), 0.0, 0.05])\n",
    "plt.title('Комулятивная конверсия по группам')\n",
    "plt.xlabel('date')\n",
    "plt.ylabel('conversion')\n",
    "plt.show()"
   ]
  },
  {
   "cell_type": "markdown",
   "metadata": {},
   "source": [
    "**Вывод** \n",
    "\n",
    "В начале теста группа А имела большую конверсию, но постепенно группа В вырвался вперед и зафиксировался примерно около одного значения, больше значения группы А.\n",
    "Был изменен масштаб графика, чтобы было видно, что абсолютное значение колебания в начале и в конце теста не слишком большое. Если убрать масштаб осей, будет казаться, что колебания продолжаются, и конверсия не установилась около своего среднего значения."
   ]
  },
  {
   "cell_type": "markdown",
   "metadata": {},
   "source": [
    "<a href='#start'>Вернуться к оглавлению</a>"
   ]
  },
  {
   "cell_type": "markdown",
   "metadata": {},
   "source": [
    "<a id=\"step_2.5\"></a>\n",
    "### Построить график относительного изменения кумулятивного среднего количества заказов на посетителя группы B к группе A"
   ]
  },
  {
   "cell_type": "code",
   "execution_count": 33,
   "metadata": {},
   "outputs": [
    {
     "data": {
      "image/png": "[encoded data removed]",
      "text/plain": [
       "<Figure size 432x288 with 1 Axes>"
      ]
     },
     "metadata": {
      "needs_background": "light"
     },
     "output_type": "display_data"
    }
   ],
   "source": [
    "mergedCumulativeConversions = (cumulativeDataA[['date','conversion']]\n",
    "    .merge(cumulativeDataB[['date','conversion']], left_on='date', right_on='date', how='left', suffixes=['A', 'B'])\n",
    "                              ) \n",
    "plt.plot(mergedCumulativeConversions['date'], mergedCumulativeConversions['conversionB']/mergedCumulativeConversions['conversionA']-1)\n",
    "\n",
    "\n",
    "plt.axhline(y=0, color='black', linestyle='--')\n",
    "plt.title('Относительный прирост конверсии группы B относительно группы A')\n",
    "plt.axis([dt.datetime(2019, 8, 1), dt.datetime(2019, 9, 1), -0.2, 0.3])\n",
    "plt.xticks(rotation=70)\n",
    "plt.xlabel('date')\n",
    "plt.ylabel('conversion')\n",
    "plt.show()"
   ]
  },
  {
   "cell_type": "markdown",
   "metadata": {},
   "source": [
    "**Вывод** \n",
    "\n",
    "В начале теста группа B проигрывала группе A, затем вырвалась резко вперёд, а потом упала вновь. Затем она начала расти вплоть до 15 августа (прирост 20%), после чего стала немного падать до 0.1, но все равно выигрывает по сравнению с группой А. В целом отношение конверсии ещё не установилось, и сейчас делать какие-либо выводы по тесту нельзя. Впрочем, сперва стоит проанализировать аномалии, возможно, они изменят картину."
   ]
  },
  {
   "cell_type": "markdown",
   "metadata": {},
   "source": [
    "<a href='#start'>Вернуться к оглавлению</a>"
   ]
  },
  {
   "cell_type": "markdown",
   "metadata": {},
   "source": [
    "<a id=\"step_2.6\"></a>\n",
    "### Построить точечный график количества заказов по пользователям"
   ]
  },
  {
   "cell_type": "code",
   "execution_count": 34,
   "metadata": {},
   "outputs": [
    {
     "data": {
      "text/html": [
       "<div>\n",
       "<style scoped>\n",
       "    .dataframe tbody tr th:only-of-type {\n",
       "        vertical-align: middle;\n",
       "    }\n",
       "\n",
       "    .dataframe tbody tr th {\n",
       "        vertical-align: top;\n",
       "    }\n",
       "\n",
       "    .dataframe thead th {\n",
       "        text-align: right;\n",
       "    }\n",
       "</style>\n",
       "<table border=\"1\" class=\"dataframe\">\n",
       "  <thead>\n",
       "    <tr style=\"text-align: right;\">\n",
       "      <th></th>\n",
       "      <th>visitorid</th>\n",
       "      <th>transactionid</th>\n",
       "    </tr>\n",
       "  </thead>\n",
       "  <tbody>\n",
       "    <tr>\n",
       "      <th>0</th>\n",
       "      <td>5114589</td>\n",
       "      <td>1</td>\n",
       "    </tr>\n",
       "    <tr>\n",
       "      <th>1</th>\n",
       "      <td>6958315</td>\n",
       "      <td>1</td>\n",
       "    </tr>\n",
       "    <tr>\n",
       "      <th>2</th>\n",
       "      <td>8300375</td>\n",
       "      <td>2</td>\n",
       "    </tr>\n",
       "    <tr>\n",
       "      <th>3</th>\n",
       "      <td>11685486</td>\n",
       "      <td>1</td>\n",
       "    </tr>\n",
       "    <tr>\n",
       "      <th>4</th>\n",
       "      <td>39475350</td>\n",
       "      <td>1</td>\n",
       "    </tr>\n",
       "  </tbody>\n",
       "</table>\n",
       "</div>"
      ],
      "text/plain": [
       "   visitorid  transactionid\n",
       "0    5114589              1\n",
       "1    6958315              1\n",
       "2    8300375              2\n",
       "3   11685486              1\n",
       "4   39475350              1"
      ]
     },
     "execution_count": 34,
     "metadata": {},
     "output_type": "execute_result"
    }
   ],
   "source": [
    "#Подсчитаем количество заказов по пользователям\n",
    "ordersByUsers = (\n",
    "    orders.groupby('visitorid', as_index=False)\n",
    "    .agg({'transactionid': 'nunique'})\n",
    ")\n",
    "\n",
    "ordersByUsers.head()"
   ]
  },
  {
   "cell_type": "code",
   "execution_count": 35,
   "metadata": {},
   "outputs": [
    {
     "data": {
      "image/png": "[encoded data removed]",
      "text/plain": [
       "<Figure size 432x288 with 1 Axes>"
      ]
     },
     "metadata": {
      "needs_background": "light"
     },
     "output_type": "display_data"
    }
   ],
   "source": [
    "#Построим точечную диаграмму числа заказов на одного пользователя\n",
    "x_values = pd.Series(range(0,len(ordersByUsers)))\n",
    "\n",
    "plt.scatter(x_values, ordersByUsers['transactionid'])\n",
    "plt.title('Количество заказов по пользователям')\n",
    "plt.xlabel('Количество пользователей, чел')\n",
    "plt.ylabel('Количество заказов, шт')\n",
    "plt.show()"
   ]
  },
  {
   "cell_type": "markdown",
   "metadata": {},
   "source": [
    "**Вывод**\n",
    "\n",
    "В основном пользователи совершают 1-2 заказа.  \n",
    "Пользователей, заказавших более 3 раз немного, они вполне могут быть аномальными. Принято отсеивать от 1% до 5% наблюдений с крайними значениями."
   ]
  },
  {
   "cell_type": "markdown",
   "metadata": {},
   "source": [
    "<a href='#start'>Вернуться к оглавлению</a>"
   ]
  },
  {
   "cell_type": "markdown",
   "metadata": {},
   "source": [
    "<a id=\"step_2.7\"></a>\n",
    "### Посчитать 95-й и 99-й перцентили количества заказов на пользователя\n",
    "\n",
    "Выбрать границу для определения аномальных пользователей.\n"
   ]
  },
  {
   "cell_type": "code",
   "execution_count": 36,
   "metadata": {},
   "outputs": [
    {
     "data": {
      "text/plain": [
       "array([2., 4.])"
      ]
     },
     "execution_count": 36,
     "metadata": {},
     "output_type": "execute_result"
    }
   ],
   "source": [
    "np.percentile(ordersByUsers['transactionid'], [95, 99])"
   ]
  },
  {
   "cell_type": "markdown",
   "metadata": {},
   "source": [
    "**Вывод**\n",
    "\n",
    "Не более 5% пользователей оформляли больше 2 заказов. И не более 1% заказывали больше 4.\n",
    "Разумно выбрать 2 заказа на одного пользователя за верхнюю границу числа заказов, и отсеять аномальных пользователей по ней. \n"
   ]
  },
  {
   "cell_type": "markdown",
   "metadata": {},
   "source": [
    "<a href='#start'>Вернуться к оглавлению</a>"
   ]
  },
  {
   "cell_type": "markdown",
   "metadata": {},
   "source": [
    "<a id=\"step_2.8\"></a>\n",
    "### Построить точечный график стоимостей заказов"
   ]
  },
  {
   "cell_type": "code",
   "execution_count": 37,
   "metadata": {},
   "outputs": [
    {
     "data": {
      "text/html": [
       "<div>\n",
       "<style scoped>\n",
       "    .dataframe tbody tr th:only-of-type {\n",
       "        vertical-align: middle;\n",
       "    }\n",
       "\n",
       "    .dataframe tbody tr th {\n",
       "        vertical-align: top;\n",
       "    }\n",
       "\n",
       "    .dataframe thead th {\n",
       "        text-align: right;\n",
       "    }\n",
       "</style>\n",
       "<table border=\"1\" class=\"dataframe\">\n",
       "  <thead>\n",
       "    <tr style=\"text-align: right;\">\n",
       "      <th></th>\n",
       "      <th>transactionid</th>\n",
       "      <th>visitorid</th>\n",
       "      <th>date</th>\n",
       "      <th>revenue</th>\n",
       "      <th>group</th>\n",
       "    </tr>\n",
       "  </thead>\n",
       "  <tbody>\n",
       "    <tr>\n",
       "      <th>425</th>\n",
       "      <td>590470918</td>\n",
       "      <td>1920142716</td>\n",
       "      <td>2019-08-19</td>\n",
       "      <td>1294500</td>\n",
       "      <td>B</td>\n",
       "    </tr>\n",
       "    <tr>\n",
       "      <th>1196</th>\n",
       "      <td>3936777065</td>\n",
       "      <td>2108080724</td>\n",
       "      <td>2019-08-15</td>\n",
       "      <td>202740</td>\n",
       "      <td>B</td>\n",
       "    </tr>\n",
       "    <tr>\n",
       "      <th>858</th>\n",
       "      <td>192721366</td>\n",
       "      <td>1316129916</td>\n",
       "      <td>2019-08-27</td>\n",
       "      <td>93940</td>\n",
       "      <td>A</td>\n",
       "    </tr>\n",
       "    <tr>\n",
       "      <th>1136</th>\n",
       "      <td>666610489</td>\n",
       "      <td>1307669133</td>\n",
       "      <td>2019-08-13</td>\n",
       "      <td>92550</td>\n",
       "      <td>A</td>\n",
       "    </tr>\n",
       "    <tr>\n",
       "      <th>744</th>\n",
       "      <td>3668308183</td>\n",
       "      <td>888512513</td>\n",
       "      <td>2019-08-27</td>\n",
       "      <td>86620</td>\n",
       "      <td>B</td>\n",
       "    </tr>\n",
       "  </tbody>\n",
       "</table>\n",
       "</div>"
      ],
      "text/plain": [
       "      transactionid   visitorid       date  revenue group\n",
       "425       590470918  1920142716 2019-08-19  1294500     B\n",
       "1196     3936777065  2108080724 2019-08-15   202740     B\n",
       "858       192721366  1316129916 2019-08-27    93940     A\n",
       "1136      666610489  1307669133 2019-08-13    92550     A\n",
       "744      3668308183   888512513 2019-08-27    86620     B"
      ]
     },
     "execution_count": 37,
     "metadata": {},
     "output_type": "execute_result"
    }
   ],
   "source": [
    "orders.sort_values(by='revenue', ascending=False).head()"
   ]
  },
  {
   "cell_type": "code",
   "execution_count": 38,
   "metadata": {},
   "outputs": [
    {
     "data": {
      "image/png": "[encoded data removed]",
      "text/plain": [
       "<Figure size 432x288 with 1 Axes>"
      ]
     },
     "metadata": {
      "needs_background": "light"
     },
     "output_type": "display_data"
    }
   ],
   "source": [
    "#Построим точечную диаграмму стоимости заказов на одного пользователя\n",
    "x_values = pd.Series(range(0,len(orders)))\n",
    "\n",
    "plt.scatter(x_values, orders['revenue'])\n",
    "plt.title('Стоимость заказов по пользователям')\n",
    "plt.xlabel('Количество пользователей, чел')\n",
    "plt.ylabel('Стоимость заказов, усл.ед')\n",
    "plt.show()"
   ]
  },
  {
   "cell_type": "code",
   "execution_count": 39,
   "metadata": {},
   "outputs": [
    {
     "data": {
      "image/png": "[encoded data removed]",
      "text/plain": [
       "<Figure size 432x288 with 1 Axes>"
      ]
     },
     "metadata": {
      "needs_background": "light"
     },
     "output_type": "display_data"
    }
   ],
   "source": [
    "#Посмотрим поближе\n",
    "x_values = pd.Series(range(0,len(orders)))\n",
    "\n",
    "plt.scatter(x_values, orders['revenue'])\n",
    "plt.title('Стоимость заказов по пользователям')\n",
    "plt.xlabel('Количество пользователей, чел')\n",
    "plt.ylabel('Стоимость заказов, усл.ед')\n",
    "plt.ylim(0, 140000)\n",
    "plt.show()\n"
   ]
  },
  {
   "cell_type": "markdown",
   "metadata": {},
   "source": [
    "**Вывод**\n",
    "\n",
    "Видны 2 отчетливых выброса, оба заказа из группы B - 1294500 и 202740, они и повлияли на резкий скачок данных в группе В.  \n",
    "Основную массу заказов оформляют до 30000, посмотрим 95 и 99 перцентиль"
   ]
  },
  {
   "cell_type": "markdown",
   "metadata": {},
   "source": [
    "<a href='#start'>Вернуться к оглавлению</a>"
   ]
  },
  {
   "cell_type": "markdown",
   "metadata": {},
   "source": [
    "<a id=\"step_2.9\"></a>\n",
    "### Посчитать 95-й и 99-й перцентили стоимости заказов\n",
    "Выбрать границу для определения аномальных заказов\n"
   ]
  },
  {
   "cell_type": "code",
   "execution_count": 40,
   "metadata": {},
   "outputs": [
    {
     "data": {
      "text/plain": [
       "array([28000. , 58233.2])"
      ]
     },
     "execution_count": 40,
     "metadata": {},
     "output_type": "execute_result"
    }
   ],
   "source": [
    "np.percentile(orders['revenue'], [95,99])"
   ]
  },
  {
   "cell_type": "markdown",
   "metadata": {},
   "source": [
    "**Вывод**\n",
    "\n",
    "Не более 5% пользователей оформляли заказы стоимостью больше 28000. И не более 1% заказывали дороже 58233.\n",
    "Разумно выбрать цену стоимости заказа в 30 000 за верхнюю границу и отсеять аномальные величины по ней.\n"
   ]
  },
  {
   "cell_type": "markdown",
   "metadata": {},
   "source": [
    "<a href='#start'>Вернуться к оглавлению</a>"
   ]
  },
  {
   "cell_type": "markdown",
   "metadata": {},
   "source": [
    "<a id=\"step_2.10\"></a>\n",
    "### Посчитать статистическую значимость различий в среднем количестве заказов на посетителя между группами по «сырым» данным"
   ]
  },
  {
   "cell_type": "markdown",
   "metadata": {},
   "source": [
    "Сформулируем гипотезы.  \n",
    "Нулевая: различий в среднем количестве заказов между группами нет.   \n",
    "Альтернативная: различия в среднем между группами есть."
   ]
  },
  {
   "cell_type": "markdown",
   "metadata": {},
   "source": [
    "Для гипотезы применим непараметрический тест Уилкоксона-Манна-Уитни, так как в наших данных присутствуют выбросы и параметрические тесты сработают плохо."
   ]
  },
  {
   "cell_type": "code",
   "execution_count": 41,
   "metadata": {},
   "outputs": [],
   "source": [
    "visitorsADaily = visitors[visitors['group'] == 'A'][['date', 'visitors']]\n",
    "visitorsADaily.columns = ['date', 'visitorsPerDateA']\n",
    "\n",
    "visitorsBDaily = visitors[visitors['group'] == 'B'][['date', 'visitors']]\n",
    "visitorsBDaily.columns = ['date', 'visitorsPerDateB']"
   ]
  },
  {
   "cell_type": "code",
   "execution_count": 42,
   "metadata": {},
   "outputs": [],
   "source": [
    "visitorsACummulative =  cumulativeData[cumulativeData['group'] == 'A'][['date','visitors']]\n",
    "visitorsACummulative.columns = ['date', 'visitorsCummulativeA']"
   ]
  },
  {
   "cell_type": "code",
   "execution_count": 43,
   "metadata": {},
   "outputs": [],
   "source": [
    "visitorsBCummulative =  cumulativeData[cumulativeData['group'] == 'B'][['date','visitors']]\n",
    "visitorsBCummulative.columns = ['date', 'visitorsCummulativeB']\n"
   ]
  },
  {
   "cell_type": "code",
   "execution_count": 44,
   "metadata": {},
   "outputs": [],
   "source": [
    "ordersADaily = (\n",
    "    orders[orders['group'] == 'A'][['date', 'transactionid', 'visitorid', 'revenue']]\n",
    "    .groupby('date', as_index=False)\n",
    "    .agg({'transactionid': pd.Series.nunique, 'revenue': 'sum'})\n",
    ")\n",
    "ordersADaily.columns = ['date', 'ordersPerDateA', 'revenuePerDateA']\n",
    "\n",
    "ordersBDaily = (\n",
    "    orders[orders['group'] == 'B'][['date', 'transactionid', 'visitorid', 'revenue']]\n",
    "    .groupby('date', as_index=False)\n",
    "    .agg({'transactionid': pd.Series.nunique, 'revenue': 'sum'})\n",
    ")\n",
    "ordersBDaily.columns = ['date', 'ordersPerDateB', 'revenuePerDateB']\n"
   ]
  },
  {
   "cell_type": "code",
   "execution_count": 45,
   "metadata": {},
   "outputs": [],
   "source": [
    "ordersACummulative = cumulativeData[cumulativeData['group'] == 'A'][['date','orders', 'revenue']]\n",
    "ordersACummulative.columns = [\n",
    "    'date',\n",
    "    'ordersCummulativeA',\n",
    "    'revenueCummulativeA',\n",
    "]"
   ]
  },
  {
   "cell_type": "code",
   "execution_count": 46,
   "metadata": {},
   "outputs": [],
   "source": [
    "ordersBCummulative = cumulativeData[cumulativeData['group'] == 'B'][['date','orders', 'revenue']]\n",
    "ordersBCummulative.columns = [\n",
    "    'date',\n",
    "    'ordersCummulativeB',\n",
    "    'revenueCummulativeB',\n",
    "]"
   ]
  },
  {
   "cell_type": "code",
   "execution_count": 47,
   "metadata": {},
   "outputs": [
    {
     "data": {
      "text/html": [
       "<div>\n",
       "<style scoped>\n",
       "    .dataframe tbody tr th:only-of-type {\n",
       "        vertical-align: middle;\n",
       "    }\n",
       "\n",
       "    .dataframe tbody tr th {\n",
       "        vertical-align: top;\n",
       "    }\n",
       "\n",
       "    .dataframe thead th {\n",
       "        text-align: right;\n",
       "    }\n",
       "</style>\n",
       "<table border=\"1\" class=\"dataframe\">\n",
       "  <thead>\n",
       "    <tr style=\"text-align: right;\">\n",
       "      <th></th>\n",
       "      <th>date</th>\n",
       "      <th>ordersPerDateA</th>\n",
       "      <th>revenuePerDateA</th>\n",
       "      <th>ordersPerDateB</th>\n",
       "      <th>revenuePerDateB</th>\n",
       "      <th>ordersCummulativeA</th>\n",
       "      <th>revenueCummulativeA</th>\n",
       "      <th>ordersCummulativeB</th>\n",
       "      <th>revenueCummulativeB</th>\n",
       "      <th>visitorsPerDateA</th>\n",
       "      <th>visitorsPerDateB</th>\n",
       "      <th>visitorsCummulativeA</th>\n",
       "      <th>visitorsCummulativeB</th>\n",
       "    </tr>\n",
       "  </thead>\n",
       "  <tbody>\n",
       "    <tr>\n",
       "      <th>0</th>\n",
       "      <td>2019-08-01</td>\n",
       "      <td>24</td>\n",
       "      <td>148579</td>\n",
       "      <td>21</td>\n",
       "      <td>101217</td>\n",
       "      <td>24</td>\n",
       "      <td>148579</td>\n",
       "      <td>21</td>\n",
       "      <td>101217</td>\n",
       "      <td>719</td>\n",
       "      <td>713</td>\n",
       "      <td>719</td>\n",
       "      <td>713</td>\n",
       "    </tr>\n",
       "    <tr>\n",
       "      <th>1</th>\n",
       "      <td>2019-08-02</td>\n",
       "      <td>20</td>\n",
       "      <td>93822</td>\n",
       "      <td>24</td>\n",
       "      <td>165531</td>\n",
       "      <td>44</td>\n",
       "      <td>242401</td>\n",
       "      <td>45</td>\n",
       "      <td>266748</td>\n",
       "      <td>619</td>\n",
       "      <td>581</td>\n",
       "      <td>1338</td>\n",
       "      <td>1294</td>\n",
       "    </tr>\n",
       "    <tr>\n",
       "      <th>2</th>\n",
       "      <td>2019-08-03</td>\n",
       "      <td>24</td>\n",
       "      <td>112473</td>\n",
       "      <td>16</td>\n",
       "      <td>114248</td>\n",
       "      <td>68</td>\n",
       "      <td>354874</td>\n",
       "      <td>61</td>\n",
       "      <td>380996</td>\n",
       "      <td>507</td>\n",
       "      <td>509</td>\n",
       "      <td>1845</td>\n",
       "      <td>1803</td>\n",
       "    </tr>\n",
       "    <tr>\n",
       "      <th>3</th>\n",
       "      <td>2019-08-04</td>\n",
       "      <td>16</td>\n",
       "      <td>70825</td>\n",
       "      <td>17</td>\n",
       "      <td>108571</td>\n",
       "      <td>84</td>\n",
       "      <td>425699</td>\n",
       "      <td>78</td>\n",
       "      <td>489567</td>\n",
       "      <td>717</td>\n",
       "      <td>770</td>\n",
       "      <td>2562</td>\n",
       "      <td>2573</td>\n",
       "    </tr>\n",
       "    <tr>\n",
       "      <th>4</th>\n",
       "      <td>2019-08-05</td>\n",
       "      <td>25</td>\n",
       "      <td>124218</td>\n",
       "      <td>23</td>\n",
       "      <td>92428</td>\n",
       "      <td>109</td>\n",
       "      <td>549917</td>\n",
       "      <td>101</td>\n",
       "      <td>581995</td>\n",
       "      <td>756</td>\n",
       "      <td>707</td>\n",
       "      <td>3318</td>\n",
       "      <td>3280</td>\n",
       "    </tr>\n",
       "  </tbody>\n",
       "</table>\n",
       "</div>"
      ],
      "text/plain": [
       "        date  ordersPerDateA  revenuePerDateA  ordersPerDateB  \\\n",
       "0 2019-08-01              24           148579              21   \n",
       "1 2019-08-02              20            93822              24   \n",
       "2 2019-08-03              24           112473              16   \n",
       "3 2019-08-04              16            70825              17   \n",
       "4 2019-08-05              25           124218              23   \n",
       "\n",
       "   revenuePerDateB  ordersCummulativeA  revenueCummulativeA  \\\n",
       "0           101217                  24               148579   \n",
       "1           165531                  44               242401   \n",
       "2           114248                  68               354874   \n",
       "3           108571                  84               425699   \n",
       "4            92428                 109               549917   \n",
       "\n",
       "   ordersCummulativeB  revenueCummulativeB  visitorsPerDateA  \\\n",
       "0                  21               101217               719   \n",
       "1                  45               266748               619   \n",
       "2                  61               380996               507   \n",
       "3                  78               489567               717   \n",
       "4                 101               581995               756   \n",
       "\n",
       "   visitorsPerDateB  visitorsCummulativeA  visitorsCummulativeB  \n",
       "0               713                   719                   713  \n",
       "1               581                  1338                  1294  \n",
       "2               509                  1845                  1803  \n",
       "3               770                  2562                  2573  \n",
       "4               707                  3318                  3280  "
      ]
     },
     "execution_count": 47,
     "metadata": {},
     "output_type": "execute_result"
    }
   ],
   "source": [
    "data = (ordersADaily\n",
    "    .merge(ordersBDaily, left_on='date', right_on='date', how='left')\n",
    "    .merge(ordersACummulative, left_on='date', right_on='date', how='left')\n",
    "    .merge(ordersBCummulative, left_on='date', right_on='date', how='left')\n",
    "    .merge(visitorsADaily, left_on='date', right_on='date', how='left')\n",
    "    .merge(visitorsBDaily, left_on='date', right_on='date', how='left')\n",
    "    .merge(visitorsACummulative, left_on='date', right_on='date', how='left')\n",
    "    .merge(visitorsBCummulative, left_on='date', right_on='date', how='left')\n",
    ")\n",
    "data.head()"
   ]
  },
  {
   "cell_type": "markdown",
   "metadata": {},
   "source": [
    "*Описание названия столбцов данных:*\n",
    "\n",
    "* date — дата;\n",
    "* ordersPerDateA — количество заказов в выбранную дату в группе A;\n",
    "* revenuePerDateA — суммарная выручка в выбранную дату в группе A;\n",
    "* ordersPerDateB — количество заказов в выбранную дату в группе B;\n",
    "* revenuePerDateB — суммарная выручка в выбранную дату в группе B;\n",
    "* ordersCummulativeA — суммарное число заказов до выбранной даты включительно в группе A;\n",
    "* revenueCummulativeA — суммарная выручка до выбранной даты включительно в группе A;\n",
    "* ordersCummulativeB — суммарное количество заказов до выбранной даты включительно в группе B;\n",
    "* revenueCummulativeB — суммарная выручка до выбранной даты включительно в группе B;\n",
    "* visitorsPerDateA — количество пользователей в выбранную дату в группе A;\n",
    "* visitorsPerDateB — количество пользователей в выбранную дату в группе B;\n",
    "* visitorsCummulativeA — количество пользователей до выбранной даты включительно в группе A;\n",
    "* visitorsCummulativeB — количество пользователей до выбранной даты включительно в группе B."
   ]
  },
  {
   "cell_type": "code",
   "execution_count": 48,
   "metadata": {},
   "outputs": [],
   "source": [
    "# Создадим переменные ordersByUsersA и ordersByUsersB со столбцами ['userId', 'orders']. \n",
    "# В них для пользователей, которые заказывали хотя бы 1 раз, укажем число совершённых заказов. \n",
    "ordersByUsersA = (\n",
    "    orders[orders['group'] == 'A']\n",
    "    .groupby('visitorid', as_index=False)\n",
    "    .agg({'transactionid': pd.Series.nunique})\n",
    ")\n",
    "ordersByUsersA.columns = ['visitorid', 'orders']\n",
    "\n",
    "ordersByUsersB = (\n",
    "    orders[orders['group'] == 'B']\n",
    "    .groupby('visitorid', as_index=False)\n",
    "    .agg({'transactionid': pd.Series.nunique})\n",
    ")\n",
    "ordersByUsersB.columns = ['visitorid', 'orders']"
   ]
  },
  {
   "cell_type": "markdown",
   "metadata": {},
   "source": [
    "Объявим переменные sampleA и sampleB, в которых пользователям из разных групп будет соответствовать количество заказов.   \n",
    "Тем, кто ничего не заказал, будут соответствовать нули. "
   ]
  },
  {
   "cell_type": "code",
   "execution_count": 49,
   "metadata": {},
   "outputs": [],
   "source": [
    "sampleA = pd.concat(\n",
    "    [\n",
    "        ordersByUsersA['orders'],\n",
    "        pd.Series(\n",
    "            0,\n",
    "            index=np.arange(\n",
    "                data['visitorsPerDateA'].sum() - len(ordersByUsersA['orders'])\n",
    "            ),\n",
    "            name='orders',\n",
    "        ),\n",
    "    ],\n",
    "    axis=0,\n",
    ")\n",
    "\n",
    "sampleB = pd.concat(\n",
    "    [\n",
    "        ordersByUsersB['orders'],\n",
    "        pd.Series(\n",
    "            0,\n",
    "            index=np.arange(\n",
    "                data['visitorsPerDateB'].sum() - len(ordersByUsersB['orders'])\n",
    "            ),\n",
    "            name='orders',\n",
    "        ),\n",
    "    ],\n",
    "    axis=0,\n",
    ")"
   ]
  },
  {
   "cell_type": "code",
   "execution_count": 50,
   "metadata": {},
   "outputs": [
    {
     "name": "stdout",
     "output_type": "stream",
     "text": [
      "p-значение:  0.017\n",
      "Отвергаем нулевую гипотезу: разница статистически значима\n"
     ]
    }
   ],
   "source": [
    "# Применим критерий и отформатируем p-value, округлив его до трёх знаков после запятой.\n",
    "alpha = 0.05 \n",
    "\n",
    "results = st.mannwhitneyu(sampleA, sampleB) \n",
    "\n",
    "print('p-значение: ', \"{0:.3f}\".format(results[1]))\n",
    "\n",
    "if results.pvalue < alpha:\n",
    "    print('Отвергаем нулевую гипотезу: разница статистически значима')\n",
    "else:\n",
    "    print(\n",
    "        'Не получилось отвергнуть нулевую гипотезу, вывод о различии сделать нельзя'\n",
    "    ) \n"
   ]
  },
  {
   "cell_type": "code",
   "execution_count": 51,
   "metadata": {},
   "outputs": [
    {
     "name": "stdout",
     "output_type": "stream",
     "text": [
      "0.138\n"
     ]
    }
   ],
   "source": [
    "#Выведем относительный прирост среднего числа заказов группы B\n",
    "print(\"{0:.3f}\".format(sampleB.mean() / sampleA.mean() - 1))"
   ]
  },
  {
   "cell_type": "markdown",
   "metadata": {},
   "source": [
    "**Вывод** \n",
    "\n",
    "Полученный результат p-значения: 0.017 говорит о том, что с очень маленькой вероятностью такой результат(различий в среднем количестве заказов между группами нет) можно получить случайно, поэтому на уровне значимости 5% (уровне доверия 95%) есть основания отвергнуть нулевую гипотезу в пользу альтернативной.\n",
    "\n",
    "Относительный прирост среднего числа заказов группы В к конверсии группы А равен 13.8%.\n",
    "\n"
   ]
  },
  {
   "cell_type": "markdown",
   "metadata": {},
   "source": [
    "<a href='#start'>Вернуться к оглавлению</a>"
   ]
  },
  {
   "cell_type": "markdown",
   "metadata": {},
   "source": [
    "<a id=\"step_2.11\"></a>\n",
    "### Посчитать статистическую значимость различий в среднем чеке заказа между группами по «сырым» данным"
   ]
  },
  {
   "cell_type": "markdown",
   "metadata": {},
   "source": [
    "Нулевая гипотеза: различий в среднем чеке между группами нет.   \n",
    "Альтернативная гипотеза: различия в среднем чеке между группами есть.  \n",
    "\n",
    "Для анализа также применим непараметрический тест Уилкоксона-Манна-Уитни"
   ]
  },
  {
   "cell_type": "code",
   "execution_count": 52,
   "metadata": {},
   "outputs": [
    {
     "name": "stdout",
     "output_type": "stream",
     "text": [
      "p-значение:  0.729\n",
      "Не получилось отвергнуть нулевую гипотезу, вывод о различии сделать нельзя\n"
     ]
    }
   ],
   "source": [
    "# Применим критерий и отформатируем p-value, округлив его до трёх знаков после запятой.\n",
    "alpha = 0.05 \n",
    "\n",
    "results = st.mannwhitneyu(orders[orders['group']=='A']['revenue'], orders[orders['group']=='B']['revenue'])\n",
    "\n",
    "print('p-значение: ', \"{0:.3f}\".format(results[1]))\n",
    "\n",
    "if results.pvalue < alpha:\n",
    "    print('Отвергаем нулевую гипотезу: разница статистически значима')\n",
    "else:\n",
    "    print(\n",
    "        'Не получилось отвергнуть нулевую гипотезу, вывод о различии сделать нельзя'\n",
    "    ) \n"
   ]
  },
  {
   "cell_type": "code",
   "execution_count": 53,
   "metadata": {},
   "outputs": [
    {
     "name": "stdout",
     "output_type": "stream",
     "text": [
      "0.259\n"
     ]
    }
   ],
   "source": [
    "#найдём относительные различия в среднем чеке между группами\n",
    "print('{0:.3f}'.format(orders[orders['group']=='B']['revenue'].mean()/orders[orders['group']=='A']['revenue'].mean()-1))"
   ]
  },
  {
   "cell_type": "markdown",
   "metadata": {},
   "source": [
    "**Вывод**\n",
    "\n",
    "Полученное p-значение: 0.729 говорит о том, что с вероятностью 72.9% такой результат(различий в среднем чеке между группами нет) можно получить случайно, поэтому на уровне значимости 5% (уровне доверия 95%) нет оснований отвергнуть нулевую гипотезу в пользу альтернативной.\n",
    "\n",
    "Относительное различие среднего чека между группами 25.9%,которое, вероятнее всего, обусловлено влиянием аномальных выбросов в группе В.\n"
   ]
  },
  {
   "cell_type": "markdown",
   "metadata": {},
   "source": [
    "<a href='#start'>Вернуться к оглавлению</a>"
   ]
  },
  {
   "cell_type": "markdown",
   "metadata": {},
   "source": [
    "<a id=\"step_2.12\"></a>\n",
    "### Посчитать статистическую значимость различий в среднем количестве заказов на посетителя между группамипо «очищенным» данным"
   ]
  },
  {
   "cell_type": "markdown",
   "metadata": {},
   "source": [
    "Напомним, что найденные ранее 95-й и 99-й перцентили стоимости заказов равны 28000, 58233.2 усл.ед. А 95-й и 99-й перцентили количества заказов на одного пользователя равны 2 и 4 заказа на пользователя."
   ]
  },
  {
   "cell_type": "markdown",
   "metadata": {},
   "source": [
    "Примем за аномальных пользователей тех, кто совершил от 3 заказов или совершил заказ дороже 30 000 рублей.  Так мы уберём от 1-5% пользователей с наибольшим числом заказов и от 1% до 5% пользователей с дорогими заказами. "
   ]
  },
  {
   "cell_type": "code",
   "execution_count": 54,
   "metadata": {},
   "outputs": [],
   "source": [
    "# Сделаем срезы пользователей с числом заказов больше 3\n",
    "\n",
    "usersWithManyOrders = pd.concat(\n",
    "    [\n",
    "        ordersByUsersA[ordersByUsersA['orders'] > 2]['visitorid'],\n",
    "        ordersByUsersB[ordersByUsersB['orders'] > 2]['visitorid'],\n",
    "    ],\n",
    "    axis=0,\n",
    ")\n"
   ]
  },
  {
   "cell_type": "code",
   "execution_count": 55,
   "metadata": {},
   "outputs": [],
   "source": [
    "# Сделаем срезы пользователей совершивших заказы дороже 30 000 — usersWithExpensiveOrders\n",
    "usersWithExpensiveOrders = orders[orders['revenue'] > 30000]['visitorid']\n"
   ]
  },
  {
   "cell_type": "code",
   "execution_count": 56,
   "metadata": {},
   "outputs": [],
   "source": [
    "#  Объединим их в таблице abnormalUsers\n",
    "abnormalUsers = (\n",
    "    pd.concat([usersWithManyOrders, usersWithExpensiveOrders], axis=0)\n",
    "    .drop_duplicates()\n",
    "    .sort_values()\n",
    ")"
   ]
  },
  {
   "cell_type": "code",
   "execution_count": 57,
   "metadata": {},
   "outputs": [
    {
     "data": {
      "text/plain": [
       "1099    148427295\n",
       "18      199603092\n",
       "928     204675465\n",
       "23      237748145\n",
       "37      249864742\n",
       "Name: visitorid, dtype: int64"
      ]
     },
     "execution_count": 57,
     "metadata": {},
     "output_type": "execute_result"
    }
   ],
   "source": [
    "abnormalUsers.head(5)"
   ]
  },
  {
   "cell_type": "code",
   "execution_count": 58,
   "metadata": {},
   "outputs": [
    {
     "data": {
      "text/plain": [
       "68"
      ]
     },
     "execution_count": 58,
     "metadata": {},
     "output_type": "execute_result"
    }
   ],
   "source": [
    "#Узнаем, сколько всего аномальных пользователей\n",
    "abnormalUsers.shape[0]"
   ]
  },
  {
   "cell_type": "markdown",
   "metadata": {},
   "source": [
    "В нашей выборке было 1197 пользователей, аномальных получилось 68 пользователей, что составляет всего 5.7% от всей выборки,что считаем приемлимым и будем работать теперь с \"очищенными\" данными"
   ]
  },
  {
   "cell_type": "code",
   "execution_count": 59,
   "metadata": {},
   "outputs": [],
   "source": [
    "# подготовим выборки количества заказов по пользователям по группам теста\n",
    "sampleAFiltered = pd.concat(\n",
    "    [\n",
    "        ordersByUsersA[\n",
    "            np.logical_not(ordersByUsersA['visitorid'].isin(abnormalUsers))\n",
    "        ]['orders'],\n",
    "        pd.Series(\n",
    "            0,\n",
    "            index=np.arange(\n",
    "                data['visitorsPerDateA'].sum() - len(ordersByUsersA['orders'])\n",
    "            ),\n",
    "            name='orders',\n",
    "        ),\n",
    "    ],\n",
    "    axis=0,\n",
    ")\n",
    "\n",
    "sampleBFiltered = pd.concat(\n",
    "    [\n",
    "        ordersByUsersB[\n",
    "            np.logical_not(ordersByUsersB['visitorid'].isin(abnormalUsers))\n",
    "        ]['orders'],\n",
    "        pd.Series(\n",
    "            0,\n",
    "            index=np.arange(\n",
    "                data['visitorsPerDateB'].sum() - len(ordersByUsersB['orders'])\n",
    "            ),\n",
    "            name='orders',\n",
    "        ),\n",
    "    ],\n",
    "    axis=0,\n",
    ")"
   ]
  },
  {
   "cell_type": "markdown",
   "metadata": {},
   "source": [
    "Сформулируем гипотезы.  \n",
    "Нулевая: различий в среднем количестве заказов между группами нет.   \n",
    "Альтернативная: различия в среднем между группами есть."
   ]
  },
  {
   "cell_type": "markdown",
   "metadata": {},
   "source": [
    "Применим статистический критерий Манна-Уитни к полученным выборкам:"
   ]
  },
  {
   "cell_type": "code",
   "execution_count": 60,
   "metadata": {},
   "outputs": [
    {
     "name": "stdout",
     "output_type": "stream",
     "text": [
      "p-значение:  0.013\n",
      "Отвергаем нулевую гипотезу: разница статистически значима\n"
     ]
    }
   ],
   "source": [
    "alpha = 0.05 \n",
    "\n",
    "results = st.mannwhitneyu(sampleAFiltered, sampleBFiltered) \n",
    "\n",
    "print('p-значение: ', \"{0:.3f}\".format(results[1]))\n",
    "\n",
    "if results.pvalue < alpha:\n",
    "    print('Отвергаем нулевую гипотезу: разница статистически значима')\n",
    "else:\n",
    "    print(\n",
    "        'Не получилось отвергнуть нулевую гипотезу, вывод о различии сделать нельзя'\n",
    "    ) \n"
   ]
  },
  {
   "cell_type": "code",
   "execution_count": 61,
   "metadata": {},
   "outputs": [
    {
     "name": "stdout",
     "output_type": "stream",
     "text": [
      "0.172\n"
     ]
    }
   ],
   "source": [
    "#Выведем относительный прирост среднего числа заказов группы B\n",
    "print(\"{0:.3f}\".format(sampleBFiltered.mean()/sampleAFiltered.mean()-1))"
   ]
  },
  {
   "cell_type": "markdown",
   "metadata": {},
   "source": [
    "**Вывод**\n",
    "\n",
    "Результаты по среднему количеству заказов практически не изменились. \n",
    "Было: p-значение:  0.017 и относительный прирост 13.8%\n",
    "Стало: p-значение:  0.013 и относительный прирост 17.2%\n",
    "Как и в случае с сырыми данными  мы отвергаем нулевую гипотезу в пользу альтернативной и группа В лучше группы А."
   ]
  },
  {
   "cell_type": "markdown",
   "metadata": {},
   "source": [
    "<a href='#start'>Вернуться к оглавлению</a>"
   ]
  },
  {
   "cell_type": "markdown",
   "metadata": {},
   "source": [
    "<a id=\"step_2.13\"></a>\n",
    "### Посчитать статистическую значимость различий в среднем чеке заказа между группами по «очищенным» данным"
   ]
  },
  {
   "cell_type": "markdown",
   "metadata": {},
   "source": [
    "Нулевая гипотеза: различий в среднем чеке между группами нет.  \n",
    "Альтернативная гипотеза: различия в среднем чеке между группами есть.\n",
    "\n",
    "Для анализа также применим непараметрический тест Уилкоксона-Манна-Уитни"
   ]
  },
  {
   "cell_type": "code",
   "execution_count": 62,
   "metadata": {},
   "outputs": [
    {
     "name": "stdout",
     "output_type": "stream",
     "text": [
      "p-значение:  0.720\n",
      "Не получилось отвергнуть нулевую гипотезу, вывод о различии сделать нельзя\n"
     ]
    }
   ],
   "source": [
    "# Применим критерий и отформатируем p-value, округлив его до трёх знаков после запятой.\n",
    "alpha = 0.05 \n",
    "\n",
    "results = st.mannwhitneyu(\n",
    "            orders[\n",
    "                np.logical_and(\n",
    "                    orders['group'] == 'A',\n",
    "                    np.logical_not(orders['visitorid'].isin(abnormalUsers)),\n",
    "                )\n",
    "            ]['revenue'],\n",
    "            orders[\n",
    "                np.logical_and(\n",
    "                    orders['group'] == 'B',\n",
    "                    np.logical_not(orders['visitorid'].isin(abnormalUsers)),\n",
    "                )\n",
    "            ]['revenue'],\n",
    "        )\n",
    "\n",
    "\n",
    "print('p-значение: ', \"{0:.3f}\".format(results[1]))\n",
    "\n",
    "if results.pvalue < alpha:\n",
    "    print('Отвергаем нулевую гипотезу: разница статистически значима')\n",
    "else:\n",
    "    print(\n",
    "        'Не получилось отвергнуть нулевую гипотезу, вывод о различии сделать нельзя'\n",
    "    ) \n"
   ]
  },
  {
   "cell_type": "code",
   "execution_count": 63,
   "metadata": {},
   "outputs": [
    {
     "name": "stdout",
     "output_type": "stream",
     "text": [
      "-0.023\n"
     ]
    }
   ],
   "source": [
    "#найдём относительные различия в среднем чеке между группами\n",
    "print('{0:.3f}'.format(\n",
    "            orders[\n",
    "            np.logical_and(\n",
    "                orders['group'] == 'B',\n",
    "                np.logical_not(orders['visitorid'].isin(abnormalUsers)),\n",
    "            )\n",
    "        ]['revenue'].mean()\n",
    "        / orders[\n",
    "            np.logical_and(\n",
    "                orders['group'] == 'A',\n",
    "                np.logical_not(orders['visitorid'].isin(abnormalUsers)),\n",
    "            )\n",
    "        ]['revenue'].mean()\n",
    "        - 1\n",
    "))"
   ]
  },
  {
   "cell_type": "markdown",
   "metadata": {},
   "source": [
    "**Вывод**\n",
    "\n",
    "Было: p-значение:  0.729 и относительное различие среднего чека между группами 25.9%  \n",
    "Стало:  p-значение:  0.720 и относительное различие среднего чека между группами -2.3%  \n",
    "По \"очищенным\" данным у нас нет оснований отвергнуть нулевую гипотезу в пользу альтернативной.  \n",
    "После удаления аномальных значений средний чек группы B чуть ниже среднего чека группы A."
   ]
  },
  {
   "cell_type": "markdown",
   "metadata": {},
   "source": [
    "<a href='#start'>Вернуться к оглавлению</a>"
   ]
  },
  {
   "cell_type": "markdown",
   "metadata": {},
   "source": [
    "<a id=\"step_2.end\"></a>\n",
    "### Вывод  по результатам теста\n"
   ]
  },
  {
   "cell_type": "markdown",
   "metadata": {},
   "source": [
    "Результаты решенных нами задач:\n",
    "* Есть статистически значимое различие по конверсии между группами как по сырым данным, так и после фильтрации аномалий.\n",
    "* По сырым и очищенным данным нет статистически значимого различия по среднему чеку между группами.\n",
    "* График различия конверсии между группами сообщает, что результаты группы B лучше группы A зафиксировались около среднего значения.\n",
    "* График различия среднего чека в группе В показывает себя лучше, чем в группе А, но, в целом,отношение конверсии ещё не установилось, и сейчас делать какие-либо выводы по тесту нельзя.  После удаления аномальных значений различий в среднем чеке заказа между группами  не обнаружено.\n",
    "\n",
    "Исходя из фактов выше следует остановить тест, признать его успешным и перейти к проверке следующей гипотезы. Группа B статистически значимо лучше группы A по метрикам, а график конверсии говорит о фиксации результата.\n",
    "\n"
   ]
  },
  {
   "cell_type": "markdown",
   "metadata": {},
   "source": [
    "<a href='#start'>Вернуться к оглавлению</a>"
   ]
  },
  {
   "cell_type": "markdown",
   "metadata": {},
   "source": [
    "<a id=\"step_3\"></a>\n",
    "## Общий вывод"
   ]
  },
  {
   "cell_type": "markdown",
   "metadata": {},
   "source": [
    "    В ходе работы мы приоритизировали имеющиеся гипотезы,  и проанализировать результаты А/В теста.\n",
    "\n",
    "Задача 1. Приоритезация гипотез \n",
    "\n",
    "Из 9 гипотез методом ICE и RICE мы провели приоритезацию:\n",
    "\n",
    "Гипотезы: \n",
    "\n",
    "|Номер гипотезы | Описание гипотезы|\n",
    "|:----------------:|:----------------:|\n",
    "|0\t|Добавить два новых канала привлечения трафика, что позволит привлекать на 30% больше пользователей|\n",
    "|1\t|Запустить собственную службу доставки, что сократит срок доставки заказов|\n",
    "|2\t|Добавить блоки рекомендаций товаров на сайт интернет магазина, чтобы повысить конверсию и средний чек заказа|\n",
    "|3\t|Изменить структура категорий, что увеличит конверсию, т.к. пользователи быстрее найдут нужный товар\t|\n",
    "|4\t|Изменить цвет фона главной страницы, чтобы увеличить вовлеченность пользователей\t|\n",
    "|5\t|Добавить страницу отзывов клиентов о магазине, что позволит увеличить количество заказов\t|\n",
    "|6\t|Показать на главной странице баннеры с актуальными акциями и распродажами, чтобы увеличить конверсию\t|\n",
    "|7\t|Добавить форму подписки на все основные страницы, чтобы собрать базу клиентов для email-рассылок\t|\n",
    "|8\t|Запустить акцию, дающую скидку на товар в день рождения\t|\n",
    "\n",
    "Результаты проверки: \n",
    "\n",
    "|Приоритет по ICE  | Приоритет по RICE | \n",
    "|:----------------:|:----------------:|\n",
    "|8    |   7        |\n",
    "| 0         |  2|\n",
    "| 7      |0|\n",
    "|6    | 6      |\n",
    "| 2 | 8   |\n",
    "    \n",
    "Приоритизация по методам отличается, так как метод RICE учитывает дополнительно охват пользователей.\n",
    "Из топа ушла 8 гипотеза, потому что параметр reach(охват пользователей) в гипотезе №8 равен 1, в то время как у других гипотез он больше. Гипотезы 7 и 2 поднялись из-за высокого показателя reach\n",
    "   \n",
    "   \n",
    "Задача 2. Анализа А/В теста\n",
    "\n",
    "* проанализировали наши данные и есть пользователи, которые попали в обе группы теста одновременно -58 чел, возможно, это говорит об ошибке в сборе данных. Так как удаление этих пользователей повлияет на конверсию, поскольку мы можем удалить этих пользователей из таблицы с заказами, но не сможем удалить из таблицы с визитами, так как там данные уже агрегированы за день.  Соответственно  мы не удаляли пользователей, попавших в обе группы.\n",
    "\n",
    "* Посмотрели ближе результаты А/В теста и зафиксировали следующее:\n",
    "   * в данных присутствуют аномальные значения, из за которых на графиках присутстсвую резкие скачки данных\n",
    "   * комулятивный график по выручке показал, что в целом группа В лидирует по сравнению с группой А\n",
    "   * комулятивный график по среднему чеку, показал резкий скачок ср.чека в группе \"B\" 17.08.2019 , он стал выше 10000. Для группы \"А\" пик был 13.08.2019 (7000-8000), после наблюдается спад.\n",
    "   * Относительное изменение кумулятивного среднего чека группы B к группе A резко менялись в несколько дат. Видимо, тогда и были совершены аномальные заказы.\n",
    "   * комулятивный график конверсии показал, что в  начале теста группа А имела большую конверсию, но постепенно группа В вырвался вперед и зафиксировался примерно около одного значения, больше значения группы А. В целом группа В показала себя лучше. чем группа А\n",
    "   * В основном пользователи совершают 1-2 заказа. Не более 5% пользователей оформляли больше 2 заказов. И не более 1% заказывали больше 4\n",
    "   * Основную массу заказов оформляют до 30000. Не более 5% пользователей оформляли заказы стоимостью больше 28000. И не более 1% заказывали дороже 58233. \n",
    "\n",
    "* Для гипотезы применили непараметрический тест Уилкоксона-Манна-Уитни, так как в наших данных присутствуют выбросы и параметрические тесты сработают плохо.\n",
    "\n",
    "       1. Статистическая значимость различий в среднем количестве заказов на посетителя между группами по \"сырым\" и \"очищенным\" данным.\n",
    "       \n",
    "Нулевая: различий в среднем количестве заказов между группами нет.  \n",
    "Альтернативная: различия в среднем между группами есть.  \n",
    "\n",
    "*Результат по \"сырым\" данным*: p-значения: 0.017, относительный прирост среднего числа заказов группы В к конверсии группы А равен 13.8%. На уровне значимости 5% (уровне доверия 95%) есть основания отвергнуть нулевую гипотезу в пользу альтернативной.  \n",
    "*Результат по \"очищенным\" данным*: р-значение: 0.013 и относительный прирост 17.2%. Как и в случае с сырыми данными мы отвергаем нулевую гипотезу в пользу альтернативной и группа В лучше группы А.\n",
    "\n",
    "\n",
    "          2. Статистическая значимость различий в среднем чеке заказа между группами по \"сырым\" и \"очищенным\" данным\n",
    "        \n",
    "Нулевая гипотеза: различий в среднем чеке между группами нет.  \n",
    "Альтернативная гипотеза: различия в среднем чеке между группами есть.  \n",
    "\n",
    "*Результат по \"сырым\" данным*: p-значение: 0.729,относительное различие среднего чека между группами 25.9%,которое,  обусловлено влиянием аномальных выбросов в группе В.\n",
    "На уровне значимости 5% (уровне доверия 95%) нет оснований отвергнуть нулевую гипотезу в пользу альтернативной.  \n",
    "*Результат по \"очищенным\" данным*: p-значение: 0.720 и относительное различие среднего чека между группами -2.3%  \n",
    "По \"очищенным\" данным у нас нет оснований отвергнуть нулевую гипотезу в пользу альтернативной.  \n",
    "После удаления аномальных значений средний чек группы B чуть ниже среднего чека группы A.  \n",
    "\n",
    "        \n",
    "* Результаты решенных нами задач:\n",
    "\n",
    "  * Есть статистически значимое различие по конверсии между группами как по сырым данным, так и после фильтрации аномалий.\n",
    "  * По сырым и очищенным данным нет статистически значимого различия по среднему чеку между группами.\n",
    "  * График различия конверсии между группами сообщает, что результаты группы B лучше группы A зафиксировались около среднего значения.\n",
    "  * График различия среднего чека в группе В показывает себя лучше, чем в группе А, но, в целом, отношение конверсии ещё не установилось, и сейчас делать какие-либо выводы по тесту нельзя. После удаления аномальных значений различий в среднем чеке заказа между группами не обнаружено.   \n",
    "\n",
    "Исходя из фактов выше следует остановить тест, признать его успешным и перейти к проверке следующей гипотезы. Группа B статистически значимо лучше группы A по метрикам, а график конверсии говорит о фиксации результата."
   ]
  }
 ],
 "metadata": {
  "ExecuteTimeLog": [
   {
    "duration": 63,
    "start_time": "2023-02-13T18:39:42.364Z"
   },
   {
    "duration": 48,
    "start_time": "2023-02-13T18:41:07.346Z"
   },
   {
    "duration": 46,
    "start_time": "2023-02-13T18:48:43.772Z"
   },
   {
    "duration": 1302,
    "start_time": "2023-02-13T18:51:42.724Z"
   },
   {
    "duration": 195,
    "start_time": "2023-02-13T18:55:34.762Z"
   },
   {
    "duration": 74,
    "start_time": "2023-02-13T18:55:52.394Z"
   },
   {
    "duration": 40,
    "start_time": "2023-02-13T18:56:02.377Z"
   },
   {
    "duration": 31,
    "start_time": "2023-02-13T18:56:57.436Z"
   },
   {
    "duration": 18,
    "start_time": "2023-02-13T18:57:03.026Z"
   },
   {
    "duration": 46,
    "start_time": "2023-02-13T18:58:36.618Z"
   },
   {
    "duration": 11,
    "start_time": "2023-02-13T19:01:08.326Z"
   },
   {
    "duration": 47,
    "start_time": "2023-02-13T19:02:33.449Z"
   },
   {
    "duration": 4,
    "start_time": "2023-02-13T19:02:41.574Z"
   },
   {
    "duration": 4,
    "start_time": "2023-02-13T19:03:15.181Z"
   },
   {
    "duration": 9,
    "start_time": "2023-02-13T19:03:28.068Z"
   },
   {
    "duration": 10,
    "start_time": "2023-02-13T19:05:29.650Z"
   },
   {
    "duration": 11,
    "start_time": "2023-02-13T19:09:41.162Z"
   },
   {
    "duration": 10,
    "start_time": "2023-02-13T19:10:08.789Z"
   },
   {
    "duration": 12,
    "start_time": "2023-02-13T19:10:15.241Z"
   },
   {
    "duration": 12,
    "start_time": "2023-02-13T19:10:23.118Z"
   },
   {
    "duration": 8,
    "start_time": "2023-02-13T19:11:30.689Z"
   },
   {
    "duration": 5,
    "start_time": "2023-02-13T19:11:53.827Z"
   },
   {
    "duration": 61,
    "start_time": "2023-02-13T19:12:11.788Z"
   },
   {
    "duration": 5,
    "start_time": "2023-02-13T19:12:17.725Z"
   },
   {
    "duration": 13,
    "start_time": "2023-02-13T19:12:40.647Z"
   },
   {
    "duration": 3,
    "start_time": "2023-02-13T19:13:11.231Z"
   },
   {
    "duration": 41,
    "start_time": "2023-02-13T19:13:21.124Z"
   },
   {
    "duration": 4,
    "start_time": "2023-02-13T19:13:25.674Z"
   },
   {
    "duration": 16,
    "start_time": "2023-02-13T19:13:44.023Z"
   },
   {
    "duration": 5,
    "start_time": "2023-02-13T19:14:02.790Z"
   },
   {
    "duration": 9,
    "start_time": "2023-02-13T19:15:09.136Z"
   },
   {
    "duration": 8,
    "start_time": "2023-02-13T19:15:57.425Z"
   },
   {
    "duration": 12,
    "start_time": "2023-02-13T19:16:31.384Z"
   },
   {
    "duration": 8,
    "start_time": "2023-02-13T19:16:37.359Z"
   },
   {
    "duration": 14,
    "start_time": "2023-02-13T19:16:39.417Z"
   },
   {
    "duration": 13,
    "start_time": "2023-02-13T19:16:41.379Z"
   },
   {
    "duration": 10,
    "start_time": "2023-02-13T19:16:42.914Z"
   },
   {
    "duration": 3,
    "start_time": "2023-02-13T19:16:49.747Z"
   },
   {
    "duration": 28,
    "start_time": "2023-02-13T19:16:49.751Z"
   },
   {
    "duration": 10,
    "start_time": "2023-02-13T19:16:49.780Z"
   },
   {
    "duration": 17,
    "start_time": "2023-02-13T19:16:49.792Z"
   },
   {
    "duration": 30,
    "start_time": "2023-02-13T19:16:49.811Z"
   },
   {
    "duration": 9,
    "start_time": "2023-02-13T19:16:49.843Z"
   },
   {
    "duration": 1123,
    "start_time": "2023-02-13T19:17:03.189Z"
   },
   {
    "duration": 108,
    "start_time": "2023-02-13T19:17:04.318Z"
   },
   {
    "duration": 13,
    "start_time": "2023-02-13T19:17:04.427Z"
   },
   {
    "duration": 12,
    "start_time": "2023-02-13T19:17:04.442Z"
   },
   {
    "duration": 8,
    "start_time": "2023-02-13T19:17:04.455Z"
   },
   {
    "duration": 12,
    "start_time": "2023-02-13T19:17:04.465Z"
   },
   {
    "duration": 11,
    "start_time": "2023-02-13T19:17:34.129Z"
   },
   {
    "duration": 3,
    "start_time": "2023-02-13T19:18:42.099Z"
   },
   {
    "duration": 9,
    "start_time": "2023-02-13T19:18:48.030Z"
   },
   {
    "duration": 7,
    "start_time": "2023-02-13T19:18:52.552Z"
   },
   {
    "duration": 13,
    "start_time": "2023-02-13T19:19:08.820Z"
   },
   {
    "duration": 891,
    "start_time": "2023-02-13T19:22:17.699Z"
   },
   {
    "duration": 8,
    "start_time": "2023-02-13T19:22:28.136Z"
   },
   {
    "duration": 10,
    "start_time": "2023-02-13T19:22:59.658Z"
   },
   {
    "duration": 178,
    "start_time": "2023-02-13T19:23:20.099Z"
   },
   {
    "duration": 271,
    "start_time": "2023-02-13T19:23:40.761Z"
   },
   {
    "duration": 278,
    "start_time": "2023-02-13T19:23:59.991Z"
   },
   {
    "duration": 297,
    "start_time": "2023-02-13T19:24:07.170Z"
   },
   {
    "duration": 268,
    "start_time": "2023-02-13T19:24:11.345Z"
   },
   {
    "duration": 277,
    "start_time": "2023-02-13T19:25:03.636Z"
   },
   {
    "duration": 276,
    "start_time": "2023-02-13T19:25:09.749Z"
   },
   {
    "duration": 272,
    "start_time": "2023-02-13T19:25:16.926Z"
   },
   {
    "duration": 284,
    "start_time": "2023-02-13T19:25:22.729Z"
   },
   {
    "duration": 10,
    "start_time": "2023-02-13T19:28:28.924Z"
   },
   {
    "duration": 9,
    "start_time": "2023-02-13T19:28:59.486Z"
   },
   {
    "duration": 9,
    "start_time": "2023-02-13T19:29:11.128Z"
   },
   {
    "duration": 3,
    "start_time": "2023-02-13T19:29:13.330Z"
   },
   {
    "duration": 9,
    "start_time": "2023-02-13T19:29:15.552Z"
   },
   {
    "duration": 11,
    "start_time": "2023-02-13T19:29:18.147Z"
   },
   {
    "duration": 315,
    "start_time": "2023-02-13T19:29:47.420Z"
   },
   {
    "duration": 17,
    "start_time": "2023-02-13T19:32:27.724Z"
   },
   {
    "duration": 330,
    "start_time": "2023-02-13T19:32:32.128Z"
   },
   {
    "duration": 68,
    "start_time": "2023-02-13T19:38:13.374Z"
   },
   {
    "duration": 22,
    "start_time": "2023-02-13T19:38:48.702Z"
   },
   {
    "duration": 8,
    "start_time": "2023-02-13T19:57:14.677Z"
   },
   {
    "duration": 7,
    "start_time": "2023-02-13T19:57:16.861Z"
   },
   {
    "duration": 8,
    "start_time": "2023-02-13T19:57:25.851Z"
   },
   {
    "duration": 277,
    "start_time": "2023-02-13T19:57:33.383Z"
   },
   {
    "duration": 174,
    "start_time": "2023-02-13T20:00:47.997Z"
   },
   {
    "duration": 16,
    "start_time": "2023-02-13T20:01:53.563Z"
   },
   {
    "duration": 18,
    "start_time": "2023-02-13T20:02:23.892Z"
   },
   {
    "duration": 17,
    "start_time": "2023-02-13T20:03:44.232Z"
   },
   {
    "duration": 4,
    "start_time": "2023-02-13T20:04:03.431Z"
   },
   {
    "duration": 5,
    "start_time": "2023-02-13T20:05:02.352Z"
   },
   {
    "duration": 7,
    "start_time": "2023-02-13T20:05:15.616Z"
   },
   {
    "duration": 9,
    "start_time": "2023-02-13T20:05:51.538Z"
   },
   {
    "duration": 10,
    "start_time": "2023-02-13T20:06:05.986Z"
   },
   {
    "duration": 5,
    "start_time": "2023-02-13T20:06:21.236Z"
   },
   {
    "duration": 8,
    "start_time": "2023-02-13T20:06:25.555Z"
   },
   {
    "duration": 5,
    "start_time": "2023-02-13T20:06:43.029Z"
   },
   {
    "duration": 10,
    "start_time": "2023-02-13T20:07:12.632Z"
   },
   {
    "duration": 6,
    "start_time": "2023-02-13T20:07:17.129Z"
   },
   {
    "duration": 11,
    "start_time": "2023-02-13T20:07:48.728Z"
   },
   {
    "duration": 11,
    "start_time": "2023-02-13T20:07:53.154Z"
   },
   {
    "duration": 31,
    "start_time": "2023-02-13T20:08:07.194Z"
   },
   {
    "duration": 5,
    "start_time": "2023-02-13T20:08:14.953Z"
   },
   {
    "duration": 4,
    "start_time": "2023-02-13T20:08:59.253Z"
   },
   {
    "duration": 5,
    "start_time": "2023-02-13T20:09:24.654Z"
   },
   {
    "duration": 5,
    "start_time": "2023-02-13T20:09:42.241Z"
   },
   {
    "duration": 4,
    "start_time": "2023-02-13T20:09:53.563Z"
   },
   {
    "duration": 4,
    "start_time": "2023-02-13T20:09:58.543Z"
   },
   {
    "duration": 9,
    "start_time": "2023-02-13T20:10:00.024Z"
   },
   {
    "duration": 1312,
    "start_time": "2023-02-15T11:06:36.871Z"
   },
   {
    "duration": 160,
    "start_time": "2023-02-15T11:06:38.186Z"
   },
   {
    "duration": 29,
    "start_time": "2023-02-15T11:06:38.348Z"
   },
   {
    "duration": 25,
    "start_time": "2023-02-15T11:06:38.380Z"
   },
   {
    "duration": 9,
    "start_time": "2023-02-15T11:06:38.407Z"
   },
   {
    "duration": 11,
    "start_time": "2023-02-15T11:06:38.418Z"
   },
   {
    "duration": 21,
    "start_time": "2023-02-15T11:06:38.431Z"
   },
   {
    "duration": 306,
    "start_time": "2023-02-15T11:06:38.455Z"
   },
   {
    "duration": 11,
    "start_time": "2023-02-15T11:06:38.763Z"
   },
   {
    "duration": 322,
    "start_time": "2023-02-15T11:06:38.778Z"
   },
   {
    "duration": 21,
    "start_time": "2023-02-15T11:06:39.102Z"
   },
   {
    "duration": 248,
    "start_time": "2023-02-15T11:06:39.125Z"
   },
   {
    "duration": 24,
    "start_time": "2023-02-15T11:06:39.375Z"
   },
   {
    "duration": 5,
    "start_time": "2023-02-15T11:06:39.402Z"
   },
   {
    "duration": 21,
    "start_time": "2023-02-15T11:06:39.409Z"
   },
   {
    "duration": 61,
    "start_time": "2023-02-15T11:06:39.433Z"
   },
   {
    "duration": 11,
    "start_time": "2023-02-15T11:06:39.497Z"
   },
   {
    "duration": 15,
    "start_time": "2023-02-15T11:06:39.510Z"
   },
   {
    "duration": 9,
    "start_time": "2023-02-15T11:06:39.528Z"
   },
   {
    "duration": 10,
    "start_time": "2023-02-15T11:11:40.062Z"
   },
   {
    "duration": 12,
    "start_time": "2023-02-15T11:12:14.036Z"
   },
   {
    "duration": 200,
    "start_time": "2023-02-15T11:13:51.510Z"
   },
   {
    "duration": 14,
    "start_time": "2023-02-15T11:13:56.607Z"
   },
   {
    "duration": 177,
    "start_time": "2023-02-15T11:17:10.010Z"
   },
   {
    "duration": 16,
    "start_time": "2023-02-15T11:17:13.968Z"
   },
   {
    "duration": 19,
    "start_time": "2023-02-15T11:17:56.541Z"
   },
   {
    "duration": 10,
    "start_time": "2023-02-15T11:18:24.719Z"
   },
   {
    "duration": 26,
    "start_time": "2023-02-15T11:18:36.548Z"
   },
   {
    "duration": 11,
    "start_time": "2023-02-15T11:18:52.290Z"
   },
   {
    "duration": 39,
    "start_time": "2023-02-15T11:21:55.909Z"
   },
   {
    "duration": 9,
    "start_time": "2023-02-15T11:22:19.965Z"
   },
   {
    "duration": 6,
    "start_time": "2023-02-15T11:22:27.996Z"
   },
   {
    "duration": 431,
    "start_time": "2023-02-15T11:22:39.856Z"
   },
   {
    "duration": 304,
    "start_time": "2023-02-15T11:22:50.201Z"
   },
   {
    "duration": 303,
    "start_time": "2023-02-15T11:23:31.347Z"
   },
   {
    "duration": 310,
    "start_time": "2023-02-15T11:23:59.608Z"
   },
   {
    "duration": 316,
    "start_time": "2023-02-15T11:24:37.002Z"
   },
   {
    "duration": 355,
    "start_time": "2023-02-15T11:24:42.368Z"
   },
   {
    "duration": 188,
    "start_time": "2023-02-15T11:30:56.417Z"
   },
   {
    "duration": 6,
    "start_time": "2023-02-15T11:31:21.153Z"
   },
   {
    "duration": 287,
    "start_time": "2023-02-15T11:32:22.222Z"
   },
   {
    "duration": 462,
    "start_time": "2023-02-15T11:33:30.877Z"
   },
   {
    "duration": 388,
    "start_time": "2023-02-15T11:33:45.784Z"
   },
   {
    "duration": 348,
    "start_time": "2023-02-15T11:50:59.703Z"
   },
   {
    "duration": 343,
    "start_time": "2023-02-15T11:52:26.623Z"
   },
   {
    "duration": 227,
    "start_time": "2023-02-15T11:58:31.941Z"
   },
   {
    "duration": 303,
    "start_time": "2023-02-15T11:59:03.381Z"
   },
   {
    "duration": 363,
    "start_time": "2023-02-15T11:59:54.365Z"
   },
   {
    "duration": 316,
    "start_time": "2023-02-15T12:00:10.270Z"
   },
   {
    "duration": 343,
    "start_time": "2023-02-15T12:00:53.252Z"
   },
   {
    "duration": 4,
    "start_time": "2023-02-15T12:01:23.383Z"
   },
   {
    "duration": 323,
    "start_time": "2023-02-15T12:01:31.755Z"
   },
   {
    "duration": 250,
    "start_time": "2023-02-15T12:01:50.381Z"
   },
   {
    "duration": 424,
    "start_time": "2023-02-15T12:01:56.683Z"
   },
   {
    "duration": 319,
    "start_time": "2023-02-15T12:02:59.810Z"
   },
   {
    "duration": 334,
    "start_time": "2023-02-15T12:03:57.655Z"
   },
   {
    "duration": 255,
    "start_time": "2023-02-15T12:12:14.752Z"
   },
   {
    "duration": 218,
    "start_time": "2023-02-15T12:12:28.556Z"
   },
   {
    "duration": 357,
    "start_time": "2023-02-15T12:18:00.019Z"
   },
   {
    "duration": 309,
    "start_time": "2023-02-15T12:18:59.984Z"
   },
   {
    "duration": 322,
    "start_time": "2023-02-15T12:19:32.747Z"
   },
   {
    "duration": 356,
    "start_time": "2023-02-15T12:19:36.906Z"
   },
   {
    "duration": 293,
    "start_time": "2023-02-15T12:19:59.761Z"
   },
   {
    "duration": 315,
    "start_time": "2023-02-15T12:20:51.588Z"
   },
   {
    "duration": 321,
    "start_time": "2023-02-15T12:21:23.073Z"
   },
   {
    "duration": 443,
    "start_time": "2023-02-15T12:21:39.598Z"
   },
   {
    "duration": 326,
    "start_time": "2023-02-15T12:22:02.292Z"
   },
   {
    "duration": 261,
    "start_time": "2023-02-15T12:31:22.345Z"
   },
   {
    "duration": 366,
    "start_time": "2023-02-15T12:34:27.493Z"
   },
   {
    "duration": 11,
    "start_time": "2023-02-15T12:40:20.265Z"
   },
   {
    "duration": 15,
    "start_time": "2023-02-15T12:41:10.698Z"
   },
   {
    "duration": 13,
    "start_time": "2023-02-15T12:42:07.797Z"
   },
   {
    "duration": 17,
    "start_time": "2023-02-15T12:42:15.548Z"
   },
   {
    "duration": 2915,
    "start_time": "2023-02-15T12:43:22.763Z"
   },
   {
    "duration": 171,
    "start_time": "2023-02-15T12:43:36.277Z"
   },
   {
    "duration": 157,
    "start_time": "2023-02-15T12:47:01.849Z"
   },
   {
    "duration": 54,
    "start_time": "2023-02-15T16:01:00.964Z"
   },
   {
    "duration": 1182,
    "start_time": "2023-02-15T16:01:09.007Z"
   },
   {
    "duration": 142,
    "start_time": "2023-02-15T16:01:10.191Z"
   },
   {
    "duration": 12,
    "start_time": "2023-02-15T16:01:10.335Z"
   },
   {
    "duration": 14,
    "start_time": "2023-02-15T16:01:10.350Z"
   },
   {
    "duration": 7,
    "start_time": "2023-02-15T16:01:10.366Z"
   },
   {
    "duration": 6,
    "start_time": "2023-02-15T16:01:10.375Z"
   },
   {
    "duration": 14,
    "start_time": "2023-02-15T16:01:10.382Z"
   },
   {
    "duration": 303,
    "start_time": "2023-02-15T16:01:10.397Z"
   },
   {
    "duration": 8,
    "start_time": "2023-02-15T16:01:10.702Z"
   },
   {
    "duration": 263,
    "start_time": "2023-02-15T16:01:10.713Z"
   },
   {
    "duration": 10,
    "start_time": "2023-02-15T16:01:10.977Z"
   },
   {
    "duration": 220,
    "start_time": "2023-02-15T16:01:10.988Z"
   },
   {
    "duration": 16,
    "start_time": "2023-02-15T16:01:11.209Z"
   },
   {
    "duration": 5,
    "start_time": "2023-02-15T16:01:11.226Z"
   },
   {
    "duration": 10,
    "start_time": "2023-02-15T16:01:11.232Z"
   },
   {
    "duration": 20,
    "start_time": "2023-02-15T16:01:11.243Z"
   },
   {
    "duration": 12,
    "start_time": "2023-02-15T16:01:11.264Z"
   },
   {
    "duration": 6,
    "start_time": "2023-02-15T16:01:11.278Z"
   },
   {
    "duration": 8,
    "start_time": "2023-02-15T16:01:11.286Z"
   },
   {
    "duration": 6,
    "start_time": "2023-02-15T16:01:11.296Z"
   },
   {
    "duration": 169,
    "start_time": "2023-02-15T16:01:11.303Z"
   },
   {
    "duration": 133,
    "start_time": "2023-02-15T16:01:11.474Z"
   },
   {
    "duration": 13,
    "start_time": "2023-02-15T16:01:11.609Z"
   },
   {
    "duration": 25,
    "start_time": "2023-02-15T16:01:11.624Z"
   },
   {
    "duration": 18,
    "start_time": "2023-02-15T16:01:11.651Z"
   },
   {
    "duration": 259,
    "start_time": "2023-02-15T16:01:11.670Z"
   },
   {
    "duration": 187,
    "start_time": "2023-02-15T16:01:11.931Z"
   },
   {
    "duration": 374,
    "start_time": "2023-02-15T16:01:12.121Z"
   },
   {
    "duration": 203,
    "start_time": "2023-02-15T16:01:12.497Z"
   },
   {
    "duration": 286,
    "start_time": "2023-02-15T16:01:12.702Z"
   },
   {
    "duration": 11,
    "start_time": "2023-02-15T16:01:12.990Z"
   },
   {
    "duration": 147,
    "start_time": "2023-02-15T16:01:13.003Z"
   },
   {
    "duration": 1312,
    "start_time": "2023-02-15T16:01:13.152Z"
   },
   {
    "duration": 9,
    "start_time": "2023-02-15T16:01:32.005Z"
   },
   {
    "duration": 5,
    "start_time": "2023-02-15T16:01:36.938Z"
   },
   {
    "duration": 9,
    "start_time": "2023-02-15T16:06:14.442Z"
   },
   {
    "duration": 5,
    "start_time": "2023-02-15T16:06:42.321Z"
   },
   {
    "duration": 9,
    "start_time": "2023-02-15T16:08:40.280Z"
   },
   {
    "duration": 4,
    "start_time": "2023-02-15T16:08:44.441Z"
   },
   {
    "duration": 6,
    "start_time": "2023-02-15T16:08:47.872Z"
   },
   {
    "duration": 129,
    "start_time": "2023-02-15T16:13:29.285Z"
   },
   {
    "duration": 13,
    "start_time": "2023-02-15T16:13:49.340Z"
   },
   {
    "duration": 210,
    "start_time": "2023-02-15T16:14:13.763Z"
   },
   {
    "duration": 146,
    "start_time": "2023-02-15T16:17:05.816Z"
   },
   {
    "duration": 138,
    "start_time": "2023-02-15T16:17:37.724Z"
   },
   {
    "duration": 145,
    "start_time": "2023-02-15T16:17:44.974Z"
   },
   {
    "duration": 159,
    "start_time": "2023-02-15T16:18:00.561Z"
   },
   {
    "duration": 147,
    "start_time": "2023-02-15T16:18:04.009Z"
   },
   {
    "duration": 135,
    "start_time": "2023-02-15T16:18:07.626Z"
   },
   {
    "duration": 141,
    "start_time": "2023-02-15T16:18:12.708Z"
   },
   {
    "duration": 130,
    "start_time": "2023-02-15T16:18:16.508Z"
   },
   {
    "duration": 134,
    "start_time": "2023-02-15T16:18:20.488Z"
   },
   {
    "duration": 133,
    "start_time": "2023-02-15T16:18:28.149Z"
   },
   {
    "duration": 154,
    "start_time": "2023-02-15T16:18:32.857Z"
   },
   {
    "duration": 8,
    "start_time": "2023-02-15T16:21:05.267Z"
   },
   {
    "duration": 3,
    "start_time": "2023-02-15T16:21:19.273Z"
   },
   {
    "duration": 11,
    "start_time": "2023-02-15T16:21:22.386Z"
   },
   {
    "duration": 9,
    "start_time": "2023-02-15T16:21:27.888Z"
   },
   {
    "duration": 10,
    "start_time": "2023-02-15T16:21:29.625Z"
   },
   {
    "duration": 4,
    "start_time": "2023-02-15T16:47:10.251Z"
   },
   {
    "duration": 147,
    "start_time": "2023-02-15T16:53:48.488Z"
   },
   {
    "duration": 226,
    "start_time": "2023-02-15T16:53:55.112Z"
   },
   {
    "duration": 155,
    "start_time": "2023-02-15T16:54:01.990Z"
   },
   {
    "duration": 154,
    "start_time": "2023-02-15T16:54:04.851Z"
   },
   {
    "duration": 10,
    "start_time": "2023-02-15T17:03:14.288Z"
   },
   {
    "duration": 8,
    "start_time": "2023-02-15T17:03:34.674Z"
   },
   {
    "duration": 10,
    "start_time": "2023-02-15T17:03:49.119Z"
   },
   {
    "duration": 6,
    "start_time": "2023-02-15T17:10:00.770Z"
   },
   {
    "duration": 51,
    "start_time": "2023-02-15T17:10:17.030Z"
   },
   {
    "duration": 47,
    "start_time": "2023-02-15T17:10:28.101Z"
   },
   {
    "duration": 14,
    "start_time": "2023-02-15T17:10:35.201Z"
   },
   {
    "duration": 5,
    "start_time": "2023-02-15T17:10:47.369Z"
   },
   {
    "duration": 16,
    "start_time": "2023-02-15T17:11:05.571Z"
   },
   {
    "duration": 51,
    "start_time": "2023-02-15T17:11:19.321Z"
   },
   {
    "duration": 71,
    "start_time": "2023-02-15T17:11:48.778Z"
   },
   {
    "duration": 60,
    "start_time": "2023-02-15T17:11:54.255Z"
   },
   {
    "duration": 26,
    "start_time": "2023-02-15T17:12:00.791Z"
   },
   {
    "duration": 8,
    "start_time": "2023-02-15T17:22:50.738Z"
   },
   {
    "duration": 5,
    "start_time": "2023-02-15T17:23:18.380Z"
   },
   {
    "duration": 6,
    "start_time": "2023-02-15T17:26:10.069Z"
   },
   {
    "duration": 8,
    "start_time": "2023-02-15T17:27:08.834Z"
   },
   {
    "duration": 1224,
    "start_time": "2023-02-15T17:27:24.193Z"
   },
   {
    "duration": 10,
    "start_time": "2023-02-15T17:27:32.991Z"
   },
   {
    "duration": 16,
    "start_time": "2023-02-15T17:28:42.927Z"
   },
   {
    "duration": 15,
    "start_time": "2023-02-15T17:28:49.897Z"
   },
   {
    "duration": 13,
    "start_time": "2023-02-15T17:29:01.252Z"
   },
   {
    "duration": 330,
    "start_time": "2023-02-15T17:29:09.297Z"
   },
   {
    "duration": 14,
    "start_time": "2023-02-15T17:29:57.107Z"
   },
   {
    "duration": 353,
    "start_time": "2023-02-15T17:30:06.722Z"
   },
   {
    "duration": 18,
    "start_time": "2023-02-15T17:30:22.969Z"
   },
   {
    "duration": 14,
    "start_time": "2023-02-15T17:30:32.625Z"
   },
   {
    "duration": 16,
    "start_time": "2023-02-15T17:30:45.215Z"
   },
   {
    "duration": 15,
    "start_time": "2023-02-15T17:32:43.432Z"
   },
   {
    "duration": 59,
    "start_time": "2023-02-15T17:41:27.529Z"
   },
   {
    "duration": 5,
    "start_time": "2023-02-15T17:42:59.882Z"
   },
   {
    "duration": 14,
    "start_time": "2023-02-15T17:43:04.346Z"
   },
   {
    "duration": 5,
    "start_time": "2023-02-15T17:43:41.100Z"
   },
   {
    "duration": 4,
    "start_time": "2023-02-15T17:44:20.269Z"
   },
   {
    "duration": 14,
    "start_time": "2023-02-15T17:44:24.472Z"
   },
   {
    "duration": 53,
    "start_time": "2023-02-15T17:44:30.187Z"
   },
   {
    "duration": 6,
    "start_time": "2023-02-15T17:44:37.110Z"
   },
   {
    "duration": 57,
    "start_time": "2023-02-15T17:45:01.880Z"
   },
   {
    "duration": 13,
    "start_time": "2023-02-15T17:45:16.099Z"
   },
   {
    "duration": 20,
    "start_time": "2023-02-15T17:46:02.321Z"
   },
   {
    "duration": 11,
    "start_time": "2023-02-15T17:46:24.425Z"
   },
   {
    "duration": 4,
    "start_time": "2023-02-15T17:46:59.739Z"
   },
   {
    "duration": 11,
    "start_time": "2023-02-15T17:47:02.989Z"
   },
   {
    "duration": 5,
    "start_time": "2023-02-15T17:47:09.465Z"
   },
   {
    "duration": 5,
    "start_time": "2023-02-15T17:47:45.025Z"
   },
   {
    "duration": 18,
    "start_time": "2023-02-15T17:49:34.605Z"
   },
   {
    "duration": 100,
    "start_time": "2023-02-15T17:53:31.246Z"
   },
   {
    "duration": 5,
    "start_time": "2023-02-15T17:54:22.982Z"
   },
   {
    "duration": 11,
    "start_time": "2023-02-15T17:54:27.265Z"
   },
   {
    "duration": 6,
    "start_time": "2023-02-15T17:54:33.410Z"
   },
   {
    "duration": 7,
    "start_time": "2023-02-15T17:55:42.835Z"
   },
   {
    "duration": 9,
    "start_time": "2023-02-15T17:56:25.165Z"
   },
   {
    "duration": 23,
    "start_time": "2023-02-15T17:57:42.786Z"
   },
   {
    "duration": 37,
    "start_time": "2023-02-15T17:58:15.424Z"
   },
   {
    "duration": 21,
    "start_time": "2023-02-15T17:58:18.629Z"
   },
   {
    "duration": 40,
    "start_time": "2023-02-15T17:58:25.925Z"
   },
   {
    "duration": 29,
    "start_time": "2023-02-15T18:00:00.716Z"
   },
   {
    "duration": 30,
    "start_time": "2023-02-15T18:00:03.123Z"
   },
   {
    "duration": 131,
    "start_time": "2023-02-15T18:03:30.395Z"
   },
   {
    "duration": 6,
    "start_time": "2023-02-15T18:04:49.296Z"
   },
   {
    "duration": 7,
    "start_time": "2023-02-15T18:05:42.626Z"
   },
   {
    "duration": 9,
    "start_time": "2023-02-15T18:06:22.373Z"
   },
   {
    "duration": 23,
    "start_time": "2023-02-15T18:06:48.493Z"
   },
   {
    "duration": 31,
    "start_time": "2023-02-15T18:10:53.288Z"
   },
   {
    "duration": 23,
    "start_time": "2023-02-15T18:11:02.315Z"
   },
   {
    "duration": 23,
    "start_time": "2023-02-15T18:11:20.465Z"
   },
   {
    "duration": 24,
    "start_time": "2023-02-15T18:11:32.118Z"
   },
   {
    "duration": 5,
    "start_time": "2023-02-15T18:23:27.695Z"
   },
   {
    "duration": 10,
    "start_time": "2023-02-15T18:29:15.293Z"
   },
   {
    "duration": 11,
    "start_time": "2023-02-15T18:29:19.689Z"
   },
   {
    "duration": 10,
    "start_time": "2023-02-15T18:30:20.946Z"
   },
   {
    "duration": 10,
    "start_time": "2023-02-15T18:30:53.996Z"
   },
   {
    "duration": 6,
    "start_time": "2023-02-15T18:31:13.060Z"
   },
   {
    "duration": 1261,
    "start_time": "2023-02-16T08:55:34.207Z"
   },
   {
    "duration": 121,
    "start_time": "2023-02-16T08:55:35.470Z"
   },
   {
    "duration": 12,
    "start_time": "2023-02-16T08:55:35.593Z"
   },
   {
    "duration": 13,
    "start_time": "2023-02-16T08:55:35.607Z"
   },
   {
    "duration": 7,
    "start_time": "2023-02-16T08:55:35.622Z"
   },
   {
    "duration": 5,
    "start_time": "2023-02-16T08:55:35.631Z"
   },
   {
    "duration": 26,
    "start_time": "2023-02-16T08:55:35.637Z"
   },
   {
    "duration": 273,
    "start_time": "2023-02-16T08:55:35.664Z"
   },
   {
    "duration": 22,
    "start_time": "2023-02-16T08:55:35.938Z"
   },
   {
    "duration": 272,
    "start_time": "2023-02-16T08:55:35.964Z"
   },
   {
    "duration": 17,
    "start_time": "2023-02-16T08:55:36.238Z"
   },
   {
    "duration": 118,
    "start_time": "2023-02-16T08:55:36.257Z"
   },
   {
    "duration": 17,
    "start_time": "2023-02-16T08:55:36.376Z"
   },
   {
    "duration": 4,
    "start_time": "2023-02-16T08:55:36.395Z"
   },
   {
    "duration": 7,
    "start_time": "2023-02-16T08:55:36.400Z"
   },
   {
    "duration": 8,
    "start_time": "2023-02-16T08:55:36.408Z"
   },
   {
    "duration": 15,
    "start_time": "2023-02-16T08:55:36.418Z"
   },
   {
    "duration": 4,
    "start_time": "2023-02-16T08:55:36.435Z"
   },
   {
    "duration": 6,
    "start_time": "2023-02-16T08:55:36.454Z"
   },
   {
    "duration": 11,
    "start_time": "2023-02-16T08:55:36.461Z"
   },
   {
    "duration": 32,
    "start_time": "2023-02-16T08:55:36.474Z"
   },
   {
    "duration": 18,
    "start_time": "2023-02-16T08:55:36.508Z"
   },
   {
    "duration": 6,
    "start_time": "2023-02-16T08:55:36.527Z"
   },
   {
    "duration": 178,
    "start_time": "2023-02-16T08:55:36.534Z"
   },
   {
    "duration": 131,
    "start_time": "2023-02-16T08:55:36.714Z"
   },
   {
    "duration": 19,
    "start_time": "2023-02-16T08:55:36.846Z"
   },
   {
    "duration": 7,
    "start_time": "2023-02-16T08:55:36.868Z"
   },
   {
    "duration": 11,
    "start_time": "2023-02-16T08:55:36.879Z"
   },
   {
    "duration": 284,
    "start_time": "2023-02-16T08:55:36.892Z"
   },
   {
    "duration": 207,
    "start_time": "2023-02-16T08:55:37.178Z"
   },
   {
    "duration": 400,
    "start_time": "2023-02-16T08:55:37.387Z"
   },
   {
    "duration": 198,
    "start_time": "2023-02-16T08:55:37.790Z"
   },
   {
    "duration": 284,
    "start_time": "2023-02-16T08:55:37.990Z"
   },
   {
    "duration": 10,
    "start_time": "2023-02-16T08:55:38.275Z"
   },
   {
    "duration": 143,
    "start_time": "2023-02-16T08:55:38.286Z"
   },
   {
    "duration": 5,
    "start_time": "2023-02-16T08:55:38.430Z"
   },
   {
    "duration": 19,
    "start_time": "2023-02-16T08:55:38.436Z"
   },
   {
    "duration": 156,
    "start_time": "2023-02-16T08:55:38.457Z"
   },
   {
    "duration": 221,
    "start_time": "2023-02-16T08:55:38.615Z"
   },
   {
    "duration": 4,
    "start_time": "2023-02-16T08:55:38.838Z"
   },
   {
    "duration": 16,
    "start_time": "2023-02-16T08:55:38.844Z"
   },
   {
    "duration": 6,
    "start_time": "2023-02-16T08:55:38.861Z"
   },
   {
    "duration": 7,
    "start_time": "2023-02-16T08:55:38.869Z"
   },
   {
    "duration": 22,
    "start_time": "2023-02-16T08:55:38.877Z"
   },
   {
    "duration": 6,
    "start_time": "2023-02-16T08:55:38.900Z"
   },
   {
    "duration": 5,
    "start_time": "2023-02-16T08:55:38.908Z"
   },
   {
    "duration": 56,
    "start_time": "2023-02-16T08:55:38.915Z"
   },
   {
    "duration": 142,
    "start_time": "2023-02-16T08:55:38.973Z"
   },
   {
    "duration": 8,
    "start_time": "2023-02-16T08:55:39.116Z"
   },
   {
    "duration": 37,
    "start_time": "2023-02-16T08:55:39.125Z"
   },
   {
    "duration": 4,
    "start_time": "2023-02-16T08:55:39.164Z"
   },
   {
    "duration": 10,
    "start_time": "2023-02-16T08:55:39.169Z"
   },
   {
    "duration": 6,
    "start_time": "2023-02-16T08:55:39.181Z"
   },
   {
    "duration": 9,
    "start_time": "2023-02-16T09:09:31.643Z"
   },
   {
    "duration": 155,
    "start_time": "2023-02-16T09:09:59.574Z"
   },
   {
    "duration": 6,
    "start_time": "2023-02-16T09:10:02.387Z"
   },
   {
    "duration": 29,
    "start_time": "2023-02-16T09:10:03.980Z"
   },
   {
    "duration": 9,
    "start_time": "2023-02-16T09:10:06.355Z"
   },
   {
    "duration": 6,
    "start_time": "2023-02-16T09:10:07.140Z"
   },
   {
    "duration": 10,
    "start_time": "2023-02-16T09:10:10.711Z"
   },
   {
    "duration": 859,
    "start_time": "2023-02-16T09:10:21.254Z"
   },
   {
    "duration": 8,
    "start_time": "2023-02-16T09:10:28.466Z"
   },
   {
    "duration": 973,
    "start_time": "2023-02-16T09:10:39.205Z"
   },
   {
    "duration": 175,
    "start_time": "2023-02-16T09:11:17.080Z"
   },
   {
    "duration": 136,
    "start_time": "2023-02-16T09:11:24.596Z"
   },
   {
    "duration": 6,
    "start_time": "2023-02-16T09:11:26.278Z"
   },
   {
    "duration": 24,
    "start_time": "2023-02-16T09:11:27.739Z"
   },
   {
    "duration": 8,
    "start_time": "2023-02-16T09:11:32.171Z"
   },
   {
    "duration": 7,
    "start_time": "2023-02-16T09:11:39.847Z"
   },
   {
    "duration": 4,
    "start_time": "2023-02-16T09:11:59.231Z"
   },
   {
    "duration": 4,
    "start_time": "2023-02-16T09:12:03.744Z"
   },
   {
    "duration": 5,
    "start_time": "2023-02-16T09:12:11.563Z"
   },
   {
    "duration": 4,
    "start_time": "2023-02-16T09:12:40.934Z"
   },
   {
    "duration": 5,
    "start_time": "2023-02-16T09:14:28.765Z"
   },
   {
    "duration": 4,
    "start_time": "2023-02-16T09:14:29.792Z"
   },
   {
    "duration": 4,
    "start_time": "2023-02-16T09:14:31.342Z"
   },
   {
    "duration": 5,
    "start_time": "2023-02-16T09:14:32.106Z"
   },
   {
    "duration": 5,
    "start_time": "2023-02-16T09:14:33.468Z"
   },
   {
    "duration": 5,
    "start_time": "2023-02-16T09:15:18.453Z"
   },
   {
    "duration": 4,
    "start_time": "2023-02-16T09:15:19.636Z"
   },
   {
    "duration": 4,
    "start_time": "2023-02-16T09:15:20.341Z"
   },
   {
    "duration": 4,
    "start_time": "2023-02-16T09:15:21.768Z"
   },
   {
    "duration": 4,
    "start_time": "2023-02-16T09:15:22.630Z"
   },
   {
    "duration": 4,
    "start_time": "2023-02-16T09:15:41.980Z"
   },
   {
    "duration": 5,
    "start_time": "2023-02-16T09:15:43.243Z"
   },
   {
    "duration": 4,
    "start_time": "2023-02-16T09:15:44.683Z"
   },
   {
    "duration": 4,
    "start_time": "2023-02-16T09:16:00.041Z"
   },
   {
    "duration": 4,
    "start_time": "2023-02-16T09:16:01.737Z"
   },
   {
    "duration": 4,
    "start_time": "2023-02-16T09:16:02.332Z"
   },
   {
    "duration": 3,
    "start_time": "2023-02-16T09:16:04.199Z"
   },
   {
    "duration": 4,
    "start_time": "2023-02-16T09:16:20.252Z"
   },
   {
    "duration": 4,
    "start_time": "2023-02-16T09:16:24.804Z"
   },
   {
    "duration": 5,
    "start_time": "2023-02-16T09:16:25.979Z"
   },
   {
    "duration": 6,
    "start_time": "2023-02-16T09:16:35.496Z"
   },
   {
    "duration": 4,
    "start_time": "2023-02-16T09:16:36.331Z"
   },
   {
    "duration": 5,
    "start_time": "2023-02-16T09:16:37.540Z"
   },
   {
    "duration": 4,
    "start_time": "2023-02-16T09:16:39.422Z"
   },
   {
    "duration": 5,
    "start_time": "2023-02-16T09:16:40.837Z"
   },
   {
    "duration": 4,
    "start_time": "2023-02-16T09:16:41.838Z"
   },
   {
    "duration": 5,
    "start_time": "2023-02-16T09:23:11.691Z"
   },
   {
    "duration": 4,
    "start_time": "2023-02-16T09:23:12.995Z"
   },
   {
    "duration": 4,
    "start_time": "2023-02-16T09:23:13.604Z"
   },
   {
    "duration": 4,
    "start_time": "2023-02-16T09:23:15.635Z"
   },
   {
    "duration": 4,
    "start_time": "2023-02-16T09:23:16.460Z"
   },
   {
    "duration": 5,
    "start_time": "2023-02-16T09:23:28.053Z"
   },
   {
    "duration": 4,
    "start_time": "2023-02-16T09:23:29.063Z"
   },
   {
    "duration": 5,
    "start_time": "2023-02-16T09:23:29.631Z"
   },
   {
    "duration": 5,
    "start_time": "2023-02-16T09:23:30.767Z"
   },
   {
    "duration": 3,
    "start_time": "2023-02-16T09:23:31.755Z"
   },
   {
    "duration": 1123,
    "start_time": "2023-02-16T09:24:57.654Z"
   },
   {
    "duration": 75,
    "start_time": "2023-02-16T09:24:58.779Z"
   },
   {
    "duration": 12,
    "start_time": "2023-02-16T09:24:58.856Z"
   },
   {
    "duration": 15,
    "start_time": "2023-02-16T09:24:58.871Z"
   },
   {
    "duration": 9,
    "start_time": "2023-02-16T09:24:58.888Z"
   },
   {
    "duration": 9,
    "start_time": "2023-02-16T09:24:58.898Z"
   },
   {
    "duration": 14,
    "start_time": "2023-02-16T09:24:58.909Z"
   },
   {
    "duration": 300,
    "start_time": "2023-02-16T09:24:58.924Z"
   },
   {
    "duration": 8,
    "start_time": "2023-02-16T09:24:59.225Z"
   },
   {
    "duration": 252,
    "start_time": "2023-02-16T09:24:59.236Z"
   },
   {
    "duration": 11,
    "start_time": "2023-02-16T09:24:59.489Z"
   },
   {
    "duration": 51,
    "start_time": "2023-02-16T09:24:59.502Z"
   },
   {
    "duration": 19,
    "start_time": "2023-02-16T09:24:59.555Z"
   },
   {
    "duration": 4,
    "start_time": "2023-02-16T09:24:59.576Z"
   },
   {
    "duration": 7,
    "start_time": "2023-02-16T09:24:59.582Z"
   },
   {
    "duration": 21,
    "start_time": "2023-02-16T09:24:59.590Z"
   },
   {
    "duration": 18,
    "start_time": "2023-02-16T09:24:59.613Z"
   },
   {
    "duration": 25,
    "start_time": "2023-02-16T09:24:59.633Z"
   },
   {
    "duration": 10,
    "start_time": "2023-02-16T09:24:59.660Z"
   },
   {
    "duration": 30,
    "start_time": "2023-02-16T09:24:59.672Z"
   },
   {
    "duration": 9,
    "start_time": "2023-02-16T09:24:59.704Z"
   },
   {
    "duration": 20,
    "start_time": "2023-02-16T09:24:59.715Z"
   },
   {
    "duration": 5,
    "start_time": "2023-02-16T09:24:59.737Z"
   },
   {
    "duration": 175,
    "start_time": "2023-02-16T09:24:59.744Z"
   },
   {
    "duration": 121,
    "start_time": "2023-02-16T09:24:59.921Z"
   },
   {
    "duration": 16,
    "start_time": "2023-02-16T09:25:00.043Z"
   },
   {
    "duration": 30,
    "start_time": "2023-02-16T09:25:00.061Z"
   },
   {
    "duration": 19,
    "start_time": "2023-02-16T09:25:00.095Z"
   },
   {
    "duration": 304,
    "start_time": "2023-02-16T09:25:00.115Z"
   },
   {
    "duration": 188,
    "start_time": "2023-02-16T09:25:00.421Z"
   },
   {
    "duration": 299,
    "start_time": "2023-02-16T09:25:00.610Z"
   },
   {
    "duration": 201,
    "start_time": "2023-02-16T09:25:00.911Z"
   },
   {
    "duration": 319,
    "start_time": "2023-02-16T09:25:01.113Z"
   },
   {
    "duration": 19,
    "start_time": "2023-02-16T09:25:01.434Z"
   },
   {
    "duration": 146,
    "start_time": "2023-02-16T09:25:01.455Z"
   },
   {
    "duration": 5,
    "start_time": "2023-02-16T09:25:01.603Z"
   },
   {
    "duration": 46,
    "start_time": "2023-02-16T09:25:01.609Z"
   },
   {
    "duration": 184,
    "start_time": "2023-02-16T09:25:01.656Z"
   },
   {
    "duration": 221,
    "start_time": "2023-02-16T09:25:01.842Z"
   },
   {
    "duration": 5,
    "start_time": "2023-02-16T09:25:02.065Z"
   },
   {
    "duration": 57,
    "start_time": "2023-02-16T09:25:02.071Z"
   },
   {
    "duration": 43,
    "start_time": "2023-02-16T09:25:02.130Z"
   },
   {
    "duration": 32,
    "start_time": "2023-02-16T09:25:02.175Z"
   },
   {
    "duration": 57,
    "start_time": "2023-02-16T09:25:02.209Z"
   },
   {
    "duration": 31,
    "start_time": "2023-02-16T09:25:02.268Z"
   },
   {
    "duration": 22,
    "start_time": "2023-02-16T09:25:02.301Z"
   },
   {
    "duration": 45,
    "start_time": "2023-02-16T09:25:02.325Z"
   },
   {
    "duration": 138,
    "start_time": "2023-02-16T09:25:02.371Z"
   },
   {
    "duration": 6,
    "start_time": "2023-02-16T09:25:02.511Z"
   },
   {
    "duration": 47,
    "start_time": "2023-02-16T09:25:02.519Z"
   },
   {
    "duration": 15,
    "start_time": "2023-02-16T09:25:02.568Z"
   },
   {
    "duration": 17,
    "start_time": "2023-02-16T09:25:02.585Z"
   },
   {
    "duration": 25,
    "start_time": "2023-02-16T09:25:02.604Z"
   },
   {
    "duration": 18,
    "start_time": "2023-02-16T09:25:02.631Z"
   },
   {
    "duration": 24,
    "start_time": "2023-02-16T09:25:02.650Z"
   },
   {
    "duration": 12,
    "start_time": "2023-02-16T09:25:02.676Z"
   },
   {
    "duration": 26,
    "start_time": "2023-02-16T09:25:02.689Z"
   },
   {
    "duration": 14,
    "start_time": "2023-02-16T09:25:02.717Z"
   },
   {
    "duration": 895,
    "start_time": "2023-02-16T09:27:00.469Z"
   },
   {
    "duration": 9,
    "start_time": "2023-02-16T09:27:36.462Z"
   },
   {
    "duration": 25,
    "start_time": "2023-02-16T09:29:19.256Z"
   },
   {
    "duration": 4,
    "start_time": "2023-02-16T09:29:20.833Z"
   },
   {
    "duration": 670,
    "start_time": "2023-02-16T09:36:40.136Z"
   },
   {
    "duration": 11,
    "start_time": "2023-02-16T09:38:10.337Z"
   },
   {
    "duration": 13,
    "start_time": "2023-02-16T09:38:18.237Z"
   },
   {
    "duration": 10,
    "start_time": "2023-02-16T09:38:30.434Z"
   },
   {
    "duration": 58,
    "start_time": "2023-02-16T09:39:23.969Z"
   },
   {
    "duration": 9,
    "start_time": "2023-02-16T09:39:30.904Z"
   },
   {
    "duration": 60,
    "start_time": "2023-02-16T09:39:53.430Z"
   },
   {
    "duration": 1177,
    "start_time": "2023-02-17T06:51:08.477Z"
   },
   {
    "duration": 76,
    "start_time": "2023-02-17T06:51:09.656Z"
   },
   {
    "duration": 13,
    "start_time": "2023-02-17T06:51:09.734Z"
   },
   {
    "duration": 30,
    "start_time": "2023-02-17T06:51:09.750Z"
   },
   {
    "duration": 15,
    "start_time": "2023-02-17T06:51:09.782Z"
   },
   {
    "duration": 6,
    "start_time": "2023-02-17T06:51:09.799Z"
   },
   {
    "duration": 12,
    "start_time": "2023-02-17T06:51:09.806Z"
   },
   {
    "duration": 316,
    "start_time": "2023-02-17T06:51:09.820Z"
   },
   {
    "duration": 21,
    "start_time": "2023-02-17T06:51:10.138Z"
   },
   {
    "duration": 278,
    "start_time": "2023-02-17T06:51:10.162Z"
   },
   {
    "duration": 14,
    "start_time": "2023-02-17T06:51:10.453Z"
   },
   {
    "duration": 61,
    "start_time": "2023-02-17T06:51:10.469Z"
   },
   {
    "duration": 23,
    "start_time": "2023-02-17T06:51:10.533Z"
   },
   {
    "duration": 15,
    "start_time": "2023-02-17T06:51:10.559Z"
   },
   {
    "duration": 21,
    "start_time": "2023-02-17T06:51:10.576Z"
   },
   {
    "duration": 16,
    "start_time": "2023-02-17T06:51:10.599Z"
   },
   {
    "duration": 17,
    "start_time": "2023-02-17T06:51:10.617Z"
   },
   {
    "duration": 10,
    "start_time": "2023-02-17T06:51:10.636Z"
   },
   {
    "duration": 13,
    "start_time": "2023-02-17T06:51:10.648Z"
   },
   {
    "duration": 12,
    "start_time": "2023-02-17T06:51:10.663Z"
   },
   {
    "duration": 7,
    "start_time": "2023-02-17T06:51:10.678Z"
   },
   {
    "duration": 19,
    "start_time": "2023-02-17T06:51:10.687Z"
   },
   {
    "duration": 5,
    "start_time": "2023-02-17T06:51:10.708Z"
   },
   {
    "duration": 208,
    "start_time": "2023-02-17T06:51:10.715Z"
   },
   {
    "duration": 148,
    "start_time": "2023-02-17T06:51:10.925Z"
   },
   {
    "duration": 107,
    "start_time": "2023-02-17T06:51:11.076Z"
   },
   {
    "duration": 18,
    "start_time": "2023-02-17T06:51:11.185Z"
   },
   {
    "duration": 10,
    "start_time": "2023-02-17T06:51:11.214Z"
   },
   {
    "duration": 334,
    "start_time": "2023-02-17T06:51:11.226Z"
   },
   {
    "duration": 228,
    "start_time": "2023-02-17T06:51:11.562Z"
   },
   {
    "duration": 301,
    "start_time": "2023-02-17T06:51:11.791Z"
   },
   {
    "duration": 215,
    "start_time": "2023-02-17T06:51:12.094Z"
   },
   {
    "duration": 335,
    "start_time": "2023-02-17T06:51:12.310Z"
   },
   {
    "duration": 11,
    "start_time": "2023-02-17T06:51:12.648Z"
   },
   {
    "duration": 156,
    "start_time": "2023-02-17T06:51:12.662Z"
   },
   {
    "duration": 5,
    "start_time": "2023-02-17T06:51:12.821Z"
   },
   {
    "duration": 31,
    "start_time": "2023-02-17T06:51:12.828Z"
   },
   {
    "duration": 170,
    "start_time": "2023-02-17T06:51:12.861Z"
   },
   {
    "duration": 257,
    "start_time": "2023-02-17T06:51:13.033Z"
   },
   {
    "duration": 5,
    "start_time": "2023-02-17T06:51:13.292Z"
   },
   {
    "duration": 11,
    "start_time": "2023-02-17T06:51:13.299Z"
   },
   {
    "duration": 8,
    "start_time": "2023-02-17T06:51:13.312Z"
   },
   {
    "duration": 33,
    "start_time": "2023-02-17T06:51:13.322Z"
   },
   {
    "duration": 64,
    "start_time": "2023-02-17T06:51:13.357Z"
   },
   {
    "duration": 5,
    "start_time": "2023-02-17T06:51:13.423Z"
   },
   {
    "duration": 9,
    "start_time": "2023-02-17T06:51:13.430Z"
   },
   {
    "duration": 42,
    "start_time": "2023-02-17T06:51:13.441Z"
   },
   {
    "duration": 189,
    "start_time": "2023-02-17T06:51:13.485Z"
   },
   {
    "duration": 8,
    "start_time": "2023-02-17T06:51:13.676Z"
   },
   {
    "duration": 45,
    "start_time": "2023-02-17T06:51:13.686Z"
   },
   {
    "duration": 4,
    "start_time": "2023-02-17T06:51:13.733Z"
   },
   {
    "duration": 21,
    "start_time": "2023-02-17T06:51:13.739Z"
   },
   {
    "duration": 19,
    "start_time": "2023-02-17T06:51:13.762Z"
   },
   {
    "duration": 20,
    "start_time": "2023-02-17T06:51:13.784Z"
   },
   {
    "duration": 30,
    "start_time": "2023-02-17T06:51:13.806Z"
   },
   {
    "duration": 10,
    "start_time": "2023-02-17T06:51:13.837Z"
   },
   {
    "duration": 15,
    "start_time": "2023-02-17T06:51:13.849Z"
   },
   {
    "duration": 11,
    "start_time": "2023-02-17T06:51:13.866Z"
   },
   {
    "duration": 23,
    "start_time": "2023-02-17T06:51:13.879Z"
   },
   {
    "duration": 26,
    "start_time": "2023-02-17T06:51:13.904Z"
   },
   {
    "duration": 4,
    "start_time": "2023-02-17T06:51:13.932Z"
   },
   {
    "duration": 16,
    "start_time": "2023-02-17T06:51:13.953Z"
   },
   {
    "duration": 34,
    "start_time": "2023-02-17T06:51:13.971Z"
   }
  ],
  "kernelspec": {
   "display_name": "Python 3 (ipykernel)",
   "language": "python",
   "name": "python3"
  },
  "language_info": {
   "codemirror_mode": {
    "name": "ipython",
    "version": 3
   },
   "file_extension": ".py",
   "mimetype": "text/x-python",
   "name": "python",
   "nbconvert_exporter": "python",
   "pygments_lexer": "ipython3",
   "version": "3.9.12"
  },
  "toc": {
   "base_numbering": 1,
   "nav_menu": {},
   "number_sections": true,
   "sideBar": true,
   "skip_h1_title": true,
   "title_cell": "Table of Contents",
   "title_sidebar": "Contents",
   "toc_cell": false,
   "toc_position": {
    "height": "calc(100% - 180px)",
    "left": "10px",
    "top": "150px",
    "width": "245.797px"
   },
   "toc_section_display": true,
   "toc_window_display": true
  }
 },
 "nbformat": 4,
 "nbformat_minor": 2
}
