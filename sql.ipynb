{
 "cells": [
  {
   "cell_type": "markdown",
   "id": "083e9749",
   "metadata": {
    "toc": true
   },
   "source": [
    "<h1>Table of Contents<span class=\"tocSkip\"></span></h1>\n",
    "<div class=\"toc\"><ul class=\"toc-item\"><li><span><a href=\"#Загрузить-и-изучить-данные\" data-toc-modified-id=\"Загрузить-и-изучить-данные-1\"><span class=\"toc-item-num\">1&nbsp;&nbsp;</span>Загрузить и изучить данные</a></span></li><li><span><a href=\"#Анализ-данных\" data-toc-modified-id=\"Анализ-данных-2\"><span class=\"toc-item-num\">2&nbsp;&nbsp;</span>Анализ данных</a></span><ul class=\"toc-item\"><li><span><a href=\"#Посчитать,-сколько-книг-вышло-после-1-января-2000-года\" data-toc-modified-id=\"Посчитать,-сколько-книг-вышло-после-1-января-2000-года-2.1\"><span class=\"toc-item-num\">2.1&nbsp;&nbsp;</span>Посчитать, сколько книг вышло после 1 января 2000 года</a></span></li><li><span><a href=\"#Для-каждой-книги-посчитать-количество-обзоров-и-среднюю-оценку\" data-toc-modified-id=\"Для-каждой-книги-посчитать-количество-обзоров-и-среднюю-оценку-2.2\"><span class=\"toc-item-num\">2.2&nbsp;&nbsp;</span>Для каждой книги посчитать количество обзоров и среднюю оценку</a></span></li><li><span><a href=\"#Определить-издательство,-которое-выпустило-наибольшее-число-книг-толще-50-страниц\" data-toc-modified-id=\"Определить-издательство,-которое-выпустило-наибольшее-число-книг-толще-50-страниц-2.3\"><span class=\"toc-item-num\">2.3&nbsp;&nbsp;</span>Определить издательство, которое выпустило наибольшее число книг толще 50 страниц</a></span></li><li><span><a href=\"#Определить-автора-с-самой-высокой-средней-оценкой-книг\" data-toc-modified-id=\"Определить-автора-с-самой-высокой-средней-оценкой-книг-2.4\"><span class=\"toc-item-num\">2.4&nbsp;&nbsp;</span>Определить автора с самой высокой средней оценкой книг</a></span></li><li><span><a href=\"#Посчитать-среднее-количество-обзоров-от-пользователей,-которые-поставили-больше-50-оценок\" data-toc-modified-id=\"Посчитать-среднее-количество-обзоров-от-пользователей,-которые-поставили-больше-50-оценок-2.5\"><span class=\"toc-item-num\">2.5&nbsp;&nbsp;</span>Посчитать среднее количество обзоров от пользователей, которые поставили больше 50 оценок</a></span></li></ul></li><li><span><a href=\"#Общий-вывод\" data-toc-modified-id=\"Общий-вывод-3\"><span class=\"toc-item-num\">3&nbsp;&nbsp;</span>Общий вывод</a></span></li></ul></div>"
   ]
  },
  {
   "cell_type": "markdown",
   "id": "3f479750",
   "metadata": {},
   "source": [
    "# АНАЛИЗ БАЗЫ ДАННЫХ ПРИ ПОМОЩИ SQL ЗАПРОСОВ"
   ]
  },
  {
   "cell_type": "markdown",
   "id": "78fdb790",
   "metadata": {},
   "source": [
    "**Наша задача** Проанализировать базу данных. В ней — информация о книгах, издательствах, авторах, а также пользовательские обзоры книг. Эти данные помогут сформулировать ценностное предложение для нового продукта\n",
    "\n",
    "**Нам необходимо**\n",
    "\n",
    "* Посчитать, сколько книг вышло после 1 января 2000 года;\n",
    "* Для каждой книги посчитать количество обзоров и среднюю оценку;\n",
    "* Определить издательство, которое выпустило наибольшее число книг толще 50 страниц — так мы исключим из анализа брошюры;\n",
    "* Определить автора с самой высокой средней оценкой книг — учтем только книги с 50 и более оценками;\n",
    "* Посчитать среднее количество обзоров от пользователей, которые поставили больше 50 оценок.\n",
    "\n"
   ]
  },
  {
   "cell_type": "markdown",
   "id": "3dd06702",
   "metadata": {},
   "source": [
    "**Описание данных**\n",
    "\n",
    "**Таблица `books`**\n",
    "\n",
    "Содержит данные о книгах:\n",
    "\n",
    "- `book_id` — идентификатор книги;\n",
    "- `author_id` — идентификатор автора;\n",
    "- `title` — название книги;\n",
    "- `num_pages` — количество страниц;\n",
    "- `publication_date` — дата публикации книги;\n",
    "- `publisher_id` — идентификатор издателя.\n",
    "\n",
    "**Таблица `authors`**\n",
    "\n",
    "Содержит данные об авторах:\n",
    "\n",
    "- `author_id` — идентификатор автора;\n",
    "- `author` — имя автора.\n",
    "\n",
    "**Таблица `publishers`**\n",
    "\n",
    "Содержит данные об издательствах:\n",
    "\n",
    "- `publisher_id` — идентификатор издательства;\n",
    "- `publisher` — название издательства;\n",
    "\n",
    "**Таблица `ratings`**\n",
    "\n",
    "Содержит данные о пользовательских оценках книг:\n",
    "\n",
    "- `rating_id` — идентификатор оценки;\n",
    "- `book_id` — идентификатор книги;\n",
    "- `username` — имя пользователя, оставившего оценку;\n",
    "- `rating` — оценка книги.\n",
    "\n",
    "**Таблица `reviews`**\n",
    "\n",
    "Содержит данные о пользовательских обзорах на книги:\n",
    "\n",
    "- `review_id` — идентификатор обзора;\n",
    "- `book_id` — идентификатор книги;\n",
    "- `username` — имя пользователя, написавшего обзор;\n",
    "- `text` — текст обзора.\n",
    "\n",
    "<a id='start'></a>"
   ]
  },
  {
   "cell_type": "markdown",
   "id": "1f71a5c8",
   "metadata": {},
   "source": [
    "**План работы**\n",
    "\n",
    "1. <a href='#step_1'>Загрузить и изучить данные</a>  \n",
    "2. <a href='#step_2'>Анализ данных</a>  \n",
    "   2.1. <a href='#step_2.1'>Посчитать, сколько книг вышло после 1 января 2000 года</a>  \n",
    "   2.2. <a href='#step_2.2'>Для каждой книги посчитать количество обзоров и среднюю оценку</a>      \n",
    "   2.3. <a href='#step_2_3'>Определить издательство, которое выпустило наибольшее число книг толще 50 страниц</a>  \n",
    "   2.4. <a href='#step_2_4'>Определить автора с самой высокой средней оценкой книг</a>  \n",
    "   2.5. <a href='#step_2_5'>Посчитать среднее количество обзоров от пользователей, которые поставили больше 50 оценок</a>        \n",
    "3. <a href='#step_3'>Общий вывод</a>    \n",
    "   "
   ]
  },
  {
   "cell_type": "markdown",
   "id": "4c5e9bcd",
   "metadata": {},
   "source": [
    "<a id=\"step_1\"></a>\n",
    "## Загрузить и изучить данные"
   ]
  },
  {
   "cell_type": "code",
   "execution_count": 1,
   "id": "6ddd8f14",
   "metadata": {},
   "outputs": [],
   "source": [
    "# импортируем библиотеки\n",
    "import pandas as pd\n",
    "from sqlalchemy import create_engine"
   ]
  },
  {
   "cell_type": "code",
   "execution_count": 2,
   "id": "d98de5b0",
   "metadata": {},
   "outputs": [],
   "source": [
    "# устанавливаем параметры\n",
    "db_config = {'user': 'praktikum_student', # имя пользователя\n",
    "'pwd': 'Sdf4$2;d-d30pp', # пароль\n",
    "'host': 'rc1b-wcoijxj3yxfsf3fs.mdb.yandexcloud.net',\n",
    "'port': 6432, # порт подключения\n",
    "'db': 'data-analyst-final-project-db'} # название базы данных\n",
    "connection_string = 'postgresql://{}:{}@{}:{}/{}'.format(db_config['user'],\n",
    " db_config['pwd'],\n",
    " db_config['host'],\n",
    " db_config['port'],\n",
    " db_config['db'])\n",
    "# сохраняем коннектор\n",
    "engine = create_engine(connection_string, connect_args={'sslmode':'require'})\n"
   ]
  },
  {
   "cell_type": "code",
   "execution_count": 3,
   "id": "538d76e4",
   "metadata": {},
   "outputs": [],
   "source": [
    "def table(tab):\n",
    "    query = '''\n",
    "    SELECT *\n",
    "    FROM {}\n",
    "    LIMIT 5\n",
    "    '''.format(tab) \n",
    "    return pd.io.sql.read_sql(query, con = engine)"
   ]
  },
  {
   "cell_type": "code",
   "execution_count": 4,
   "id": "fac3c593",
   "metadata": {},
   "outputs": [],
   "source": [
    "def my_function(query):\n",
    "    return pd.io.sql.read_sql(query, con = engine)"
   ]
  },
  {
   "cell_type": "code",
   "execution_count": 5,
   "id": "a1d5edc9",
   "metadata": {
    "scrolled": true
   },
   "outputs": [
    {
     "data": {
      "text/html": [
       "<div>\n",
       "<style scoped>\n",
       "    .dataframe tbody tr th:only-of-type {\n",
       "        vertical-align: middle;\n",
       "    }\n",
       "\n",
       "    .dataframe tbody tr th {\n",
       "        vertical-align: top;\n",
       "    }\n",
       "\n",
       "    .dataframe thead th {\n",
       "        text-align: right;\n",
       "    }\n",
       "</style>\n",
       "<table border=\"1\" class=\"dataframe\">\n",
       "  <thead>\n",
       "    <tr style=\"text-align: right;\">\n",
       "      <th></th>\n",
       "      <th>book_id</th>\n",
       "      <th>author_id</th>\n",
       "      <th>title</th>\n",
       "      <th>num_pages</th>\n",
       "      <th>publication_date</th>\n",
       "      <th>publisher_id</th>\n",
       "    </tr>\n",
       "  </thead>\n",
       "  <tbody>\n",
       "    <tr>\n",
       "      <th>0</th>\n",
       "      <td>1</td>\n",
       "      <td>546</td>\n",
       "      <td>'Salem's Lot</td>\n",
       "      <td>594</td>\n",
       "      <td>2005-11-01</td>\n",
       "      <td>93</td>\n",
       "    </tr>\n",
       "    <tr>\n",
       "      <th>1</th>\n",
       "      <td>2</td>\n",
       "      <td>465</td>\n",
       "      <td>1 000 Places to See Before You Die</td>\n",
       "      <td>992</td>\n",
       "      <td>2003-05-22</td>\n",
       "      <td>336</td>\n",
       "    </tr>\n",
       "    <tr>\n",
       "      <th>2</th>\n",
       "      <td>3</td>\n",
       "      <td>407</td>\n",
       "      <td>13 Little Blue Envelopes (Little Blue Envelope...</td>\n",
       "      <td>322</td>\n",
       "      <td>2010-12-21</td>\n",
       "      <td>135</td>\n",
       "    </tr>\n",
       "    <tr>\n",
       "      <th>3</th>\n",
       "      <td>4</td>\n",
       "      <td>82</td>\n",
       "      <td>1491: New Revelations of the Americas Before C...</td>\n",
       "      <td>541</td>\n",
       "      <td>2006-10-10</td>\n",
       "      <td>309</td>\n",
       "    </tr>\n",
       "    <tr>\n",
       "      <th>4</th>\n",
       "      <td>5</td>\n",
       "      <td>125</td>\n",
       "      <td>1776</td>\n",
       "      <td>386</td>\n",
       "      <td>2006-07-04</td>\n",
       "      <td>268</td>\n",
       "    </tr>\n",
       "  </tbody>\n",
       "</table>\n",
       "</div>"
      ],
      "text/plain": [
       "   book_id  author_id                                              title  \\\n",
       "0        1        546                                       'Salem's Lot   \n",
       "1        2        465                 1 000 Places to See Before You Die   \n",
       "2        3        407  13 Little Blue Envelopes (Little Blue Envelope...   \n",
       "3        4         82  1491: New Revelations of the Americas Before C...   \n",
       "4        5        125                                               1776   \n",
       "\n",
       "   num_pages publication_date  publisher_id  \n",
       "0        594       2005-11-01            93  \n",
       "1        992       2003-05-22           336  \n",
       "2        322       2010-12-21           135  \n",
       "3        541       2006-10-10           309  \n",
       "4        386       2006-07-04           268  "
      ]
     },
     "execution_count": 5,
     "metadata": {},
     "output_type": "execute_result"
    }
   ],
   "source": [
    "table('books')"
   ]
  },
  {
   "cell_type": "code",
   "execution_count": 6,
   "id": "acd418f5",
   "metadata": {},
   "outputs": [
    {
     "data": {
      "text/html": [
       "<div>\n",
       "<style scoped>\n",
       "    .dataframe tbody tr th:only-of-type {\n",
       "        vertical-align: middle;\n",
       "    }\n",
       "\n",
       "    .dataframe tbody tr th {\n",
       "        vertical-align: top;\n",
       "    }\n",
       "\n",
       "    .dataframe thead th {\n",
       "        text-align: right;\n",
       "    }\n",
       "</style>\n",
       "<table border=\"1\" class=\"dataframe\">\n",
       "  <thead>\n",
       "    <tr style=\"text-align: right;\">\n",
       "      <th></th>\n",
       "      <th>count</th>\n",
       "    </tr>\n",
       "  </thead>\n",
       "  <tbody>\n",
       "    <tr>\n",
       "      <th>0</th>\n",
       "      <td>1000</td>\n",
       "    </tr>\n",
       "  </tbody>\n",
       "</table>\n",
       "</div>"
      ],
      "text/plain": [
       "   count\n",
       "0   1000"
      ]
     },
     "execution_count": 6,
     "metadata": {},
     "output_type": "execute_result"
    }
   ],
   "source": [
    "query = '''\n",
    "SELECT \n",
    "    COUNT(*)\n",
    "FROM books\n",
    "'''\n",
    "\n",
    "my_function(query)"
   ]
  },
  {
   "cell_type": "markdown",
   "id": "07647dcf",
   "metadata": {},
   "source": [
    "В таблице books информация о 1000 книгах"
   ]
  },
  {
   "cell_type": "code",
   "execution_count": 7,
   "id": "b7f57177",
   "metadata": {},
   "outputs": [
    {
     "data": {
      "text/html": [
       "<div>\n",
       "<style scoped>\n",
       "    .dataframe tbody tr th:only-of-type {\n",
       "        vertical-align: middle;\n",
       "    }\n",
       "\n",
       "    .dataframe tbody tr th {\n",
       "        vertical-align: top;\n",
       "    }\n",
       "\n",
       "    .dataframe thead th {\n",
       "        text-align: right;\n",
       "    }\n",
       "</style>\n",
       "<table border=\"1\" class=\"dataframe\">\n",
       "  <thead>\n",
       "    <tr style=\"text-align: right;\">\n",
       "      <th></th>\n",
       "      <th>author_id</th>\n",
       "      <th>author</th>\n",
       "    </tr>\n",
       "  </thead>\n",
       "  <tbody>\n",
       "    <tr>\n",
       "      <th>0</th>\n",
       "      <td>1</td>\n",
       "      <td>A.S. Byatt</td>\n",
       "    </tr>\n",
       "    <tr>\n",
       "      <th>1</th>\n",
       "      <td>2</td>\n",
       "      <td>Aesop/Laura Harris/Laura Gibbs</td>\n",
       "    </tr>\n",
       "    <tr>\n",
       "      <th>2</th>\n",
       "      <td>3</td>\n",
       "      <td>Agatha Christie</td>\n",
       "    </tr>\n",
       "    <tr>\n",
       "      <th>3</th>\n",
       "      <td>4</td>\n",
       "      <td>Alan Brennert</td>\n",
       "    </tr>\n",
       "    <tr>\n",
       "      <th>4</th>\n",
       "      <td>5</td>\n",
       "      <td>Alan Moore/David   Lloyd</td>\n",
       "    </tr>\n",
       "  </tbody>\n",
       "</table>\n",
       "</div>"
      ],
      "text/plain": [
       "   author_id                          author\n",
       "0          1                      A.S. Byatt\n",
       "1          2  Aesop/Laura Harris/Laura Gibbs\n",
       "2          3                 Agatha Christie\n",
       "3          4                   Alan Brennert\n",
       "4          5        Alan Moore/David   Lloyd"
      ]
     },
     "execution_count": 7,
     "metadata": {},
     "output_type": "execute_result"
    }
   ],
   "source": [
    "table('authors')"
   ]
  },
  {
   "cell_type": "code",
   "execution_count": 8,
   "id": "0896615d",
   "metadata": {},
   "outputs": [
    {
     "data": {
      "text/html": [
       "<div>\n",
       "<style scoped>\n",
       "    .dataframe tbody tr th:only-of-type {\n",
       "        vertical-align: middle;\n",
       "    }\n",
       "\n",
       "    .dataframe tbody tr th {\n",
       "        vertical-align: top;\n",
       "    }\n",
       "\n",
       "    .dataframe thead th {\n",
       "        text-align: right;\n",
       "    }\n",
       "</style>\n",
       "<table border=\"1\" class=\"dataframe\">\n",
       "  <thead>\n",
       "    <tr style=\"text-align: right;\">\n",
       "      <th></th>\n",
       "      <th>count</th>\n",
       "    </tr>\n",
       "  </thead>\n",
       "  <tbody>\n",
       "    <tr>\n",
       "      <th>0</th>\n",
       "      <td>636</td>\n",
       "    </tr>\n",
       "  </tbody>\n",
       "</table>\n",
       "</div>"
      ],
      "text/plain": [
       "   count\n",
       "0    636"
      ]
     },
     "execution_count": 8,
     "metadata": {},
     "output_type": "execute_result"
    }
   ],
   "source": [
    "query = '''\n",
    "SELECT \n",
    "    COUNT(*)\n",
    "FROM authors\n",
    "'''\n",
    "\n",
    "my_function(query)"
   ]
  },
  {
   "cell_type": "markdown",
   "id": "4c5133f8",
   "metadata": {},
   "source": [
    "В таблице authors информация о 636 авторах"
   ]
  },
  {
   "cell_type": "code",
   "execution_count": 9,
   "id": "01387644",
   "metadata": {},
   "outputs": [
    {
     "data": {
      "text/html": [
       "<div>\n",
       "<style scoped>\n",
       "    .dataframe tbody tr th:only-of-type {\n",
       "        vertical-align: middle;\n",
       "    }\n",
       "\n",
       "    .dataframe tbody tr th {\n",
       "        vertical-align: top;\n",
       "    }\n",
       "\n",
       "    .dataframe thead th {\n",
       "        text-align: right;\n",
       "    }\n",
       "</style>\n",
       "<table border=\"1\" class=\"dataframe\">\n",
       "  <thead>\n",
       "    <tr style=\"text-align: right;\">\n",
       "      <th></th>\n",
       "      <th>publisher_id</th>\n",
       "      <th>publisher</th>\n",
       "    </tr>\n",
       "  </thead>\n",
       "  <tbody>\n",
       "    <tr>\n",
       "      <th>0</th>\n",
       "      <td>1</td>\n",
       "      <td>Ace</td>\n",
       "    </tr>\n",
       "    <tr>\n",
       "      <th>1</th>\n",
       "      <td>2</td>\n",
       "      <td>Ace Book</td>\n",
       "    </tr>\n",
       "    <tr>\n",
       "      <th>2</th>\n",
       "      <td>3</td>\n",
       "      <td>Ace Books</td>\n",
       "    </tr>\n",
       "    <tr>\n",
       "      <th>3</th>\n",
       "      <td>4</td>\n",
       "      <td>Ace Hardcover</td>\n",
       "    </tr>\n",
       "    <tr>\n",
       "      <th>4</th>\n",
       "      <td>5</td>\n",
       "      <td>Addison Wesley Publishing Company</td>\n",
       "    </tr>\n",
       "  </tbody>\n",
       "</table>\n",
       "</div>"
      ],
      "text/plain": [
       "   publisher_id                          publisher\n",
       "0             1                                Ace\n",
       "1             2                           Ace Book\n",
       "2             3                          Ace Books\n",
       "3             4                      Ace Hardcover\n",
       "4             5  Addison Wesley Publishing Company"
      ]
     },
     "execution_count": 9,
     "metadata": {},
     "output_type": "execute_result"
    }
   ],
   "source": [
    "table('publishers')"
   ]
  },
  {
   "cell_type": "code",
   "execution_count": 10,
   "id": "d429ac80",
   "metadata": {},
   "outputs": [
    {
     "data": {
      "text/html": [
       "<div>\n",
       "<style scoped>\n",
       "    .dataframe tbody tr th:only-of-type {\n",
       "        vertical-align: middle;\n",
       "    }\n",
       "\n",
       "    .dataframe tbody tr th {\n",
       "        vertical-align: top;\n",
       "    }\n",
       "\n",
       "    .dataframe thead th {\n",
       "        text-align: right;\n",
       "    }\n",
       "</style>\n",
       "<table border=\"1\" class=\"dataframe\">\n",
       "  <thead>\n",
       "    <tr style=\"text-align: right;\">\n",
       "      <th></th>\n",
       "      <th>count</th>\n",
       "    </tr>\n",
       "  </thead>\n",
       "  <tbody>\n",
       "    <tr>\n",
       "      <th>0</th>\n",
       "      <td>340</td>\n",
       "    </tr>\n",
       "  </tbody>\n",
       "</table>\n",
       "</div>"
      ],
      "text/plain": [
       "   count\n",
       "0    340"
      ]
     },
     "execution_count": 10,
     "metadata": {},
     "output_type": "execute_result"
    }
   ],
   "source": [
    "query = '''\n",
    "SELECT \n",
    "    COUNT(*)\n",
    "FROM publishers\n",
    "'''\n",
    "\n",
    "my_function(query)"
   ]
  },
  {
   "cell_type": "markdown",
   "id": "9cec2fa4",
   "metadata": {},
   "source": [
    "В таблице publishers информация о 340 издательствах"
   ]
  },
  {
   "cell_type": "code",
   "execution_count": 11,
   "id": "a21c6895",
   "metadata": {},
   "outputs": [
    {
     "data": {
      "text/html": [
       "<div>\n",
       "<style scoped>\n",
       "    .dataframe tbody tr th:only-of-type {\n",
       "        vertical-align: middle;\n",
       "    }\n",
       "\n",
       "    .dataframe tbody tr th {\n",
       "        vertical-align: top;\n",
       "    }\n",
       "\n",
       "    .dataframe thead th {\n",
       "        text-align: right;\n",
       "    }\n",
       "</style>\n",
       "<table border=\"1\" class=\"dataframe\">\n",
       "  <thead>\n",
       "    <tr style=\"text-align: right;\">\n",
       "      <th></th>\n",
       "      <th>rating_id</th>\n",
       "      <th>book_id</th>\n",
       "      <th>username</th>\n",
       "      <th>rating</th>\n",
       "    </tr>\n",
       "  </thead>\n",
       "  <tbody>\n",
       "    <tr>\n",
       "      <th>0</th>\n",
       "      <td>1</td>\n",
       "      <td>1</td>\n",
       "      <td>ryanfranco</td>\n",
       "      <td>4</td>\n",
       "    </tr>\n",
       "    <tr>\n",
       "      <th>1</th>\n",
       "      <td>2</td>\n",
       "      <td>1</td>\n",
       "      <td>grantpatricia</td>\n",
       "      <td>2</td>\n",
       "    </tr>\n",
       "    <tr>\n",
       "      <th>2</th>\n",
       "      <td>3</td>\n",
       "      <td>1</td>\n",
       "      <td>brandtandrea</td>\n",
       "      <td>5</td>\n",
       "    </tr>\n",
       "    <tr>\n",
       "      <th>3</th>\n",
       "      <td>4</td>\n",
       "      <td>2</td>\n",
       "      <td>lorichen</td>\n",
       "      <td>3</td>\n",
       "    </tr>\n",
       "    <tr>\n",
       "      <th>4</th>\n",
       "      <td>5</td>\n",
       "      <td>2</td>\n",
       "      <td>mariokeller</td>\n",
       "      <td>2</td>\n",
       "    </tr>\n",
       "  </tbody>\n",
       "</table>\n",
       "</div>"
      ],
      "text/plain": [
       "   rating_id  book_id       username  rating\n",
       "0          1        1     ryanfranco       4\n",
       "1          2        1  grantpatricia       2\n",
       "2          3        1   brandtandrea       5\n",
       "3          4        2       lorichen       3\n",
       "4          5        2    mariokeller       2"
      ]
     },
     "execution_count": 11,
     "metadata": {},
     "output_type": "execute_result"
    }
   ],
   "source": [
    "table('ratings')"
   ]
  },
  {
   "cell_type": "code",
   "execution_count": 12,
   "id": "7b223253",
   "metadata": {},
   "outputs": [
    {
     "data": {
      "text/html": [
       "<div>\n",
       "<style scoped>\n",
       "    .dataframe tbody tr th:only-of-type {\n",
       "        vertical-align: middle;\n",
       "    }\n",
       "\n",
       "    .dataframe tbody tr th {\n",
       "        vertical-align: top;\n",
       "    }\n",
       "\n",
       "    .dataframe thead th {\n",
       "        text-align: right;\n",
       "    }\n",
       "</style>\n",
       "<table border=\"1\" class=\"dataframe\">\n",
       "  <thead>\n",
       "    <tr style=\"text-align: right;\">\n",
       "      <th></th>\n",
       "      <th>count</th>\n",
       "    </tr>\n",
       "  </thead>\n",
       "  <tbody>\n",
       "    <tr>\n",
       "      <th>0</th>\n",
       "      <td>6456</td>\n",
       "    </tr>\n",
       "  </tbody>\n",
       "</table>\n",
       "</div>"
      ],
      "text/plain": [
       "   count\n",
       "0   6456"
      ]
     },
     "execution_count": 12,
     "metadata": {},
     "output_type": "execute_result"
    }
   ],
   "source": [
    "query = '''\n",
    "SELECT \n",
    "    COUNT(*)\n",
    "FROM ratings\n",
    "'''\n",
    "\n",
    "my_function(query)"
   ]
  },
  {
   "cell_type": "markdown",
   "id": "6ef870f4",
   "metadata": {},
   "source": [
    "В таблице ratings информация о 6456 оценках книг"
   ]
  },
  {
   "cell_type": "code",
   "execution_count": 13,
   "id": "a663da89",
   "metadata": {},
   "outputs": [
    {
     "data": {
      "text/html": [
       "<div>\n",
       "<style scoped>\n",
       "    .dataframe tbody tr th:only-of-type {\n",
       "        vertical-align: middle;\n",
       "    }\n",
       "\n",
       "    .dataframe tbody tr th {\n",
       "        vertical-align: top;\n",
       "    }\n",
       "\n",
       "    .dataframe thead th {\n",
       "        text-align: right;\n",
       "    }\n",
       "</style>\n",
       "<table border=\"1\" class=\"dataframe\">\n",
       "  <thead>\n",
       "    <tr style=\"text-align: right;\">\n",
       "      <th></th>\n",
       "      <th>review_id</th>\n",
       "      <th>book_id</th>\n",
       "      <th>username</th>\n",
       "      <th>text</th>\n",
       "    </tr>\n",
       "  </thead>\n",
       "  <tbody>\n",
       "    <tr>\n",
       "      <th>0</th>\n",
       "      <td>1</td>\n",
       "      <td>1</td>\n",
       "      <td>brandtandrea</td>\n",
       "      <td>Mention society tell send professor analysis. ...</td>\n",
       "    </tr>\n",
       "    <tr>\n",
       "      <th>1</th>\n",
       "      <td>2</td>\n",
       "      <td>1</td>\n",
       "      <td>ryanfranco</td>\n",
       "      <td>Foot glass pretty audience hit themselves. Amo...</td>\n",
       "    </tr>\n",
       "    <tr>\n",
       "      <th>2</th>\n",
       "      <td>3</td>\n",
       "      <td>2</td>\n",
       "      <td>lorichen</td>\n",
       "      <td>Listen treat keep worry. Miss husband tax but ...</td>\n",
       "    </tr>\n",
       "    <tr>\n",
       "      <th>3</th>\n",
       "      <td>4</td>\n",
       "      <td>3</td>\n",
       "      <td>johnsonamanda</td>\n",
       "      <td>Finally month interesting blue could nature cu...</td>\n",
       "    </tr>\n",
       "    <tr>\n",
       "      <th>4</th>\n",
       "      <td>5</td>\n",
       "      <td>3</td>\n",
       "      <td>scotttamara</td>\n",
       "      <td>Nation purpose heavy give wait song will. List...</td>\n",
       "    </tr>\n",
       "  </tbody>\n",
       "</table>\n",
       "</div>"
      ],
      "text/plain": [
       "   review_id  book_id       username  \\\n",
       "0          1        1   brandtandrea   \n",
       "1          2        1     ryanfranco   \n",
       "2          3        2       lorichen   \n",
       "3          4        3  johnsonamanda   \n",
       "4          5        3    scotttamara   \n",
       "\n",
       "                                                text  \n",
       "0  Mention society tell send professor analysis. ...  \n",
       "1  Foot glass pretty audience hit themselves. Amo...  \n",
       "2  Listen treat keep worry. Miss husband tax but ...  \n",
       "3  Finally month interesting blue could nature cu...  \n",
       "4  Nation purpose heavy give wait song will. List...  "
      ]
     },
     "execution_count": 13,
     "metadata": {},
     "output_type": "execute_result"
    }
   ],
   "source": [
    "table('reviews')"
   ]
  },
  {
   "cell_type": "code",
   "execution_count": 14,
   "id": "958de255",
   "metadata": {},
   "outputs": [
    {
     "data": {
      "text/html": [
       "<div>\n",
       "<style scoped>\n",
       "    .dataframe tbody tr th:only-of-type {\n",
       "        vertical-align: middle;\n",
       "    }\n",
       "\n",
       "    .dataframe tbody tr th {\n",
       "        vertical-align: top;\n",
       "    }\n",
       "\n",
       "    .dataframe thead th {\n",
       "        text-align: right;\n",
       "    }\n",
       "</style>\n",
       "<table border=\"1\" class=\"dataframe\">\n",
       "  <thead>\n",
       "    <tr style=\"text-align: right;\">\n",
       "      <th></th>\n",
       "      <th>count</th>\n",
       "    </tr>\n",
       "  </thead>\n",
       "  <tbody>\n",
       "    <tr>\n",
       "      <th>0</th>\n",
       "      <td>2793</td>\n",
       "    </tr>\n",
       "  </tbody>\n",
       "</table>\n",
       "</div>"
      ],
      "text/plain": [
       "   count\n",
       "0   2793"
      ]
     },
     "execution_count": 14,
     "metadata": {},
     "output_type": "execute_result"
    }
   ],
   "source": [
    "query = '''\n",
    "SELECT \n",
    "    COUNT(*)\n",
    "FROM reviews\n",
    "'''\n",
    "\n",
    "my_function(query)"
   ]
  },
  {
   "cell_type": "markdown",
   "id": "1ed4fd81",
   "metadata": {},
   "source": [
    "В таблицу reviews информация о 2793 обзорах на книги."
   ]
  },
  {
   "cell_type": "markdown",
   "id": "5782f281",
   "metadata": {},
   "source": [
    "<a href='#start'>Вернуться к оглавлению</a>"
   ]
  },
  {
   "cell_type": "markdown",
   "id": "3f2d82d7",
   "metadata": {},
   "source": [
    "**Вывод**  \n",
    "Мы подключились к базе данных, выгрузили 5 таблиц: \n",
    "* В books информация о 1000 книгах\n",
    "* В authors информация о 636 авторах\n",
    "* В publishers информация о 340 издательствах\n",
    "* В ratings информация о 6456 оценках книг\n",
    "* В reviews информация о 2793 обзорах на книги."
   ]
  },
  {
   "cell_type": "markdown",
   "id": "50d6a34b",
   "metadata": {},
   "source": [
    "<a href='#start'>Вернуться к оглавлению</a>"
   ]
  },
  {
   "cell_type": "code",
   "execution_count": 15,
   "id": "01a89243",
   "metadata": {},
   "outputs": [],
   "source": [
    "def count(tab):\n",
    "    query = '''\n",
    "    SELECT COUNT(*)\n",
    "    FROM {}\n",
    "    '''.format(tab) \n",
    "    return pd.io.sql.read_sql(query, con = engine)"
   ]
  },
  {
   "cell_type": "code",
   "execution_count": 16,
   "id": "517f5575",
   "metadata": {},
   "outputs": [
    {
     "data": {
      "text/plain": [
       "'Название таблицы books'"
      ]
     },
     "metadata": {},
     "output_type": "display_data"
    },
    {
     "data": {
      "text/html": [
       "<div>\n",
       "<style scoped>\n",
       "    .dataframe tbody tr th:only-of-type {\n",
       "        vertical-align: middle;\n",
       "    }\n",
       "\n",
       "    .dataframe tbody tr th {\n",
       "        vertical-align: top;\n",
       "    }\n",
       "\n",
       "    .dataframe thead th {\n",
       "        text-align: right;\n",
       "    }\n",
       "</style>\n",
       "<table border=\"1\" class=\"dataframe\">\n",
       "  <thead>\n",
       "    <tr style=\"text-align: right;\">\n",
       "      <th></th>\n",
       "      <th>book_id</th>\n",
       "      <th>author_id</th>\n",
       "      <th>title</th>\n",
       "      <th>num_pages</th>\n",
       "      <th>publication_date</th>\n",
       "      <th>publisher_id</th>\n",
       "    </tr>\n",
       "  </thead>\n",
       "  <tbody>\n",
       "    <tr>\n",
       "      <th>0</th>\n",
       "      <td>1</td>\n",
       "      <td>546</td>\n",
       "      <td>'Salem's Lot</td>\n",
       "      <td>594</td>\n",
       "      <td>2005-11-01</td>\n",
       "      <td>93</td>\n",
       "    </tr>\n",
       "    <tr>\n",
       "      <th>1</th>\n",
       "      <td>2</td>\n",
       "      <td>465</td>\n",
       "      <td>1 000 Places to See Before You Die</td>\n",
       "      <td>992</td>\n",
       "      <td>2003-05-22</td>\n",
       "      <td>336</td>\n",
       "    </tr>\n",
       "    <tr>\n",
       "      <th>2</th>\n",
       "      <td>3</td>\n",
       "      <td>407</td>\n",
       "      <td>13 Little Blue Envelopes (Little Blue Envelope...</td>\n",
       "      <td>322</td>\n",
       "      <td>2010-12-21</td>\n",
       "      <td>135</td>\n",
       "    </tr>\n",
       "    <tr>\n",
       "      <th>3</th>\n",
       "      <td>4</td>\n",
       "      <td>82</td>\n",
       "      <td>1491: New Revelations of the Americas Before C...</td>\n",
       "      <td>541</td>\n",
       "      <td>2006-10-10</td>\n",
       "      <td>309</td>\n",
       "    </tr>\n",
       "    <tr>\n",
       "      <th>4</th>\n",
       "      <td>5</td>\n",
       "      <td>125</td>\n",
       "      <td>1776</td>\n",
       "      <td>386</td>\n",
       "      <td>2006-07-04</td>\n",
       "      <td>268</td>\n",
       "    </tr>\n",
       "  </tbody>\n",
       "</table>\n",
       "</div>"
      ],
      "text/plain": [
       "   book_id  author_id                                              title  \\\n",
       "0        1        546                                       'Salem's Lot   \n",
       "1        2        465                 1 000 Places to See Before You Die   \n",
       "2        3        407  13 Little Blue Envelopes (Little Blue Envelope...   \n",
       "3        4         82  1491: New Revelations of the Americas Before C...   \n",
       "4        5        125                                               1776   \n",
       "\n",
       "   num_pages publication_date  publisher_id  \n",
       "0        594       2005-11-01            93  \n",
       "1        992       2003-05-22           336  \n",
       "2        322       2010-12-21           135  \n",
       "3        541       2006-10-10           309  \n",
       "4        386       2006-07-04           268  "
      ]
     },
     "metadata": {},
     "output_type": "display_data"
    },
    {
     "data": {
      "text/html": [
       "<div>\n",
       "<style scoped>\n",
       "    .dataframe tbody tr th:only-of-type {\n",
       "        vertical-align: middle;\n",
       "    }\n",
       "\n",
       "    .dataframe tbody tr th {\n",
       "        vertical-align: top;\n",
       "    }\n",
       "\n",
       "    .dataframe thead th {\n",
       "        text-align: right;\n",
       "    }\n",
       "</style>\n",
       "<table border=\"1\" class=\"dataframe\">\n",
       "  <thead>\n",
       "    <tr style=\"text-align: right;\">\n",
       "      <th></th>\n",
       "      <th>count</th>\n",
       "    </tr>\n",
       "  </thead>\n",
       "  <tbody>\n",
       "    <tr>\n",
       "      <th>0</th>\n",
       "      <td>1000</td>\n",
       "    </tr>\n",
       "  </tbody>\n",
       "</table>\n",
       "</div>"
      ],
      "text/plain": [
       "   count\n",
       "0   1000"
      ]
     },
     "metadata": {},
     "output_type": "display_data"
    },
    {
     "data": {
      "text/plain": [
       "'Название таблицы authors'"
      ]
     },
     "metadata": {},
     "output_type": "display_data"
    },
    {
     "data": {
      "text/html": [
       "<div>\n",
       "<style scoped>\n",
       "    .dataframe tbody tr th:only-of-type {\n",
       "        vertical-align: middle;\n",
       "    }\n",
       "\n",
       "    .dataframe tbody tr th {\n",
       "        vertical-align: top;\n",
       "    }\n",
       "\n",
       "    .dataframe thead th {\n",
       "        text-align: right;\n",
       "    }\n",
       "</style>\n",
       "<table border=\"1\" class=\"dataframe\">\n",
       "  <thead>\n",
       "    <tr style=\"text-align: right;\">\n",
       "      <th></th>\n",
       "      <th>author_id</th>\n",
       "      <th>author</th>\n",
       "    </tr>\n",
       "  </thead>\n",
       "  <tbody>\n",
       "    <tr>\n",
       "      <th>0</th>\n",
       "      <td>1</td>\n",
       "      <td>A.S. Byatt</td>\n",
       "    </tr>\n",
       "    <tr>\n",
       "      <th>1</th>\n",
       "      <td>2</td>\n",
       "      <td>Aesop/Laura Harris/Laura Gibbs</td>\n",
       "    </tr>\n",
       "    <tr>\n",
       "      <th>2</th>\n",
       "      <td>3</td>\n",
       "      <td>Agatha Christie</td>\n",
       "    </tr>\n",
       "    <tr>\n",
       "      <th>3</th>\n",
       "      <td>4</td>\n",
       "      <td>Alan Brennert</td>\n",
       "    </tr>\n",
       "    <tr>\n",
       "      <th>4</th>\n",
       "      <td>5</td>\n",
       "      <td>Alan Moore/David   Lloyd</td>\n",
       "    </tr>\n",
       "  </tbody>\n",
       "</table>\n",
       "</div>"
      ],
      "text/plain": [
       "   author_id                          author\n",
       "0          1                      A.S. Byatt\n",
       "1          2  Aesop/Laura Harris/Laura Gibbs\n",
       "2          3                 Agatha Christie\n",
       "3          4                   Alan Brennert\n",
       "4          5        Alan Moore/David   Lloyd"
      ]
     },
     "metadata": {},
     "output_type": "display_data"
    },
    {
     "data": {
      "text/html": [
       "<div>\n",
       "<style scoped>\n",
       "    .dataframe tbody tr th:only-of-type {\n",
       "        vertical-align: middle;\n",
       "    }\n",
       "\n",
       "    .dataframe tbody tr th {\n",
       "        vertical-align: top;\n",
       "    }\n",
       "\n",
       "    .dataframe thead th {\n",
       "        text-align: right;\n",
       "    }\n",
       "</style>\n",
       "<table border=\"1\" class=\"dataframe\">\n",
       "  <thead>\n",
       "    <tr style=\"text-align: right;\">\n",
       "      <th></th>\n",
       "      <th>count</th>\n",
       "    </tr>\n",
       "  </thead>\n",
       "  <tbody>\n",
       "    <tr>\n",
       "      <th>0</th>\n",
       "      <td>636</td>\n",
       "    </tr>\n",
       "  </tbody>\n",
       "</table>\n",
       "</div>"
      ],
      "text/plain": [
       "   count\n",
       "0    636"
      ]
     },
     "metadata": {},
     "output_type": "display_data"
    },
    {
     "data": {
      "text/plain": [
       "'Название таблицы publishers'"
      ]
     },
     "metadata": {},
     "output_type": "display_data"
    },
    {
     "data": {
      "text/html": [
       "<div>\n",
       "<style scoped>\n",
       "    .dataframe tbody tr th:only-of-type {\n",
       "        vertical-align: middle;\n",
       "    }\n",
       "\n",
       "    .dataframe tbody tr th {\n",
       "        vertical-align: top;\n",
       "    }\n",
       "\n",
       "    .dataframe thead th {\n",
       "        text-align: right;\n",
       "    }\n",
       "</style>\n",
       "<table border=\"1\" class=\"dataframe\">\n",
       "  <thead>\n",
       "    <tr style=\"text-align: right;\">\n",
       "      <th></th>\n",
       "      <th>publisher_id</th>\n",
       "      <th>publisher</th>\n",
       "    </tr>\n",
       "  </thead>\n",
       "  <tbody>\n",
       "    <tr>\n",
       "      <th>0</th>\n",
       "      <td>1</td>\n",
       "      <td>Ace</td>\n",
       "    </tr>\n",
       "    <tr>\n",
       "      <th>1</th>\n",
       "      <td>2</td>\n",
       "      <td>Ace Book</td>\n",
       "    </tr>\n",
       "    <tr>\n",
       "      <th>2</th>\n",
       "      <td>3</td>\n",
       "      <td>Ace Books</td>\n",
       "    </tr>\n",
       "    <tr>\n",
       "      <th>3</th>\n",
       "      <td>4</td>\n",
       "      <td>Ace Hardcover</td>\n",
       "    </tr>\n",
       "    <tr>\n",
       "      <th>4</th>\n",
       "      <td>5</td>\n",
       "      <td>Addison Wesley Publishing Company</td>\n",
       "    </tr>\n",
       "  </tbody>\n",
       "</table>\n",
       "</div>"
      ],
      "text/plain": [
       "   publisher_id                          publisher\n",
       "0             1                                Ace\n",
       "1             2                           Ace Book\n",
       "2             3                          Ace Books\n",
       "3             4                      Ace Hardcover\n",
       "4             5  Addison Wesley Publishing Company"
      ]
     },
     "metadata": {},
     "output_type": "display_data"
    },
    {
     "data": {
      "text/html": [
       "<div>\n",
       "<style scoped>\n",
       "    .dataframe tbody tr th:only-of-type {\n",
       "        vertical-align: middle;\n",
       "    }\n",
       "\n",
       "    .dataframe tbody tr th {\n",
       "        vertical-align: top;\n",
       "    }\n",
       "\n",
       "    .dataframe thead th {\n",
       "        text-align: right;\n",
       "    }\n",
       "</style>\n",
       "<table border=\"1\" class=\"dataframe\">\n",
       "  <thead>\n",
       "    <tr style=\"text-align: right;\">\n",
       "      <th></th>\n",
       "      <th>count</th>\n",
       "    </tr>\n",
       "  </thead>\n",
       "  <tbody>\n",
       "    <tr>\n",
       "      <th>0</th>\n",
       "      <td>340</td>\n",
       "    </tr>\n",
       "  </tbody>\n",
       "</table>\n",
       "</div>"
      ],
      "text/plain": [
       "   count\n",
       "0    340"
      ]
     },
     "metadata": {},
     "output_type": "display_data"
    },
    {
     "data": {
      "text/plain": [
       "'Название таблицы ratings'"
      ]
     },
     "metadata": {},
     "output_type": "display_data"
    },
    {
     "data": {
      "text/html": [
       "<div>\n",
       "<style scoped>\n",
       "    .dataframe tbody tr th:only-of-type {\n",
       "        vertical-align: middle;\n",
       "    }\n",
       "\n",
       "    .dataframe tbody tr th {\n",
       "        vertical-align: top;\n",
       "    }\n",
       "\n",
       "    .dataframe thead th {\n",
       "        text-align: right;\n",
       "    }\n",
       "</style>\n",
       "<table border=\"1\" class=\"dataframe\">\n",
       "  <thead>\n",
       "    <tr style=\"text-align: right;\">\n",
       "      <th></th>\n",
       "      <th>rating_id</th>\n",
       "      <th>book_id</th>\n",
       "      <th>username</th>\n",
       "      <th>rating</th>\n",
       "    </tr>\n",
       "  </thead>\n",
       "  <tbody>\n",
       "    <tr>\n",
       "      <th>0</th>\n",
       "      <td>1</td>\n",
       "      <td>1</td>\n",
       "      <td>ryanfranco</td>\n",
       "      <td>4</td>\n",
       "    </tr>\n",
       "    <tr>\n",
       "      <th>1</th>\n",
       "      <td>2</td>\n",
       "      <td>1</td>\n",
       "      <td>grantpatricia</td>\n",
       "      <td>2</td>\n",
       "    </tr>\n",
       "    <tr>\n",
       "      <th>2</th>\n",
       "      <td>3</td>\n",
       "      <td>1</td>\n",
       "      <td>brandtandrea</td>\n",
       "      <td>5</td>\n",
       "    </tr>\n",
       "    <tr>\n",
       "      <th>3</th>\n",
       "      <td>4</td>\n",
       "      <td>2</td>\n",
       "      <td>lorichen</td>\n",
       "      <td>3</td>\n",
       "    </tr>\n",
       "    <tr>\n",
       "      <th>4</th>\n",
       "      <td>5</td>\n",
       "      <td>2</td>\n",
       "      <td>mariokeller</td>\n",
       "      <td>2</td>\n",
       "    </tr>\n",
       "  </tbody>\n",
       "</table>\n",
       "</div>"
      ],
      "text/plain": [
       "   rating_id  book_id       username  rating\n",
       "0          1        1     ryanfranco       4\n",
       "1          2        1  grantpatricia       2\n",
       "2          3        1   brandtandrea       5\n",
       "3          4        2       lorichen       3\n",
       "4          5        2    mariokeller       2"
      ]
     },
     "metadata": {},
     "output_type": "display_data"
    },
    {
     "data": {
      "text/html": [
       "<div>\n",
       "<style scoped>\n",
       "    .dataframe tbody tr th:only-of-type {\n",
       "        vertical-align: middle;\n",
       "    }\n",
       "\n",
       "    .dataframe tbody tr th {\n",
       "        vertical-align: top;\n",
       "    }\n",
       "\n",
       "    .dataframe thead th {\n",
       "        text-align: right;\n",
       "    }\n",
       "</style>\n",
       "<table border=\"1\" class=\"dataframe\">\n",
       "  <thead>\n",
       "    <tr style=\"text-align: right;\">\n",
       "      <th></th>\n",
       "      <th>count</th>\n",
       "    </tr>\n",
       "  </thead>\n",
       "  <tbody>\n",
       "    <tr>\n",
       "      <th>0</th>\n",
       "      <td>6456</td>\n",
       "    </tr>\n",
       "  </tbody>\n",
       "</table>\n",
       "</div>"
      ],
      "text/plain": [
       "   count\n",
       "0   6456"
      ]
     },
     "metadata": {},
     "output_type": "display_data"
    },
    {
     "data": {
      "text/plain": [
       "'Название таблицы reviews'"
      ]
     },
     "metadata": {},
     "output_type": "display_data"
    },
    {
     "data": {
      "text/html": [
       "<div>\n",
       "<style scoped>\n",
       "    .dataframe tbody tr th:only-of-type {\n",
       "        vertical-align: middle;\n",
       "    }\n",
       "\n",
       "    .dataframe tbody tr th {\n",
       "        vertical-align: top;\n",
       "    }\n",
       "\n",
       "    .dataframe thead th {\n",
       "        text-align: right;\n",
       "    }\n",
       "</style>\n",
       "<table border=\"1\" class=\"dataframe\">\n",
       "  <thead>\n",
       "    <tr style=\"text-align: right;\">\n",
       "      <th></th>\n",
       "      <th>review_id</th>\n",
       "      <th>book_id</th>\n",
       "      <th>username</th>\n",
       "      <th>text</th>\n",
       "    </tr>\n",
       "  </thead>\n",
       "  <tbody>\n",
       "    <tr>\n",
       "      <th>0</th>\n",
       "      <td>1</td>\n",
       "      <td>1</td>\n",
       "      <td>brandtandrea</td>\n",
       "      <td>Mention society tell send professor analysis. ...</td>\n",
       "    </tr>\n",
       "    <tr>\n",
       "      <th>1</th>\n",
       "      <td>2</td>\n",
       "      <td>1</td>\n",
       "      <td>ryanfranco</td>\n",
       "      <td>Foot glass pretty audience hit themselves. Amo...</td>\n",
       "    </tr>\n",
       "    <tr>\n",
       "      <th>2</th>\n",
       "      <td>3</td>\n",
       "      <td>2</td>\n",
       "      <td>lorichen</td>\n",
       "      <td>Listen treat keep worry. Miss husband tax but ...</td>\n",
       "    </tr>\n",
       "    <tr>\n",
       "      <th>3</th>\n",
       "      <td>4</td>\n",
       "      <td>3</td>\n",
       "      <td>johnsonamanda</td>\n",
       "      <td>Finally month interesting blue could nature cu...</td>\n",
       "    </tr>\n",
       "    <tr>\n",
       "      <th>4</th>\n",
       "      <td>5</td>\n",
       "      <td>3</td>\n",
       "      <td>scotttamara</td>\n",
       "      <td>Nation purpose heavy give wait song will. List...</td>\n",
       "    </tr>\n",
       "  </tbody>\n",
       "</table>\n",
       "</div>"
      ],
      "text/plain": [
       "   review_id  book_id       username  \\\n",
       "0          1        1   brandtandrea   \n",
       "1          2        1     ryanfranco   \n",
       "2          3        2       lorichen   \n",
       "3          4        3  johnsonamanda   \n",
       "4          5        3    scotttamara   \n",
       "\n",
       "                                                text  \n",
       "0  Mention society tell send professor analysis. ...  \n",
       "1  Foot glass pretty audience hit themselves. Amo...  \n",
       "2  Listen treat keep worry. Miss husband tax but ...  \n",
       "3  Finally month interesting blue could nature cu...  \n",
       "4  Nation purpose heavy give wait song will. List...  "
      ]
     },
     "metadata": {},
     "output_type": "display_data"
    },
    {
     "data": {
      "text/html": [
       "<div>\n",
       "<style scoped>\n",
       "    .dataframe tbody tr th:only-of-type {\n",
       "        vertical-align: middle;\n",
       "    }\n",
       "\n",
       "    .dataframe tbody tr th {\n",
       "        vertical-align: top;\n",
       "    }\n",
       "\n",
       "    .dataframe thead th {\n",
       "        text-align: right;\n",
       "    }\n",
       "</style>\n",
       "<table border=\"1\" class=\"dataframe\">\n",
       "  <thead>\n",
       "    <tr style=\"text-align: right;\">\n",
       "      <th></th>\n",
       "      <th>count</th>\n",
       "    </tr>\n",
       "  </thead>\n",
       "  <tbody>\n",
       "    <tr>\n",
       "      <th>0</th>\n",
       "      <td>2793</td>\n",
       "    </tr>\n",
       "  </tbody>\n",
       "</table>\n",
       "</div>"
      ],
      "text/plain": [
       "   count\n",
       "0   2793"
      ]
     },
     "metadata": {},
     "output_type": "display_data"
    }
   ],
   "source": [
    "a = ['books','authors','publishers','ratings','reviews']\n",
    "for i in a:\n",
    "    display(f'Название таблицы {i}')\n",
    "    display(table(i))\n",
    "    display(count(i))"
   ]
  },
  {
   "cell_type": "markdown",
   "id": "f70f139a",
   "metadata": {},
   "source": [
    "<a id=\"step_2\"></a>\n",
    "## Анализ данных"
   ]
  },
  {
   "cell_type": "markdown",
   "id": "43364e8a",
   "metadata": {},
   "source": [
    "<a id=\"step_2.1\"></a>\n",
    "### Посчитать, сколько книг вышло после 1 января 2000 года"
   ]
  },
  {
   "cell_type": "code",
   "execution_count": 17,
   "id": "712917b5",
   "metadata": {},
   "outputs": [
    {
     "data": {
      "text/html": [
       "<div>\n",
       "<style scoped>\n",
       "    .dataframe tbody tr th:only-of-type {\n",
       "        vertical-align: middle;\n",
       "    }\n",
       "\n",
       "    .dataframe tbody tr th {\n",
       "        vertical-align: top;\n",
       "    }\n",
       "\n",
       "    .dataframe thead th {\n",
       "        text-align: right;\n",
       "    }\n",
       "</style>\n",
       "<table border=\"1\" class=\"dataframe\">\n",
       "  <thead>\n",
       "    <tr style=\"text-align: right;\">\n",
       "      <th></th>\n",
       "      <th>count</th>\n",
       "    </tr>\n",
       "  </thead>\n",
       "  <tbody>\n",
       "    <tr>\n",
       "      <th>0</th>\n",
       "      <td>819</td>\n",
       "    </tr>\n",
       "  </tbody>\n",
       "</table>\n",
       "</div>"
      ],
      "text/plain": [
       "   count\n",
       "0    819"
      ]
     },
     "execution_count": 17,
     "metadata": {},
     "output_type": "execute_result"
    }
   ],
   "source": [
    "query = '''\n",
    "SELECT \n",
    "    COUNT(book_id)\n",
    "FROM books\n",
    "WHERE publication_date >'01-01-2000'\n",
    "'''\n",
    "\n",
    "my_function(query)"
   ]
  },
  {
   "cell_type": "markdown",
   "id": "d6abfa2e",
   "metadata": {},
   "source": [
    "**Вывод**  \n",
    "После 1 января 2000 года вышло в свет 819 книг"
   ]
  },
  {
   "cell_type": "markdown",
   "id": "bf36258c",
   "metadata": {},
   "source": [
    "<a href='#start'>Вернуться к оглавлению</a>"
   ]
  },
  {
   "cell_type": "markdown",
   "id": "a2149115",
   "metadata": {},
   "source": [
    "<a id=\"step_2.2\"></a>\n",
    "### Для каждой книги посчитать количество обзоров и среднюю оценку"
   ]
  },
  {
   "cell_type": "code",
   "execution_count": 18,
   "id": "69eeb32d",
   "metadata": {},
   "outputs": [
    {
     "data": {
      "text/html": [
       "<div>\n",
       "<style scoped>\n",
       "    .dataframe tbody tr th:only-of-type {\n",
       "        vertical-align: middle;\n",
       "    }\n",
       "\n",
       "    .dataframe tbody tr th {\n",
       "        vertical-align: top;\n",
       "    }\n",
       "\n",
       "    .dataframe thead th {\n",
       "        text-align: right;\n",
       "    }\n",
       "</style>\n",
       "<table border=\"1\" class=\"dataframe\">\n",
       "  <thead>\n",
       "    <tr style=\"text-align: right;\">\n",
       "      <th></th>\n",
       "      <th>book_id</th>\n",
       "      <th>title</th>\n",
       "      <th>count_reviews</th>\n",
       "      <th>average_rating</th>\n",
       "    </tr>\n",
       "  </thead>\n",
       "  <tbody>\n",
       "    <tr>\n",
       "      <th>0</th>\n",
       "      <td>948</td>\n",
       "      <td>Twilight (Twilight  #1)</td>\n",
       "      <td>7</td>\n",
       "      <td>3.66</td>\n",
       "    </tr>\n",
       "    <tr>\n",
       "      <th>1</th>\n",
       "      <td>302</td>\n",
       "      <td>Harry Potter and the Prisoner of Azkaban (Harr...</td>\n",
       "      <td>6</td>\n",
       "      <td>4.41</td>\n",
       "    </tr>\n",
       "    <tr>\n",
       "      <th>2</th>\n",
       "      <td>299</td>\n",
       "      <td>Harry Potter and the Chamber of Secrets (Harry...</td>\n",
       "      <td>6</td>\n",
       "      <td>4.29</td>\n",
       "    </tr>\n",
       "    <tr>\n",
       "      <th>3</th>\n",
       "      <td>656</td>\n",
       "      <td>The Book Thief</td>\n",
       "      <td>6</td>\n",
       "      <td>4.26</td>\n",
       "    </tr>\n",
       "    <tr>\n",
       "      <th>4</th>\n",
       "      <td>734</td>\n",
       "      <td>The Glass Castle</td>\n",
       "      <td>6</td>\n",
       "      <td>4.21</td>\n",
       "    </tr>\n",
       "    <tr>\n",
       "      <th>...</th>\n",
       "      <td>...</td>\n",
       "      <td>...</td>\n",
       "      <td>...</td>\n",
       "      <td>...</td>\n",
       "    </tr>\n",
       "    <tr>\n",
       "      <th>995</th>\n",
       "      <td>191</td>\n",
       "      <td>Disney's Beauty and the Beast (A Little Golden...</td>\n",
       "      <td>0</td>\n",
       "      <td>4.00</td>\n",
       "    </tr>\n",
       "    <tr>\n",
       "      <th>996</th>\n",
       "      <td>387</td>\n",
       "      <td>Leonardo's Notebooks</td>\n",
       "      <td>0</td>\n",
       "      <td>4.00</td>\n",
       "    </tr>\n",
       "    <tr>\n",
       "      <th>997</th>\n",
       "      <td>221</td>\n",
       "      <td>Essential Tales and Poems</td>\n",
       "      <td>0</td>\n",
       "      <td>4.00</td>\n",
       "    </tr>\n",
       "    <tr>\n",
       "      <th>998</th>\n",
       "      <td>83</td>\n",
       "      <td>Anne Rice's The Vampire Lestat: A Graphic Novel</td>\n",
       "      <td>0</td>\n",
       "      <td>3.67</td>\n",
       "    </tr>\n",
       "    <tr>\n",
       "      <th>999</th>\n",
       "      <td>808</td>\n",
       "      <td>The Natural Way to Draw</td>\n",
       "      <td>0</td>\n",
       "      <td>3.00</td>\n",
       "    </tr>\n",
       "  </tbody>\n",
       "</table>\n",
       "<p>1000 rows × 4 columns</p>\n",
       "</div>"
      ],
      "text/plain": [
       "     book_id                                              title  \\\n",
       "0        948                            Twilight (Twilight  #1)   \n",
       "1        302  Harry Potter and the Prisoner of Azkaban (Harr...   \n",
       "2        299  Harry Potter and the Chamber of Secrets (Harry...   \n",
       "3        656                                     The Book Thief   \n",
       "4        734                                   The Glass Castle   \n",
       "..       ...                                                ...   \n",
       "995      191  Disney's Beauty and the Beast (A Little Golden...   \n",
       "996      387                               Leonardo's Notebooks   \n",
       "997      221                          Essential Tales and Poems   \n",
       "998       83    Anne Rice's The Vampire Lestat: A Graphic Novel   \n",
       "999      808                            The Natural Way to Draw   \n",
       "\n",
       "     count_reviews  average_rating  \n",
       "0                7            3.66  \n",
       "1                6            4.41  \n",
       "2                6            4.29  \n",
       "3                6            4.26  \n",
       "4                6            4.21  \n",
       "..             ...             ...  \n",
       "995              0            4.00  \n",
       "996              0            4.00  \n",
       "997              0            4.00  \n",
       "998              0            3.67  \n",
       "999              0            3.00  \n",
       "\n",
       "[1000 rows x 4 columns]"
      ]
     },
     "execution_count": 18,
     "metadata": {},
     "output_type": "execute_result"
    }
   ],
   "source": [
    "query = '''\n",
    "SELECT b.book_id,\n",
    "       b.title,\n",
    "       COUNT(DISTINCT(rev.review_id)) AS count_reviews,\n",
    "       ROUND(AVG(rating), 2) AS average_rating \n",
    "FROM books as b\n",
    "LEFT JOIN reviews as rev ON b.book_id  = rev.book_id\n",
    "LEFT JOIN ratings as rat ON b.book_id=rat.book_id\n",
    "GROUP BY b.book_id\n",
    "ORDER BY count_reviews  DESC, \n",
    "         average_rating DESC\n",
    "\n",
    "'''\n",
    "\n",
    "my_function(query)"
   ]
  },
  {
   "cell_type": "markdown",
   "id": "fdb7585e",
   "metadata": {},
   "source": [
    "Посмотрим книги с наибольшим рейтингом"
   ]
  },
  {
   "cell_type": "code",
   "execution_count": 19,
   "id": "e5446a3d",
   "metadata": {},
   "outputs": [
    {
     "data": {
      "text/html": [
       "<div>\n",
       "<style scoped>\n",
       "    .dataframe tbody tr th:only-of-type {\n",
       "        vertical-align: middle;\n",
       "    }\n",
       "\n",
       "    .dataframe tbody tr th {\n",
       "        vertical-align: top;\n",
       "    }\n",
       "\n",
       "    .dataframe thead th {\n",
       "        text-align: right;\n",
       "    }\n",
       "</style>\n",
       "<table border=\"1\" class=\"dataframe\">\n",
       "  <thead>\n",
       "    <tr style=\"text-align: right;\">\n",
       "      <th></th>\n",
       "      <th>book_id</th>\n",
       "      <th>title</th>\n",
       "      <th>count_reviews</th>\n",
       "      <th>average_rating</th>\n",
       "    </tr>\n",
       "  </thead>\n",
       "  <tbody>\n",
       "    <tr>\n",
       "      <th>0</th>\n",
       "      <td>17</td>\n",
       "      <td>A Dirty Job (Grim Reaper  #1)</td>\n",
       "      <td>4</td>\n",
       "      <td>5.00</td>\n",
       "    </tr>\n",
       "    <tr>\n",
       "      <th>1</th>\n",
       "      <td>553</td>\n",
       "      <td>School's Out—Forever (Maximum Ride  #2)</td>\n",
       "      <td>3</td>\n",
       "      <td>5.00</td>\n",
       "    </tr>\n",
       "    <tr>\n",
       "      <th>2</th>\n",
       "      <td>444</td>\n",
       "      <td>Moneyball: The Art of Winning an Unfair Game</td>\n",
       "      <td>3</td>\n",
       "      <td>5.00</td>\n",
       "    </tr>\n",
       "    <tr>\n",
       "      <th>3</th>\n",
       "      <td>642</td>\n",
       "      <td>The Big Bad Wolf  (Alex Cross  #9)</td>\n",
       "      <td>2</td>\n",
       "      <td>5.00</td>\n",
       "    </tr>\n",
       "    <tr>\n",
       "      <th>4</th>\n",
       "      <td>967</td>\n",
       "      <td>Welcome to Temptation (Dempseys  #1)</td>\n",
       "      <td>2</td>\n",
       "      <td>5.00</td>\n",
       "    </tr>\n",
       "    <tr>\n",
       "      <th>...</th>\n",
       "      <td>...</td>\n",
       "      <td>...</td>\n",
       "      <td>...</td>\n",
       "      <td>...</td>\n",
       "    </tr>\n",
       "    <tr>\n",
       "      <th>995</th>\n",
       "      <td>915</td>\n",
       "      <td>The World Is Flat: A Brief History of the Twen...</td>\n",
       "      <td>3</td>\n",
       "      <td>2.25</td>\n",
       "    </tr>\n",
       "    <tr>\n",
       "      <th>996</th>\n",
       "      <td>202</td>\n",
       "      <td>Drowning Ruth</td>\n",
       "      <td>3</td>\n",
       "      <td>2.00</td>\n",
       "    </tr>\n",
       "    <tr>\n",
       "      <th>997</th>\n",
       "      <td>316</td>\n",
       "      <td>His Excellency: George Washington</td>\n",
       "      <td>2</td>\n",
       "      <td>2.00</td>\n",
       "    </tr>\n",
       "    <tr>\n",
       "      <th>998</th>\n",
       "      <td>371</td>\n",
       "      <td>Junky</td>\n",
       "      <td>2</td>\n",
       "      <td>2.00</td>\n",
       "    </tr>\n",
       "    <tr>\n",
       "      <th>999</th>\n",
       "      <td>303</td>\n",
       "      <td>Harvesting the Heart</td>\n",
       "      <td>2</td>\n",
       "      <td>1.50</td>\n",
       "    </tr>\n",
       "  </tbody>\n",
       "</table>\n",
       "<p>1000 rows × 4 columns</p>\n",
       "</div>"
      ],
      "text/plain": [
       "     book_id                                              title  \\\n",
       "0         17                      A Dirty Job (Grim Reaper  #1)   \n",
       "1        553            School's Out—Forever (Maximum Ride  #2)   \n",
       "2        444       Moneyball: The Art of Winning an Unfair Game   \n",
       "3        642                 The Big Bad Wolf  (Alex Cross  #9)   \n",
       "4        967               Welcome to Temptation (Dempseys  #1)   \n",
       "..       ...                                                ...   \n",
       "995      915  The World Is Flat: A Brief History of the Twen...   \n",
       "996      202                                      Drowning Ruth   \n",
       "997      316                  His Excellency: George Washington   \n",
       "998      371                                              Junky   \n",
       "999      303                               Harvesting the Heart   \n",
       "\n",
       "     count_reviews  average_rating  \n",
       "0                4            5.00  \n",
       "1                3            5.00  \n",
       "2                3            5.00  \n",
       "3                2            5.00  \n",
       "4                2            5.00  \n",
       "..             ...             ...  \n",
       "995              3            2.25  \n",
       "996              3            2.00  \n",
       "997              2            2.00  \n",
       "998              2            2.00  \n",
       "999              2            1.50  \n",
       "\n",
       "[1000 rows x 4 columns]"
      ]
     },
     "execution_count": 19,
     "metadata": {},
     "output_type": "execute_result"
    }
   ],
   "source": [
    "query = '''\n",
    "SELECT b.book_id,\n",
    "       b.title,\n",
    "       COUNT(DISTINCT(rev.review_id)) AS count_reviews,\n",
    "       ROUND(AVG(rating), 2) AS average_rating \n",
    "FROM books as b\n",
    "LEFT JOIN reviews as rev ON b.book_id  = rev.book_id\n",
    "LEFT JOIN ratings as rat ON b.book_id=rat.book_id\n",
    "GROUP BY b.book_id\n",
    "ORDER BY average_rating DESC, count_reviews  DESC\n",
    "         \n",
    "\n",
    "'''\n",
    "\n",
    "my_function(query)"
   ]
  },
  {
   "cell_type": "markdown",
   "id": "3e94ffc0",
   "metadata": {},
   "source": [
    "**Вывод**  \n",
    "В данных 1000 книг, отсортированные по количеству обзоров и среднему рейтингу: \n",
    "\n",
    "* Книга с наибольшим рейтингом (среди средних оценок 5) - A Dirty Job (Grim Reaper #1) -  на нее написано 4 обзора\n",
    "* Есть один лидер по количеству обзоров - книга с id 948 - Twilight (Twilight #1), на нее написано 7 обзоров, рейтинг 3,66\n",
    "* Есть книги, к которым не было написано ни одного пользовательских обзора  \n"
   ]
  },
  {
   "cell_type": "markdown",
   "id": "1d82d5e0",
   "metadata": {},
   "source": [
    "<a href='#start'>Вернуться к оглавлению</a>"
   ]
  },
  {
   "cell_type": "markdown",
   "id": "25a7398e",
   "metadata": {},
   "source": [
    "<a id=\"step_2.3\"></a>\n",
    "### Определить издательство, которое выпустило наибольшее число книг толще 50 страниц"
   ]
  },
  {
   "cell_type": "code",
   "execution_count": 20,
   "id": "141f47b8",
   "metadata": {},
   "outputs": [
    {
     "data": {
      "text/html": [
       "<div>\n",
       "<style scoped>\n",
       "    .dataframe tbody tr th:only-of-type {\n",
       "        vertical-align: middle;\n",
       "    }\n",
       "\n",
       "    .dataframe tbody tr th {\n",
       "        vertical-align: top;\n",
       "    }\n",
       "\n",
       "    .dataframe thead th {\n",
       "        text-align: right;\n",
       "    }\n",
       "</style>\n",
       "<table border=\"1\" class=\"dataframe\">\n",
       "  <thead>\n",
       "    <tr style=\"text-align: right;\">\n",
       "      <th></th>\n",
       "      <th>publisher</th>\n",
       "      <th>count_books</th>\n",
       "    </tr>\n",
       "  </thead>\n",
       "  <tbody>\n",
       "    <tr>\n",
       "      <th>0</th>\n",
       "      <td>Penguin Books</td>\n",
       "      <td>42</td>\n",
       "    </tr>\n",
       "  </tbody>\n",
       "</table>\n",
       "</div>"
      ],
      "text/plain": [
       "       publisher  count_books\n",
       "0  Penguin Books           42"
      ]
     },
     "execution_count": 20,
     "metadata": {},
     "output_type": "execute_result"
    }
   ],
   "source": [
    "query = '''\n",
    "\n",
    "SELECT publisher,\n",
    "       COUNT(book_id) AS count_books\n",
    "FROM publishers AS p\n",
    "INNER JOIN books AS b ON p.publisher_id = b.publisher_id\n",
    "WHERE num_pages > 50\n",
    "GROUP BY publisher\n",
    "ORDER BY count_books DESC\n",
    "LIMIT 1\n",
    "'''\n",
    "\n",
    "my_function(query)"
   ]
  },
  {
   "cell_type": "markdown",
   "id": "38c14c49",
   "metadata": {},
   "source": [
    "**Вывод**  \n",
    "Издательство, которое выпустило наибольшее число книг толще 50 страниц — Penguin Books"
   ]
  },
  {
   "cell_type": "markdown",
   "id": "b033d3e5",
   "metadata": {},
   "source": [
    "<a href='#start'>Вернуться к оглавлению</a>"
   ]
  },
  {
   "cell_type": "markdown",
   "id": "2ec00885",
   "metadata": {},
   "source": [
    "<a id=\"step_2.4\"></a>\n",
    "### Определить автора с самой высокой средней оценкой книг\n",
    "\n",
    "Учтем только книги с 50 и более оценками"
   ]
  },
  {
   "cell_type": "raw",
   "id": "7812cacf",
   "metadata": {},
   "source": [
    "query = '''\n",
    "\n",
    "SELECT a.author,\n",
    "       AVG(rat.rating) AS average_rating\n",
    "FROM authors AS a\n",
    "LEFT JOIN books AS b ON a.author_id=b.author_id\n",
    "LEFT JOIN ratings AS rat ON b.book_id=rat.book_id\n",
    "GROUP BY a.author\n",
    "HAVING COUNT(rat.rating)>50\n",
    "ORDER BY AVG(rat.rating) DESC\n",
    "LIMIT 1\n",
    "'''\n",
    "\n",
    "my_function(query)"
   ]
  },
  {
   "cell_type": "markdown",
   "id": "a791f462",
   "metadata": {},
   "source": [
    "**Вывод**  \n",
    "Автором с самой высокой средней оценкой книг является J.K. Rowling/Mary GrandPré - Джоан Роулинг, известная всему миру автор бестселлеров про Гарри Поттера.  \n",
    "Средняя оценка 4,29 среди книг, которым поставили 50 и более оценок"
   ]
  },
  {
   "cell_type": "code",
   "execution_count": 22,
   "id": "9a9d9e5b",
   "metadata": {},
   "outputs": [
    {
     "data": {
      "text/html": [
       "<div>\n",
       "<style scoped>\n",
       "    .dataframe tbody tr th:only-of-type {\n",
       "        vertical-align: middle;\n",
       "    }\n",
       "\n",
       "    .dataframe tbody tr th {\n",
       "        vertical-align: top;\n",
       "    }\n",
       "\n",
       "    .dataframe thead th {\n",
       "        text-align: right;\n",
       "    }\n",
       "</style>\n",
       "<table border=\"1\" class=\"dataframe\">\n",
       "  <thead>\n",
       "    <tr style=\"text-align: right;\">\n",
       "      <th></th>\n",
       "      <th>author</th>\n",
       "      <th>average_rating</th>\n",
       "    </tr>\n",
       "  </thead>\n",
       "  <tbody>\n",
       "    <tr>\n",
       "      <th>0</th>\n",
       "      <td>J.K. Rowling/Mary GrandPré</td>\n",
       "      <td>4.29</td>\n",
       "    </tr>\n",
       "  </tbody>\n",
       "</table>\n",
       "</div>"
      ],
      "text/plain": [
       "                       author  average_rating\n",
       "0  J.K. Rowling/Mary GrandPré            4.29"
      ]
     },
     "execution_count": 22,
     "metadata": {},
     "output_type": "execute_result"
    }
   ],
   "source": [
    "query = '''\n",
    "\n",
    "SELECT a.author, ROUND(AVG(rat.rating),2) AS average_rating\n",
    "FROM authors AS a\n",
    "LEFT JOIN books AS b ON a.author_id=b.author_id\n",
    "LEFT JOIN ratings AS rat ON b.book_id=rat.book_id\n",
    "WHERE b.book_id in (\n",
    "-- Найдем книги с 50 и более оценками                    \n",
    "                    SELECT b.book_id\n",
    "                    FROM books as b\n",
    "                    LEFT JOIN ratings AS r ON r.book_id = b.book_id\n",
    "                    GROUP BY b.book_id\n",
    "                    HAVING COUNT(rating) >= 50)\n",
    "\n",
    "GROUP BY a.author\n",
    "ORDER BY AVG(rat.rating) DESC\n",
    "LIMIT 1\n",
    "'''\n",
    "\n",
    "my_function(query)"
   ]
  },
  {
   "cell_type": "markdown",
   "id": "3c0f0b85",
   "metadata": {},
   "source": [
    "<a href='#start'>Вернуться к оглавлению</a>"
   ]
  },
  {
   "cell_type": "markdown",
   "id": "64707d56",
   "metadata": {},
   "source": [
    "<a id=\"step_2.5\"></a>\n",
    "### Посчитать среднее количество обзоров от пользователей, которые поставили больше 50 оценок"
   ]
  },
  {
   "cell_type": "code",
   "execution_count": 23,
   "id": "609236f4",
   "metadata": {},
   "outputs": [
    {
     "data": {
      "text/html": [
       "<div>\n",
       "<style scoped>\n",
       "    .dataframe tbody tr th:only-of-type {\n",
       "        vertical-align: middle;\n",
       "    }\n",
       "\n",
       "    .dataframe tbody tr th {\n",
       "        vertical-align: top;\n",
       "    }\n",
       "\n",
       "    .dataframe thead th {\n",
       "        text-align: right;\n",
       "    }\n",
       "</style>\n",
       "<table border=\"1\" class=\"dataframe\">\n",
       "  <thead>\n",
       "    <tr style=\"text-align: right;\">\n",
       "      <th></th>\n",
       "      <th>floor</th>\n",
       "    </tr>\n",
       "  </thead>\n",
       "  <tbody>\n",
       "    <tr>\n",
       "      <th>0</th>\n",
       "      <td>24.0</td>\n",
       "    </tr>\n",
       "  </tbody>\n",
       "</table>\n",
       "</div>"
      ],
      "text/plain": [
       "   floor\n",
       "0   24.0"
      ]
     },
     "execution_count": 23,
     "metadata": {},
     "output_type": "execute_result"
    }
   ],
   "source": [
    "query = '''\n",
    "WITH\n",
    "username_count as (\n",
    "--определяем пользователей, которые поставили больше 50 оценок\n",
    "SELECT username\n",
    "FROM ratings\n",
    "GROUP BY username\n",
    "HAVING COUNT(*) > 50),\n",
    "\n",
    "count_reviews as (\n",
    "--считаем количество обзоров по каждому пользователю\n",
    "SELECT username,\n",
    "       COUNT(review_id) AS count_reviews\n",
    "FROM reviews \n",
    "GROUP BY username)\n",
    "\n",
    "SELECT FLOOR(AVG(count_reviews))\n",
    "FROM username_count as u\n",
    "LEFT JOIN count_reviews as c ON u.username = c.username\n",
    "\n",
    "'''\n",
    "\n",
    "my_function(query)"
   ]
  },
  {
   "cell_type": "markdown",
   "id": "ccb62334",
   "metadata": {},
   "source": [
    "**Вывод**  \n",
    "Среднее количество обзоров от пользователей, которые поставили больше 50 оценок - 24"
   ]
  },
  {
   "cell_type": "markdown",
   "id": "2ea1e70d",
   "metadata": {},
   "source": [
    "<a href='#start'>Вернуться к оглавлению</a>"
   ]
  },
  {
   "cell_type": "markdown",
   "id": "9de0338f",
   "metadata": {},
   "source": [
    "<a id=\"step_3_end\"></a>\n",
    "## Общий вывод"
   ]
  },
  {
   "cell_type": "markdown",
   "id": "9f7dc266",
   "metadata": {},
   "source": [
    "В ходе работы мы проанализировали базу данных. В ней — информация о книгах, издательствах, авторах, а также пользовательские обзоры книг.\n",
    "\n",
    "**Наша задача** Проанализировать базу данных. Чтобы помочь сформулировать ценностное предложение для нового продукта.\n",
    "\n",
    "**Исходные данные**\n",
    "Мы подключились к базе данных, выгрузили 5 таблиц:\n",
    "\n",
    "* В books информация о 1000 книгах\n",
    "* В authors информация о 636 авторах\n",
    "* В publishers информация о 340 издательствах\n",
    "* В ratings информация о 6456 оценках книг\n",
    "* В reviews информация о 2793 обзорах на книги.\n",
    "\n",
    "**Результат анализа**\n",
    "\n",
    "* После 1 января 2000 года вышло в свет 819 книг\n",
    "* В данных 1000 книг, отсортированные по количеству обзоров и среднему рейтингу:   \n",
    "\n",
    "  * Книга с наибольшим рейтингом (среди средних оценок 5) - A Dirty Job (Grim Reaper #1) -  на нее написано 4 обзора\n",
    "  * Есть один лидер по количеству обзоров - книга с id 948 - Twilight (Twilight #1), на нее написано 7 обзоров, рейтинг 3,66\n",
    "  * Есть книги, к которым не было написано ни одного пользовательских обзора    \n",
    "* Издательство, которое выпустило наибольшее число книг толще 50 страниц — Penguin Books\n",
    "* Автором с самой высокой средней оценкой книг является J.K. Rowling/Mary GrandPré - Джоан Роулинг, известная всему миру автор бестселлеров про Гарри Поттера.  \n",
    "  Средняя оценка 4,29 среди книг, которым поставили 50 и более оценок\n",
    "* Среднее количество обзоров от пользователей, которые поставили больше 50 оценок - 24"
   ]
  },
  {
   "cell_type": "markdown",
   "id": "d4f819cd",
   "metadata": {},
   "source": [
    "<a href='#start'>Вернуться к оглавлению</a>"
   ]
  }
 ],
 "metadata": {
  "ExecuteTimeLog": [
   {
    "duration": 54,
    "start_time": "2023-04-16T11:49:16.103Z"
   },
   {
    "duration": 58,
    "start_time": "2023-04-16T11:49:23.380Z"
   },
   {
    "duration": 49,
    "start_time": "2023-04-16T11:51:35.297Z"
   },
   {
    "duration": 561,
    "start_time": "2023-04-16T11:51:49.584Z"
   },
   {
    "duration": 5225,
    "start_time": "2023-04-16T11:51:50.353Z"
   },
   {
    "duration": 5,
    "start_time": "2023-04-16T11:51:55.580Z"
   },
   {
    "duration": 8,
    "start_time": "2023-04-16T11:51:55.586Z"
   },
   {
    "duration": 65,
    "start_time": "2023-04-16T11:52:00.247Z"
   },
   {
    "duration": 131,
    "start_time": "2023-04-16T11:52:08.910Z"
   },
   {
    "duration": 58,
    "start_time": "2023-04-16T11:52:16.883Z"
   },
   {
    "duration": 56,
    "start_time": "2023-04-16T11:52:19.505Z"
   },
   {
    "duration": 26,
    "start_time": "2023-04-16T11:52:23.056Z"
   },
   {
    "duration": 21,
    "start_time": "2023-04-16T11:53:28.907Z"
   },
   {
    "duration": 24,
    "start_time": "2023-04-16T11:53:36.410Z"
   },
   {
    "duration": 19,
    "start_time": "2023-04-16T11:53:50.641Z"
   },
   {
    "duration": 27,
    "start_time": "2023-04-16T11:54:05.346Z"
   },
   {
    "duration": 31,
    "start_time": "2023-04-16T11:55:11.313Z"
   },
   {
    "duration": 29,
    "start_time": "2023-04-16T11:55:13.228Z"
   },
   {
    "duration": 23,
    "start_time": "2023-04-16T11:56:52.384Z"
   },
   {
    "duration": 60,
    "start_time": "2023-04-16T11:57:09.431Z"
   },
   {
    "duration": 42,
    "start_time": "2023-04-16T11:57:16.739Z"
   },
   {
    "duration": 52,
    "start_time": "2023-04-16T11:57:23.583Z"
   },
   {
    "duration": 23,
    "start_time": "2023-04-16T11:57:32.209Z"
   },
   {
    "duration": 25,
    "start_time": "2023-04-16T11:57:35.641Z"
   },
   {
    "duration": 23,
    "start_time": "2023-04-16T11:57:36.477Z"
   },
   {
    "duration": 26,
    "start_time": "2023-04-16T11:57:38.804Z"
   },
   {
    "duration": 24,
    "start_time": "2023-04-16T11:57:39.403Z"
   },
   {
    "duration": 13,
    "start_time": "2023-04-16T11:59:00.824Z"
   },
   {
    "duration": 9,
    "start_time": "2023-04-16T11:59:24.916Z"
   },
   {
    "duration": 8,
    "start_time": "2023-04-16T11:59:34.526Z"
   },
   {
    "duration": 14,
    "start_time": "2023-04-16T11:59:47.616Z"
   },
   {
    "duration": 8,
    "start_time": "2023-04-16T12:00:46.566Z"
   },
   {
    "duration": 7,
    "start_time": "2023-04-16T12:00:51.379Z"
   },
   {
    "duration": 8,
    "start_time": "2023-04-16T12:01:02.129Z"
   },
   {
    "duration": 8,
    "start_time": "2023-04-16T12:01:07.844Z"
   },
   {
    "duration": 10,
    "start_time": "2023-04-16T12:01:15.632Z"
   },
   {
    "duration": 10,
    "start_time": "2023-04-16T12:02:19.504Z"
   },
   {
    "duration": 132,
    "start_time": "2023-04-16T12:02:51.925Z"
   },
   {
    "duration": 60,
    "start_time": "2023-04-16T12:03:44.911Z"
   },
   {
    "duration": 61,
    "start_time": "2023-04-16T12:04:09.136Z"
   },
   {
    "duration": 10,
    "start_time": "2023-04-16T12:08:05.106Z"
   },
   {
    "duration": 4,
    "start_time": "2023-04-16T12:09:37.742Z"
   },
   {
    "duration": 168,
    "start_time": "2023-04-16T12:09:42.726Z"
   },
   {
    "duration": 21,
    "start_time": "2023-04-16T12:11:10.691Z"
   },
   {
    "duration": 93,
    "start_time": "2023-04-16T12:12:45.726Z"
   },
   {
    "duration": 21,
    "start_time": "2023-04-16T12:13:13.922Z"
   },
   {
    "duration": 21,
    "start_time": "2023-04-16T12:15:33.430Z"
   },
   {
    "duration": 20,
    "start_time": "2023-04-16T12:17:23.914Z"
   },
   {
    "duration": 25,
    "start_time": "2023-04-16T12:18:26.383Z"
   },
   {
    "duration": 76,
    "start_time": "2023-04-16T12:18:46.211Z"
   },
   {
    "duration": 69,
    "start_time": "2023-04-16T12:19:03.724Z"
   },
   {
    "duration": 18,
    "start_time": "2023-04-16T12:19:12.781Z"
   },
   {
    "duration": 19,
    "start_time": "2023-04-16T12:19:15.617Z"
   },
   {
    "duration": 23,
    "start_time": "2023-04-16T12:20:26.819Z"
   },
   {
    "duration": 49,
    "start_time": "2023-04-16T12:24:10.122Z"
   },
   {
    "duration": 82,
    "start_time": "2023-04-16T12:25:09.926Z"
   },
   {
    "duration": 80,
    "start_time": "2023-04-16T12:25:24.536Z"
   },
   {
    "duration": 19,
    "start_time": "2023-04-16T12:25:30.808Z"
   },
   {
    "duration": 15,
    "start_time": "2023-04-16T12:25:46.030Z"
   },
   {
    "duration": 23,
    "start_time": "2023-04-16T12:26:51.038Z"
   },
   {
    "duration": 84,
    "start_time": "2023-04-16T12:27:00.902Z"
   },
   {
    "duration": 67,
    "start_time": "2023-04-16T12:27:36.003Z"
   },
   {
    "duration": 82,
    "start_time": "2023-04-16T12:27:44.154Z"
   },
   {
    "duration": 96,
    "start_time": "2023-04-16T12:27:59.702Z"
   },
   {
    "duration": 50,
    "start_time": "2023-04-16T12:28:03.695Z"
   },
   {
    "duration": 17,
    "start_time": "2023-04-16T12:29:15.619Z"
   },
   {
    "duration": 16,
    "start_time": "2023-04-16T12:29:25.784Z"
   },
   {
    "duration": 80,
    "start_time": "2023-04-16T12:31:08.227Z"
   },
   {
    "duration": 18,
    "start_time": "2023-04-16T12:31:22.551Z"
   },
   {
    "duration": 16,
    "start_time": "2023-04-16T12:32:51.019Z"
   },
   {
    "duration": 17,
    "start_time": "2023-04-16T12:34:46.919Z"
   },
   {
    "duration": 561,
    "start_time": "2023-04-16T12:35:38.323Z"
   },
   {
    "duration": 5014,
    "start_time": "2023-04-16T12:35:38.886Z"
   },
   {
    "duration": 4,
    "start_time": "2023-04-16T12:35:43.902Z"
   },
   {
    "duration": 11,
    "start_time": "2023-04-16T12:35:43.909Z"
   },
   {
    "duration": 55,
    "start_time": "2023-04-16T12:35:43.923Z"
   },
   {
    "duration": 16,
    "start_time": "2023-04-16T12:35:43.980Z"
   },
   {
    "duration": 12,
    "start_time": "2023-04-16T12:35:43.998Z"
   },
   {
    "duration": 11,
    "start_time": "2023-04-16T12:35:44.013Z"
   },
   {
    "duration": 14,
    "start_time": "2023-04-16T12:35:44.025Z"
   },
   {
    "duration": 12,
    "start_time": "2023-04-16T12:35:44.041Z"
   },
   {
    "duration": 39,
    "start_time": "2023-04-16T12:35:44.055Z"
   },
   {
    "duration": 14,
    "start_time": "2023-04-16T12:35:44.096Z"
   },
   {
    "duration": 13,
    "start_time": "2023-04-16T12:35:44.113Z"
   },
   {
    "duration": 11,
    "start_time": "2023-04-16T12:35:44.129Z"
   },
   {
    "duration": 4,
    "start_time": "2023-04-16T12:35:44.142Z"
   },
   {
    "duration": 128,
    "start_time": "2023-04-16T12:35:44.147Z"
   },
   {
    "duration": 23,
    "start_time": "2023-04-16T12:35:44.277Z"
   },
   {
    "duration": 32,
    "start_time": "2023-04-16T12:35:44.302Z"
   },
   {
    "duration": 30,
    "start_time": "2023-04-16T12:35:44.336Z"
   },
   {
    "duration": 18,
    "start_time": "2023-04-16T12:35:44.368Z"
   },
   {
    "duration": 16,
    "start_time": "2023-04-16T12:35:44.388Z"
   },
   {
    "duration": 21,
    "start_time": "2023-04-16T12:35:44.406Z"
   },
   {
    "duration": 15,
    "start_time": "2023-04-16T12:35:44.428Z"
   }
  ],
  "kernelspec": {
   "display_name": "Python 3 (ipykernel)",
   "language": "python",
   "name": "python3"
  },
  "language_info": {
   "codemirror_mode": {
    "name": "ipython",
    "version": 3
   },
   "file_extension": ".py",
   "mimetype": "text/x-python",
   "name": "python",
   "nbconvert_exporter": "python",
   "pygments_lexer": "ipython3",
   "version": "3.9.12"
  },
  "toc": {
   "base_numbering": 1,
   "nav_menu": {},
   "number_sections": true,
   "sideBar": true,
   "skip_h1_title": true,
   "title_cell": "Table of Contents",
   "title_sidebar": "Contents",
   "toc_cell": true,
   "toc_position": {},
   "toc_section_display": true,
   "toc_window_display": true
  }
 },
 "nbformat": 4,
 "nbformat_minor": 5
}
